{
 "cells": [
  {
   "cell_type": "code",
   "execution_count": 1,
   "metadata": {},
   "outputs": [],
   "source": [
    "import hdffiles as hd"
   ]
  },
  {
   "cell_type": "code",
   "execution_count": 2,
   "metadata": {},
   "outputs": [
    {
     "data": {
      "text/plain": [
       "<module 'hdffiles' from '/workspace/zhaoty/GWToolkit/notebooks/hdffiles.py'>"
      ]
     },
     "execution_count": 2,
     "metadata": {},
     "output_type": "execute_result"
    }
   ],
   "source": [
    "hd"
   ]
  },
  {
   "cell_type": "code",
   "execution_count": 2,
   "metadata": {},
   "outputs": [],
   "source": [
    "import readligo as rl\n",
    "from pycbc.types.timeseries import TimeSeries\n",
    "from lal import LIGOTimeGPS\n",
    "from pycbc.psd import interpolate\n",
    "import numpy as np\n",
    "import matplotlib.pyplot as plt\n",
    "from utils import Data_utils,Glitch_Generator\n",
    "from astropy import constants as const\n",
    "import hdffiles as hd\n",
    "from tqdm import tqdm\n",
    "\n",
    "class PSD_Sampler(object):\n",
    "    def __init__(self,datadir='/workspace/zhaoty/O1_data/',random_seed=42,noise_interval = 4096,target_sampling_rate = 4096):\n",
    "        self.datadir = datadir\n",
    "        self.random_seed = random_seed\n",
    "        self.filelist =  rl.FileList(directory=self.datadir) \n",
    "        self.noise_timeline = hd.NoiseTimeline(background_data_directory= self.datadir,\n",
    "                                            random_seed=self.random_seed)\n",
    "        self.noise_interval = noise_interval\n",
    "        self.dq_bits=(0, 1, 2, 3)\n",
    "        self.inj_bits=(0, 1, 2, 4)\n",
    "\n",
    "        self.original_sampling_rate = 16384\n",
    "        self.target_sampling_rate = target_sampling_rate\n",
    "        self.PSDs = None\n",
    "    \n",
    "    def gps_time_sampler(self,):\n",
    "\n",
    "        delta_t = int(self.noise_interval/2)\n",
    "        '''\n",
    "    half of Width of the background noise interval (in seconds) around the event_time,\n",
    "    ; which is used to make the injection. Should be larger than (see below):\n",
    "    ;   sample_length = seconds_before_event + seconds_after_event\n",
    "    ; because we need to crop off the edges that are corrupted by the whitening.\n",
    "        '''\n",
    "        #sample is interval middle point\n",
    "        noise_times = self.noise_timeline.sample(delta_t=delta_t,dq_bits=self.dq_bits,inj_bits=self.inj_bits,return_paths=False)\n",
    "        start = noise_times - delta_t\n",
    "        return start\n",
    "\n",
    "    def generate_psd(self,start,ifo = 'H1',signal_length = 8):\n",
    "        \n",
    "        sampling_factor = int(self.original_sampling_rate / self.target_sampling_rate)\n",
    "        stop = start + self.noise_interval\n",
    "        \n",
    "        strain, time, dqmask, injmask = rl.getstrain_cvmfs(start, stop, ifo, self.filelist)\n",
    "\n",
    "        strain = strain[::sampling_factor]\n",
    "\n",
    "        timeseries = TimeSeries(initial_array=strain,\n",
    "                                delta_t=1.0/self.target_sampling_rate,\n",
    "                                epoch=LIGOTimeGPS(start))\n",
    "        psd = timeseries.psd(4)\n",
    "        psd = interpolate(psd, delta_f = 1 / signal_length)\n",
    "        return psd\n",
    "\n",
    "    def generate_psds(self,num,ifo = 'H1',signal_length = 8):\n",
    "        psds = np.zeros([num,int(self.target_sampling_rate/2*signal_length+1)])\n",
    "        \n",
    "        for i in tqdm(range(num)):\n",
    "            start = psd_sampler.gps_time_sampler()\n",
    "            psd = psd_sampler.generate_psd(start,ifo = ifo,signal_length = signal_length)\n",
    "            psds[i,:] = np.sqrt(psd.data)\n",
    "\n",
    "        self.PSDs = psds\n",
    "        print('Generate {} PSDs from real LIGO noise done !!!'.format(num))"
   ]
  },
  {
   "cell_type": "code",
   "execution_count": 3,
   "metadata": {},
   "outputs": [
    {
     "name": "stdout",
     "output_type": "stream",
     "text": [
      "Using data directory /workspace/zhaoty/O1_H1_all/ ...\n"
     ]
    }
   ],
   "source": [
    "psd_sampler = PSD_Sampler(datadir='/workspace/zhaoty/O1_H1_all/')"
   ]
  },
  {
   "cell_type": "code",
   "execution_count": 4,
   "metadata": {},
   "outputs": [
    {
     "name": "stdout",
     "output_type": "stream",
     "text": [
      "1126072320 1137254400\n"
     ]
    }
   ],
   "source": [
    "print(psd_sampler.noise_timeline.gps_start_time,psd_sampler.noise_timeline.gps_end_time)"
   ]
  },
  {
   "cell_type": "code",
   "execution_count": 5,
   "metadata": {},
   "outputs": [
    {
     "data": {
      "text/plain": [
       "1847"
      ]
     },
     "execution_count": 5,
     "metadata": {},
     "output_type": "execute_result"
    }
   ],
   "source": [
    "len(psd_sampler.noise_timeline.hdf_files)"
   ]
  },
  {
   "cell_type": "code",
   "execution_count": 32,
   "metadata": {},
   "outputs": [
    {
     "name": "stdout",
     "output_type": "stream",
     "text": [
      "Using data directory /workspace/zhaoty/O1_data/ ...\n"
     ]
    },
    {
     "name": "stderr",
     "output_type": "stream",
     "text": [
      "100%|██████████| 10/10 [06:20<00:00, 38.05s/it]"
     ]
    },
    {
     "name": "stdout",
     "output_type": "stream",
     "text": [
      "Generate 10 PSDs from real LIGO noise done !!!\n"
     ]
    },
    {
     "name": "stderr",
     "output_type": "stream",
     "text": [
      "\n"
     ]
    }
   ],
   "source": [
    "psd_sampler = PSD_Sampler()\n",
    "#start = psd_sampler.gps_time_sampler()\n",
    "#psd = psd_sampler.generate_psd(start)\n",
    "psd_sampler.generate_psds(10)\n",
    "\n",
    "\n"
   ]
  },
  {
   "cell_type": "code",
   "execution_count": 6,
   "metadata": {},
   "outputs": [
    {
     "data": {
      "text/plain": [
       "1132267520"
      ]
     },
     "execution_count": 6,
     "metadata": {},
     "output_type": "execute_result"
    }
   ],
   "source": [
    "psd_sampler.gps_time_sampler()"
   ]
  },
  {
   "cell_type": "code",
   "execution_count": 11,
   "metadata": {},
   "outputs": [],
   "source": [
    "def generate_psd(start,ifo = 'H1',noise_interval = 4096,signal_length = 8):\n",
    "    original_sampling_rate = 16384\n",
    "    target_sampling_rate = 4096\n",
    "    sampling_factor = int(original_sampling_rate / target_sampling_rate)\n",
    "    stop = start + noise_interval\n",
    "    \n",
    "    strain, time, dqmask, injmask = rl.getstrain_cvmfs(start, stop, ifo, filelist)\n",
    "\n",
    "    strain = strain[::sampling_factor]\n",
    "\n",
    "    timeseries = TimeSeries(initial_array=strain,\n",
    "                            delta_t=1.0/target_sampling_rate,\n",
    "                            epoch=LIGOTimeGPS(start))\n",
    "    psd = timeseries.psd(4)\n",
    "    psd = interpolate(psd, delta_f = 1 / signal_length)\n",
    "    return psd"
   ]
  },
  {
   "cell_type": "code",
   "execution_count": 12,
   "metadata": {},
   "outputs": [],
   "source": [
    "psd = generate_psd(start,stop)"
   ]
  },
  {
   "cell_type": "code",
   "execution_count": 13,
   "metadata": {},
   "outputs": [
    {
     "data": {
      "text/plain": [
       "[<matplotlib.lines.Line2D at 0x7f19e699d8b0>]"
      ]
     },
     "execution_count": 13,
     "metadata": {},
     "output_type": "execute_result"
    },
    {
     "data": {
      "image/png": "[encoded data removed]",
      "text/plain": [
       "<Figure size 432x288 with 1 Axes>"
      ]
     },
     "metadata": {
      "needs_background": "light"
     },
     "output_type": "display_data"
    }
   ],
   "source": [
    "\n",
    "plt.loglog(psd.sample_frequencies,np.sqrt(psd.data))"
   ]
  },
  {
   "cell_type": "code",
   "execution_count": 11,
   "metadata": {},
   "outputs": [],
   "source": [
    "from astropy import constants as const\n",
    "from scipy import constants as C"
   ]
  },
  {
   "cell_type": "code",
   "execution_count": 3,
   "metadata": {},
   "outputs": [
    {
     "data": {
      "text/plain": [
       "float"
      ]
     },
     "execution_count": 3,
     "metadata": {},
     "output_type": "execute_result"
    }
   ],
   "source": [
    "M_sun = float(const.M_sun.base)\n",
    "m1_range = [1.4*M_sun,30.0*M_sun]\n",
    "type(1.4*M_sun)"
   ]
  },
  {
   "cell_type": "code",
   "execution_count": 7,
   "metadata": {},
   "outputs": [],
   "source": [
    "Glitch_gen = Glitch_Generator(sampling_rate=target_sampling_rate,time_duration=signal_length)"
   ]
  },
  {
   "cell_type": "code",
   "execution_count": 27,
   "metadata": {},
   "outputs": [
    {
     "name": "stdout",
     "output_type": "stream",
     "text": [
      "Gaussian\n",
      "SG\n",
      "RD\n",
      "SL\n",
      "36.45738794954764 0.5\n"
     ]
    }
   ],
   "source": [
    "types = ['Gaussian','SG','RD','SL']\n",
    "for type in types:\n",
    "    print(type)\n",
    "    a = Glitch_gen.generate_glitchs( 1,type=type)\n"
   ]
  },
  {
   "cell_type": "code",
   "execution_count": 17,
   "metadata": {},
   "outputs": [
    {
     "data": {
      "text/plain": [
       "1.563762213211569"
      ]
     },
     "execution_count": 17,
     "metadata": {},
     "output_type": "execute_result"
    }
   ],
   "source": [
    "Glitch_gen.liner_random(1,2)"
   ]
  },
  {
   "cell_type": "code",
   "execution_count": 18,
   "metadata": {},
   "outputs": [
    {
     "name": "stdout",
     "output_type": "stream",
     "text": [
      "[      nan       nan       nan ... 698.29785 698.35114 698.4044 ]\n"
     ]
    },
    {
     "name": "stderr",
     "output_type": "stream",
     "text": [
      "/tmp/ipykernel_75670/2051538394.py:5: RuntimeWarning: invalid value encountered in power\n",
      "  print((5 * C.G * m_c / C.c**3)**(-5/8)* tau**(5/8))\n"
     ]
    }
   ],
   "source": [
    "m_1 = 2.0 * float(const.M_sun.base)\n",
    "m_2 = 3.5 * float(const.M_sun.base)\n",
    "m_c = (m_1 * m_2)**(3/5) / (m_1 + m_2)**(1/5)\n",
    "tau = Glitch_gen.sample_times - 6.0\n",
    "print((5 * C.G * m_c / C.c**3)**(-5/8)* tau**(5/8))"
   ]
  },
  {
   "cell_type": "code",
   "execution_count": 25,
   "metadata": {},
   "outputs": [
    {
     "name": "stdout",
     "output_type": "stream",
     "text": [
      "[-6.        -5.999756  -5.9995117 -5.9992676 -5.9990234 -5.9987793\n",
      " -5.998535  -5.998291  -5.998047  -5.9978027] [nan nan nan nan nan nan nan nan nan nan]\n"
     ]
    },
    {
     "name": "stderr",
     "output_type": "stream",
     "text": [
      "/tmp/ipykernel_75670/3032046924.py:1: RuntimeWarning: invalid value encountered in power\n",
      "  print(tau[:10],tau[:10]**(5/8))\n"
     ]
    }
   ],
   "source": [
    "print(tau[:10],tau[:10]**(5/8))"
   ]
  },
  {
   "cell_type": "code",
   "execution_count": 19,
   "metadata": {},
   "outputs": [
    {
     "data": {
      "text/plain": [
       "-0.0"
      ]
     },
     "execution_count": 19,
     "metadata": {},
     "output_type": "execute_result"
    }
   ],
   "source": [
    "a[0]"
   ]
  },
  {
   "cell_type": "code",
   "execution_count": 18,
   "metadata": {},
   "outputs": [],
   "source": [
    "t0 = Glitch_gen.liner_random(Glitch_gen.t0_range[0],Glitch_gen.t0_range[1])"
   ]
  },
  {
   "cell_type": "code",
   "execution_count": 26,
   "metadata": {},
   "outputs": [
    {
     "data": {
      "text/plain": [
       "(-1.172692620049643+2.8311304278186875j)"
      ]
     },
     "execution_count": 26,
     "metadata": {},
     "output_type": "execute_result"
    }
   ],
   "source": [
    "(-6)**(5/8)"
   ]
  },
  {
   "cell_type": "code",
   "execution_count": 1,
   "metadata": {},
   "outputs": [],
   "source": []
  },
  {
   "cell_type": "code",
   "execution_count": 2,
   "metadata": {},
   "outputs": [],
   "source": []
  },
  {
   "cell_type": "code",
   "execution_count": 3,
   "metadata": {},
   "outputs": [],
   "source": [
    "q = noise_timeline._get_hdf_files() "
   ]
  },
  {
   "cell_type": "code",
   "execution_count": 4,
   "metadata": {},
   "outputs": [
    {
     "data": {
      "text/plain": [
       "[{'file_path': '/workspace/zhaoty/O1_data/H-H1_LOSC_16_V1-1126072320-4096.hdf5',\n",
       "  'start_time': 1126072320,\n",
       "  'detector': 'H1',\n",
       "  'duration': 4096,\n",
       "  'inj_mask': array([31, 31, 31, ..., 31, 31, 31], dtype=int32),\n",
       "  'dq_mask': array([  0,   0,   0, ..., 127, 127, 127], dtype=int32)},\n",
       " {'file_path': '/workspace/zhaoty/O1_data/H-H1_LOSC_16_V1-1126076416-4096.hdf5',\n",
       "  'start_time': 1126076416,\n",
       "  'detector': 'H1',\n",
       "  'duration': 4096,\n",
       "  'inj_mask': array([31, 31, 31, ..., 31, 31, 31], dtype=int32),\n",
       "  'dq_mask': array([127, 127, 127, ..., 127, 127, 127], dtype=int32)},\n",
       " {'file_path': '/workspace/zhaoty/O1_data/H-H1_LOSC_16_V1-1126080512-4096.hdf5',\n",
       "  'start_time': 1126080512,\n",
       "  'detector': 'H1',\n",
       "  'duration': 4096,\n",
       "  'inj_mask': array([31, 31, 31, ..., 31, 31, 31], dtype=int32),\n",
       "  'dq_mask': array([127, 127, 127, ..., 127, 127, 127], dtype=int32)},\n",
       " {'file_path': '/workspace/zhaoty/O1_data/H-H1_LOSC_16_V1-1126084608-4096.hdf5',\n",
       "  'start_time': 1126084608,\n",
       "  'detector': 'H1',\n",
       "  'duration': 4096,\n",
       "  'inj_mask': array([31, 31, 31, ..., 31, 31, 31], dtype=int32),\n",
       "  'dq_mask': array([127, 127, 127, ..., 127, 127, 127], dtype=int32)},\n",
       " {'file_path': '/workspace/zhaoty/O1_data/H-H1_LOSC_16_V1-1126088704-4096.hdf5',\n",
       "  'start_time': 1126088704,\n",
       "  'detector': 'H1',\n",
       "  'duration': 4096,\n",
       "  'inj_mask': array([31, 31, 31, ..., 31, 31, 31], dtype=int32),\n",
       "  'dq_mask': array([127, 127, 127, ..., 127, 127, 127], dtype=int32)},\n",
       " {'file_path': '/workspace/zhaoty/O1_data/H-H1_LOSC_16_V1-1126092800-4096.hdf5',\n",
       "  'start_time': 1126092800,\n",
       "  'detector': 'H1',\n",
       "  'duration': 4096,\n",
       "  'inj_mask': array([31, 31, 31, ..., 31, 31, 31], dtype=int32),\n",
       "  'dq_mask': array([127, 127, 127, ..., 127, 127, 127], dtype=int32)},\n",
       " {'file_path': '/workspace/zhaoty/O1_data/H-H1_LOSC_16_V1-1126096896-4096.hdf5',\n",
       "  'start_time': 1126096896,\n",
       "  'detector': 'H1',\n",
       "  'duration': 4096,\n",
       "  'inj_mask': array([31, 31, 31, ..., 31, 31, 31], dtype=int32),\n",
       "  'dq_mask': array([127, 127, 127, ..., 127, 127, 127], dtype=int32)},\n",
       " {'file_path': '/workspace/zhaoty/O1_data/H-H1_LOSC_16_V1-1126100992-4096.hdf5',\n",
       "  'start_time': 1126100992,\n",
       "  'detector': 'H1',\n",
       "  'duration': 4096,\n",
       "  'inj_mask': array([31, 31, 31, ..., 31, 31, 31], dtype=int32),\n",
       "  'dq_mask': array([127, 127, 127, ..., 127, 127, 127], dtype=int32)},\n",
       " {'file_path': '/workspace/zhaoty/O1_data/H-H1_LOSC_16_V1-1126105088-4096.hdf5',\n",
       "  'start_time': 1126105088,\n",
       "  'detector': 'H1',\n",
       "  'duration': 4096,\n",
       "  'inj_mask': array([31, 31, 31, ..., 31, 31, 31], dtype=int32),\n",
       "  'dq_mask': array([127, 127, 127, ..., 127, 127, 127], dtype=int32)},\n",
       " {'file_path': '/workspace/zhaoty/O1_data/H-H1_LOSC_16_V1-1126109184-4096.hdf5',\n",
       "  'start_time': 1126109184,\n",
       "  'detector': 'H1',\n",
       "  'duration': 4096,\n",
       "  'inj_mask': array([31, 31, 31, ..., 31, 31, 31], dtype=int32),\n",
       "  'dq_mask': array([127, 127, 127, ..., 127, 127, 127], dtype=int32)}]"
      ]
     },
     "execution_count": 4,
     "metadata": {},
     "output_type": "execute_result"
    }
   ],
   "source": [
    "q"
   ]
  },
  {
   "cell_type": "code",
   "execution_count": 5,
   "metadata": {},
   "outputs": [
    {
     "data": {
      "text/plain": [
       "1126072320"
      ]
     },
     "execution_count": 5,
     "metadata": {},
     "output_type": "execute_result"
    }
   ],
   "source": [
    "noise_timeline.gps_start_time"
   ]
  },
  {
   "cell_type": "code",
   "execution_count": 8,
   "metadata": {},
   "outputs": [
    {
     "data": {
      "text/plain": [
       "{'file_path': '/workspace/zhaoty/O1_data/H-H1_LOSC_16_V1-1126076416-4096.hdf5',\n",
       " 'start_time': 1126076416,\n",
       " 'detector': 'H1',\n",
       " 'duration': 4096,\n",
       " 'inj_mask': array([31, 31, 31, ..., 31, 31, 31], dtype=int32),\n",
       " 'dq_mask': array([127, 127, 127, ..., 127, 127, 127], dtype=int32)}"
      ]
     },
     "execution_count": 8,
     "metadata": {},
     "output_type": "execute_result"
    }
   ],
   "source": [
    "q[1]\n",
    "#.split('/')[-1].split('_')[0].split('-')[-1]"
   ]
  },
  {
   "cell_type": "code",
   "execution_count": 11,
   "metadata": {},
   "outputs": [
    {
     "name": "stdout",
     "output_type": "stream",
     "text": [
      "1126110494\n",
      "1126110494 is valid\n",
      "Done\n"
     ]
    }
   ],
   "source": [
    "dq_bits=(0, 1, 2, 3)\n",
    "inj_bits=(0, 1, 2, 4)\n",
    "delta_t = 16\n",
    "gps_time = noise_timeline.rng.randint(noise_timeline.gps_start_time + delta_t,\n",
    "                                        noise_timeline.gps_end_time - delta_t)\n",
    "print(gps_time)\n",
    "            # If it is a valid time, return it\n",
    "if noise_timeline.is_valid(gps_time=gps_time, delta_t=delta_t,\n",
    "                             dq_bits=dq_bits, inj_bits=inj_bits):\n",
    "    print(gps_time,'is valid')\n",
    "print('Done')"
   ]
  },
  {
   "cell_type": "code",
   "execution_count": 13,
   "metadata": {},
   "outputs": [
    {
     "data": {
      "text/plain": [
       "1126078601"
      ]
     },
     "execution_count": 13,
     "metadata": {},
     "output_type": "execute_result"
    }
   ],
   "source": [
    "noise_timeline.sample(delta_t=16)"
   ]
  },
  {
   "cell_type": "code",
   "execution_count": 11,
   "metadata": {},
   "outputs": [
    {
     "data": {
      "text/plain": [
       "1126072320"
      ]
     },
     "execution_count": 11,
     "metadata": {},
     "output_type": "execute_result"
    }
   ],
   "source": [
    "noise_timeline.gps_start_time"
   ]
  },
  {
   "cell_type": "code",
   "execution_count": 4,
   "metadata": {},
   "outputs": [],
   "source": [
    "noise_times = noise_timeline.sample(delta_t = 4,dq_bits=dq_bits,inj_bits=inj_bits)"
   ]
  },
  {
   "cell_type": "code",
   "execution_count": 7,
   "metadata": {},
   "outputs": [
    {
     "ename": "TypeError",
     "evalue": "slice indices must be integers or None or have an __index__ method",
     "output_type": "error",
     "traceback": [
      "\u001b[0;31m---------------------------------------------------------------------------\u001b[0m",
      "\u001b[0;31mTypeError\u001b[0m                                 Traceback (most recent call last)",
      "\u001b[0;32m/tmp/ipykernel_78684/2561598311.py\u001b[0m in \u001b[0;36m<module>\u001b[0;34m\u001b[0m\n\u001b[0;32m----> 1\u001b[0;31m \u001b[0mnoise_times\u001b[0m \u001b[0;34m=\u001b[0m \u001b[0mnoise_timeline\u001b[0m\u001b[0;34m.\u001b[0m\u001b[0msample\u001b[0m\u001b[0;34m(\u001b[0m\u001b[0mdelta_t\u001b[0m\u001b[0;34m=\u001b[0m\u001b[0;36m2048.0\u001b[0m\u001b[0;34m,\u001b[0m\u001b[0mdq_bits\u001b[0m\u001b[0;34m=\u001b[0m\u001b[0mdq_bits\u001b[0m\u001b[0;34m,\u001b[0m\u001b[0minj_bits\u001b[0m\u001b[0;34m=\u001b[0m\u001b[0minj_bits\u001b[0m\u001b[0;34m)\u001b[0m\u001b[0;34m\u001b[0m\u001b[0;34m\u001b[0m\u001b[0m\n\u001b[0m",
      "\u001b[0;32m/workspace/zhaoty/GWToolkit/notebooks/hdffiles.py\u001b[0m in \u001b[0;36msample\u001b[0;34m(self, delta_t, dq_bits, inj_bits, return_paths)\u001b[0m\n\u001b[1;32m    512\u001b[0m \u001b[0;34m\u001b[0m\u001b[0m\n\u001b[1;32m    513\u001b[0m             \u001b[0;31m# If it is a valid time, return it\u001b[0m\u001b[0;34m\u001b[0m\u001b[0;34m\u001b[0m\u001b[0;34m\u001b[0m\u001b[0m\n\u001b[0;32m--> 514\u001b[0;31m             if self.is_valid(gps_time=gps_time, delta_t=delta_t,\n\u001b[0m\u001b[1;32m    515\u001b[0m                              dq_bits=dq_bits, inj_bits=inj_bits):\n\u001b[1;32m    516\u001b[0m                 \u001b[0;32mif\u001b[0m \u001b[0mreturn_paths\u001b[0m\u001b[0;34m:\u001b[0m\u001b[0;34m\u001b[0m\u001b[0;34m\u001b[0m\u001b[0m\n",
      "\u001b[0;32m/workspace/zhaoty/GWToolkit/notebooks/hdffiles.py\u001b[0m in \u001b[0;36mis_valid\u001b[0;34m(self, gps_time, delta_t, dq_bits, inj_bits)\u001b[0m\n\u001b[1;32m    428\u001b[0m         \u001b[0;31m# Select the mask intervals\u001b[0m\u001b[0;34m\u001b[0m\u001b[0;34m\u001b[0m\u001b[0;34m\u001b[0m\u001b[0m\n\u001b[1;32m    429\u001b[0m         \u001b[0menvironment\u001b[0m \u001b[0;34m=\u001b[0m\u001b[0;31m \u001b[0m\u001b[0;31m\\\u001b[0m\u001b[0;34m\u001b[0m\u001b[0;34m\u001b[0m\u001b[0m\n\u001b[0;32m--> 430\u001b[0;31m             dict(h1_inj_mask=self.timeline['h1_inj_mask'][idx_start:idx_end],\n\u001b[0m\u001b[1;32m    431\u001b[0m                  \u001b[0ml1_inj_mask\u001b[0m\u001b[0;34m=\u001b[0m\u001b[0mself\u001b[0m\u001b[0;34m.\u001b[0m\u001b[0mtimeline\u001b[0m\u001b[0;34m[\u001b[0m\u001b[0;34m'l1_inj_mask'\u001b[0m\u001b[0;34m]\u001b[0m\u001b[0;34m[\u001b[0m\u001b[0midx_start\u001b[0m\u001b[0;34m:\u001b[0m\u001b[0midx_end\u001b[0m\u001b[0;34m]\u001b[0m\u001b[0;34m,\u001b[0m\u001b[0;34m\u001b[0m\u001b[0;34m\u001b[0m\u001b[0m\n\u001b[1;32m    432\u001b[0m                  \u001b[0mh1_dq_mask\u001b[0m\u001b[0;34m=\u001b[0m\u001b[0mself\u001b[0m\u001b[0;34m.\u001b[0m\u001b[0mtimeline\u001b[0m\u001b[0;34m[\u001b[0m\u001b[0;34m'h1_dq_mask'\u001b[0m\u001b[0;34m]\u001b[0m\u001b[0;34m[\u001b[0m\u001b[0midx_start\u001b[0m\u001b[0;34m:\u001b[0m\u001b[0midx_end\u001b[0m\u001b[0;34m]\u001b[0m\u001b[0;34m,\u001b[0m\u001b[0;34m\u001b[0m\u001b[0;34m\u001b[0m\u001b[0m\n",
      "\u001b[0;31mTypeError\u001b[0m: slice indices must be integers or None or have an __index__ method"
     ]
    }
   ],
   "source": [
    "noise_times = noise_timeline.sample(delta_t=2048.0,dq_bits=dq_bits,inj_bits=inj_bits)"
   ]
  },
  {
   "cell_type": "code",
   "execution_count": 25,
   "metadata": {},
   "outputs": [
    {
     "ename": "TypeError",
     "evalue": "'float' object cannot be interpreted as an integer",
     "output_type": "error",
     "traceback": [
      "\u001b[0;31m---------------------------------------------------------------------------\u001b[0m",
      "\u001b[0;31mTypeError\u001b[0m                                 Traceback (most recent call last)",
      "\u001b[0;32m/tmp/ipykernel_78684/3184195109.py\u001b[0m in \u001b[0;36m<module>\u001b[0;34m\u001b[0m\n\u001b[0;32m----> 1\u001b[0;31m \u001b[0mnp\u001b[0m\u001b[0;34m.\u001b[0m\u001b[0mzeros\u001b[0m\u001b[0;34m(\u001b[0m\u001b[0;34m[\u001b[0m\u001b[0;36m100\u001b[0m\u001b[0;34m,\u001b[0m\u001b[0;36m20.0\u001b[0m\u001b[0;34m]\u001b[0m\u001b[0;34m)\u001b[0m\u001b[0;34m\u001b[0m\u001b[0;34m\u001b[0m\u001b[0m\n\u001b[0m",
      "\u001b[0;31mTypeError\u001b[0m: 'float' object cannot be interpreted as an integer"
     ]
    }
   ],
   "source": [
    "np.zeros([100,20.0])"
   ]
  },
  {
   "cell_type": "code",
   "execution_count": 1,
   "metadata": {},
   "outputs": [],
   "source": [
    "import sys\n",
    "sys.path.append('..')\n",
    "import pandas as pd\n",
    "import numpy as np\n",
    "from gwtoolkit.gw.readligo import FileList, getstrain_cvmfs\n",
    "from gwtoolkit.gw.gwosc_cvmfs import GWOSC"
   ]
  },
  {
   "cell_type": "code",
   "execution_count": 79,
   "metadata": {},
   "outputs": [],
   "source": [
    "class Glitch_Sampler(GWOSC):\n",
    "    def __init__(self, glitch_dir = '../tests/gw/trainingset_v1d1_metadata.csv', signal_length=8):\n",
    "        super().__init__(ifo='H1', data_dir='/workspace/zhaoty/dataset/O1_H1_All/',\n",
    "                         sampling_frequency=4096, noise_interval=1024,\n",
    "                 dq_bits=(0, 1, 2, 3), inj_bits=(0, 1, 2, 4))\n",
    "        self.glitch_meta_data = pd.read_csv(glitch_dir)\n",
    "        self.peak_time = self.glitch_meta_data.peak_time.astype('float64') + self.glitch_meta_data.peak_time_ns.astype('float64') * 1e-9\n",
    "        self.start_time = self.glitch_meta_data.start_time.astype('float64') + self.glitch_meta_data.start_time_ns.astype('float64') * 1e-9\n",
    "        self.duration = self.glitch_meta_data.duration\n",
    "        self.signal_length = signal_length\n",
    "    \n",
    "    def get_start_time(self):\n",
    "        idx = np.random.randint(0,high=len(self.glitch_meta_data))\n",
    "        if self.duration[idx] > self.signal_length:\n",
    "            return int(self.start_time[idx] - np.random.rand(1) * (self.duration[idx] - self.signal_length +0.5))\n",
    "        else:\n",
    "            return int(self.start_time[idx] + np.random.rand(1) * (self.signal_length - self.duration[idx] +0.5))\n",
    "    \n",
    "    def get_strain(self,):\n",
    "        strain = None\n",
    "        while strain is None:\n",
    "            try:\n",
    "                start_time = self.get_start_time()\n",
    "                strain, time = getstrain_cvmfs(start_time, start_time+self.signal_length,\n",
    "                                                 self.ifo, self.filelist, inj_dq_cache=0)\n",
    "            except:\n",
    "                pass\n",
    "        sampling_factor = int(self.original_sampling_rate / self.sampling_frequency)\n",
    "        strain = strain[::sampling_factor]\n",
    "        return strain\n",
    "        "
   ]
  },
  {
   "cell_type": "code",
   "execution_count": 80,
   "metadata": {},
   "outputs": [
    {
     "name": "stdout",
     "output_type": "stream",
     "text": [
      "Using data directory /workspace/zhaoty/dataset/O1_H1_All/ ...\n"
     ]
    }
   ],
   "source": [
    "glitch_sampler = Glitch_Sampler()\n",
    "glitch_meta_data = glitch_sampler.glitch_meta_data"
   ]
  },
  {
   "cell_type": "code",
   "execution_count": 81,
   "metadata": {},
   "outputs": [
    {
     "data": {
      "text/plain": [
       "'H1'"
      ]
     },
     "execution_count": 81,
     "metadata": {},
     "output_type": "execute_result"
    }
   ],
   "source": [
    "#glitch_sampler.get_start_time()\n",
    "glitch_sampler.ifo\n",
    "\n"
   ]
  },
  {
   "cell_type": "code",
   "execution_count": 42,
   "metadata": {},
   "outputs": [
    {
     "name": "stdout",
     "output_type": "stream",
     "text": [
      "Using data directory /workspace/zhaoty/dataset/O1_H1_All/ ...\n"
     ]
    }
   ],
   "source": [
    "filelist = FileList(directory='/workspace/zhaoty/dataset/O1_H1_All/')"
   ]
  },
  {
   "cell_type": "code",
   "execution_count": 70,
   "metadata": {},
   "outputs": [],
   "source": [
    "start_time = glitch_sampler.get_start_time()\n",
    "strain, time = getstrain_cvmfs(1132666173, 1132666173+glitch_sampler.signal_length,\n",
    "                                                 glitch_sampler.ifo, glitch_sampler.filelist, inj_dq_cache=0)"
   ]
  },
  {
   "cell_type": "code",
   "execution_count": 75,
   "metadata": {},
   "outputs": [
    {
     "data": {
      "text/plain": [
       "(131072,)"
      ]
     },
     "execution_count": 75,
     "metadata": {},
     "output_type": "execute_result"
    }
   ],
   "source": [
    "strain.shape"
   ]
  },
  {
   "cell_type": "code",
   "execution_count": 76,
   "metadata": {},
   "outputs": [
    {
     "data": {
      "text/plain": [
       "1131526736"
      ]
     },
     "execution_count": 76,
     "metadata": {},
     "output_type": "execute_result"
    }
   ],
   "source": [
    "glitch_sampler.get_start_time()"
   ]
  },
  {
   "cell_type": "code",
   "execution_count": 83,
   "metadata": {},
   "outputs": [
    {
     "data": {
      "text/plain": [
       "(131072,)"
      ]
     },
     "execution_count": 83,
     "metadata": {},
     "output_type": "execute_result"
    }
   ],
   "source": [
    "glitch_sampler.get_strain().shape"
   ]
  },
  {
   "cell_type": "code",
   "execution_count": 66,
   "metadata": {},
   "outputs": [
    {
     "data": {
      "text/plain": [
       "32.0"
      ]
     },
     "execution_count": 66,
     "metadata": {},
     "output_type": "execute_result"
    }
   ],
   "source": [
    "131072/4096"
   ]
  },
  {
   "cell_type": "code",
   "execution_count": 68,
   "metadata": {},
   "outputs": [
    {
     "data": {
      "text/plain": [
       "8"
      ]
     },
     "execution_count": 68,
     "metadata": {},
     "output_type": "execute_result"
    }
   ],
   "source": [
    "glitch_sampler.signal_length"
   ]
  },
  {
   "cell_type": "code",
   "execution_count": 15,
   "metadata": {},
   "outputs": [
    {
     "data": {
      "text/plain": [
       "Index(['event_time', 'ifo', 'peak_time', 'peak_time_ns', 'start_time',\n",
       "       'start_time_ns', 'duration', 'search', 'process_id', 'event_id',\n",
       "       'peak_frequency', 'central_freq', 'bandwidth', 'channel', 'amplitude',\n",
       "       'snr', 'confidence', 'chisq', 'chisq_dof', 'param_one_name',\n",
       "       'param_one_value', 'gravityspy_id', 'label', 'sample_type', 'url1',\n",
       "       'url2', 'url3', 'url4'],\n",
       "      dtype='object')"
      ]
     },
     "execution_count": 15,
     "metadata": {},
     "output_type": "execute_result"
    }
   ],
   "source": [
    "glitch_meta_data.keys()"
   ]
  },
  {
   "cell_type": "code",
   "execution_count": 5,
   "metadata": {},
   "outputs": [
    {
     "data": {
      "image/png": "[encoded data removed]",
      "text/plain": [
       "<Figure size 432x288 with 1 Axes>"
      ]
     },
     "metadata": {
      "needs_background": "light"
     },
     "output_type": "display_data"
    }
   ],
   "source": [
    "hist = glitch_meta_data.duration.hist(bins='auto', density=True)"
   ]
  },
  {
   "cell_type": "code",
   "execution_count": 7,
   "metadata": {},
   "outputs": [
    {
     "data": {
      "image/png": "[encoded data removed]",
      "text/plain": [
       "<Figure size 432x288 with 1 Axes>"
      ]
     },
     "metadata": {
      "needs_background": "light"
     },
     "output_type": "display_data"
    }
   ],
   "source": [
    "hist2 = glitch_meta_data.amplitude.hist( density=True)"
   ]
  },
  {
   "cell_type": "code",
   "execution_count": 19,
   "metadata": {},
   "outputs": [
    {
     "data": {
      "text/plain": [
       "0       931639909\n",
       "1       558593034\n",
       "2       976317882\n",
       "3       365233898\n",
       "4       197264909\n",
       "          ...    \n",
       "7961    710937023\n",
       "7962    324218034\n",
       "7963    433593034\n",
       "7964    496093034\n",
       "7965    306639909\n",
       "Name: peak_time_ns, Length: 7966, dtype: int64"
      ]
     },
     "execution_count": 19,
     "metadata": {},
     "output_type": "execute_result"
    }
   ],
   "source": [
    "glitch_meta_data.peak_time_ns"
   ]
  },
  {
   "cell_type": "code",
   "execution_count": 21,
   "metadata": {},
   "outputs": [],
   "source": []
  },
  {
   "cell_type": "code",
   "execution_count": 23,
   "metadata": {},
   "outputs": [
    {
     "data": {
      "text/plain": [
       "pandas.core.series.Series"
      ]
     },
     "execution_count": 23,
     "metadata": {},
     "output_type": "execute_result"
    }
   ],
   "source": [
    "type(glitch_peak_time)"
   ]
  },
  {
   "cell_type": "code",
   "execution_count": 24,
   "metadata": {},
   "outputs": [],
   "source": []
  },
  {
   "cell_type": "code",
   "execution_count": 26,
   "metadata": {},
   "outputs": [
    {
     "data": {
      "text/plain": [
       "0       0.18750\n",
       "1       0.94238\n",
       "2       0.04688\n",
       "3       0.82422\n",
       "4       2.00366\n",
       "         ...   \n",
       "7961    9.00391\n",
       "7962    0.03906\n",
       "7963    1.16675\n",
       "7964    0.10156\n",
       "7965    4.09375\n",
       "Name: duration, Length: 7966, dtype: float64"
      ]
     },
     "execution_count": 26,
     "metadata": {},
     "output_type": "execute_result"
    }
   ],
   "source": []
  },
  {
   "cell_type": "code",
   "execution_count": null,
   "metadata": {},
   "outputs": [],
   "source": []
  }
 ],
 "metadata": {
  "interpreter": {
   "hash": "d4d1e4263499bec80672ea0156c357c1ee493ec2b1c70f0acce89fc37c4a6abe"
  },
  "kernelspec": {
   "display_name": "Python 3 (ipykernel)",
   "language": "python",
   "name": "python3"
  },
  "language_info": {
   "codemirror_mode": {
    "name": "ipython",
    "version": 3
   },
   "file_extension": ".py",
   "mimetype": "text/x-python",
   "name": "python",
   "nbconvert_exporter": "python",
   "pygments_lexer": "ipython3",
   "version": "3.8.10"
  }
 },
 "nbformat": 4,
 "nbformat_minor": 4
}
