{
 "cells": [
  {
   "cell_type": "code",
   "execution_count": 100,
   "id": "f4f4e6b0-4ace-478d-8999-19067698ec43",
   "metadata": {},
   "outputs": [
    {
     "name": "stdout",
     "output_type": "stream",
     "text": [
      "20\n"
     ]
    }
   ],
   "source": [
    "!ls /workspace/zhaoty/dataset/ligo_H1_test | wc -l"
   ]
  },
  {
   "cell_type": "markdown",
   "id": "b32ee8bb-b242-443f-a4a8-d13fca521fee",
   "metadata": {},
   "source": [
    "## `gwtoolkit.gw.hdffiles.sampleing`"
   ]
  },
  {
   "cell_type": "code",
   "execution_count": 1,
   "id": "4dcccf16-b53d-4dd0-a97c-eaff01744838",
   "metadata": {
    "tags": []
   },
   "outputs": [],
   "source": [
    "import sys\n",
    "sys.path.append('..')\n",
    "\n",
    "import numpy as np\n",
    "import pandas as pd\n",
    "import matplotlib.pyplot as plt\n",
    "from gwtoolkit.gw import readligo as rl\n",
    "from gwtoolkit.gw import hdffiles as hd\n",
    "from scipy.signal import find_peaks"
   ]
  },
  {
   "cell_type": "code",
   "execution_count": 2,
   "id": "dbf0e30d-707b-41b5-bc73-edaddfe2196b",
   "metadata": {},
   "outputs": [
    {
     "name": "stdout",
     "output_type": "stream",
     "text": [
      "Using data directory /workspace/zhaoty/dataset/ligo_H1_test ...\n"
     ]
    }
   ],
   "source": [
    "datadir = '/workspace/zhaoty/dataset/ligo_H1_test'\n",
    "num = 120\n",
    "signal_length = 8 # sec\n",
    "random_seed = 42\n",
    "original_sampling_rate = 16384\n",
    "target_sampling_rate = 4096\n",
    "\n",
    "noise_interval = 4096\n",
    "delta_t = noise_interval//2\n",
    "# delta_t (int): The number of seconds around `gps_time`\n",
    "#                 which we also want to be valid (because the sample will\n",
    "#                 be an interval).\n",
    "dq_bits=(0, 1, 2, 3)\n",
    "inj_bits=(0, 1, 2, 4)\n",
    "\n",
    "filelist = rl.FileList(directory=datadir)\n",
    "noise_timeline = hd.NoiseTimeline(background_data_directory=datadir,\n",
    "                                  random_seed=random_seed)"
   ]
  },
  {
   "cell_type": "code",
   "execution_count": 3,
   "id": "58b16112-da6a-4892-8495-abd34377809c",
   "metadata": {},
   "outputs": [
    {
     "data": {
      "text/plain": [
       "(20,\n",
       " '/workspace/zhaoty/dataset/ligo_H1_test/H-H1_LOSC_16_V1-1126162432-4096.hdf5')"
      ]
     },
     "execution_count": 3,
     "metadata": {},
     "output_type": "execute_result"
    }
   ],
   "source": [
    "len(noise_timeline.hdf_file_paths), noise_timeline.hdf_file_paths[0]"
   ]
  },
  {
   "cell_type": "code",
   "execution_count": 4,
   "id": "56df8b4d-bb4d-447e-a22e-b14a2c8616b8",
   "metadata": {},
   "outputs": [
    {
     "data": {
      "text/plain": [
       "(20,\n",
       " [{'file_path': '/workspace/zhaoty/dataset/ligo_H1_test/H-H1_LOSC_16_V1-1126154240-4096.hdf5',\n",
       "   'start_time': 1126154240,\n",
       "   'detector': 'H1',\n",
       "   'duration': 4096,\n",
       "   'inj_mask': array([31, 31, 31, ..., 31, 31, 31], dtype=int32),\n",
       "   'dq_mask': array([127, 127, 127, ..., 127, 127, 127], dtype=int32)},\n",
       "  {'file_path': '/workspace/zhaoty/dataset/ligo_H1_test/H-H1_LOSC_16_V1-1126158336-4096.hdf5',\n",
       "   'start_time': 1126158336,\n",
       "   'detector': 'H1',\n",
       "   'duration': 4096,\n",
       "   'inj_mask': array([31, 31, 31, ..., 31, 31, 31], dtype=int32),\n",
       "   'dq_mask': array([127, 127, 127, ..., 127, 127, 127], dtype=int32)},\n",
       "  {'file_path': '/workspace/zhaoty/dataset/ligo_H1_test/H-H1_LOSC_16_V1-1126162432-4096.hdf5',\n",
       "   'start_time': 1126162432,\n",
       "   'detector': 'H1',\n",
       "   'duration': 4096,\n",
       "   'inj_mask': array([31, 31, 31, ..., 31, 31, 31], dtype=int32),\n",
       "   'dq_mask': array([127, 127, 127, ...,   0,   0,   0], dtype=int32)}])"
      ]
     },
     "execution_count": 4,
     "metadata": {},
     "output_type": "execute_result"
    }
   ],
   "source": [
    "len(noise_timeline.hdf_files), noise_timeline.hdf_files[-3:]"
   ]
  },
  {
   "cell_type": "code",
   "execution_count": 5,
   "id": "7a9f9c6b-9184-451f-a7ce-99dab4bbb537",
   "metadata": {},
   "outputs": [
    {
     "data": {
      "text/plain": [
       "{'h1_inj_mask': array([31, 31, 31, ..., 31, 31, 31], dtype=int32),\n",
       " 'l1_inj_mask': array([0, 0, 0, ..., 0, 0, 0], dtype=int32),\n",
       " 'h1_dq_mask': array([0, 0, 0, ..., 0, 0, 0], dtype=int32),\n",
       " 'l1_dq_mask': array([0, 0, 0, ..., 0, 0, 0], dtype=int32)}"
      ]
     },
     "execution_count": 5,
     "metadata": {},
     "output_type": "execute_result"
    }
   ],
   "source": [
    "noise_timeline.timeline"
   ]
  },
  {
   "cell_type": "code",
   "execution_count": 6,
   "id": "4eb2a4d1-0224-403a-9ae4-893343d41d0c",
   "metadata": {},
   "outputs": [
    {
     "name": "stdout",
     "output_type": "stream",
     "text": [
      "CPU times: user 7.15 s, sys: 256 ms, total: 7.4 s\n",
      "Wall time: 7.4 s\n"
     ]
    },
    {
     "data": {
      "text/plain": [
       "1126109184"
      ]
     },
     "execution_count": 6,
     "metadata": {},
     "output_type": "execute_result"
    }
   ],
   "source": [
    "%%time\n",
    "noise_timeline.sample(delta_t=delta_t, dq_bits=dq_bits,\n",
    "                      inj_bits=inj_bits, return_paths=False)"
   ]
  },
  {
   "cell_type": "code",
   "execution_count": 7,
   "id": "1582a6c9-5c2d-4984-ae7f-bc283f385e81",
   "metadata": {},
   "outputs": [
    {
     "data": {
      "text/plain": [
       "0.35947418212890625"
      ]
     },
     "execution_count": 7,
     "metadata": {},
     "output_type": "execute_result"
    }
   ],
   "source": [
    "# 考察占据的大小\n",
    "from sys import getsizeof\n",
    "getsizeof(noise_timeline.timeline['h1_inj_mask'])/1024/1024 # MB"
   ]
  },
  {
   "cell_type": "code",
   "execution_count": 8,
   "id": "29cb989a-8333-4ec4-9bee-d39fc05c40f9",
   "metadata": {},
   "outputs": [
    {
     "name": "stdout",
     "output_type": "stream",
     "text": [
      "7 bits in the data quality bitmask:\n",
      "0 : 1\n",
      "1 : 3\n",
      "2 : 7\n",
      "3 : 15\n",
      "4 : 31\n",
      "5 : 63\n",
      "6 : 127\n"
     ]
    },
    {
     "data": {
      "text/plain": [
       "127    62341\n",
       "0      31224\n",
       "63       544\n",
       "31        78\n",
       "19        21\n",
       "dtype: int64"
      ]
     },
     "execution_count": 8,
     "metadata": {},
     "output_type": "execute_result"
    }
   ],
   "source": [
    "dq_bits_temp = ()\n",
    "print('7 bits in the data quality bitmask:')\n",
    "for i in range(7):\n",
    "    dq_bits_temp += (i,)\n",
    "    print(i, ':', sum([2**i for i in dq_bits_temp]))\n",
    "pd.Series(noise_timeline.timeline['h1_dq_mask']).value_counts()"
   ]
  },
  {
   "cell_type": "code",
   "execution_count": 9,
   "id": "ee03cc19-879d-4083-9797-ad64fa11f182",
   "metadata": {},
   "outputs": [
    {
     "name": "stdout",
     "output_type": "stream",
     "text": [
      "5 bits in the injection bitmask:\n",
      "0 : 1\n",
      "1 : 3\n",
      "2 : 7\n",
      "3 : 15\n",
      "4 : 31\n"
     ]
    },
    {
     "data": {
      "text/plain": [
       "31    81920\n",
       "0     12288\n",
       "dtype: int64"
      ]
     },
     "execution_count": 9,
     "metadata": {},
     "output_type": "execute_result"
    }
   ],
   "source": [
    "inj_bits_temp = ()\n",
    "print('5 bits in the injection bitmask:')\n",
    "for i in range(5):\n",
    "    inj_bits_temp += (i,)\n",
    "    print(i, ':', sum([2**i for i in inj_bits_temp]))\n",
    "pd.Series(noise_timeline.timeline['h1_inj_mask']).value_counts()"
   ]
  },
  {
   "cell_type": "code",
   "execution_count": 10,
   "id": "9e8a31a1-e96d-4fa2-8204-2b27b6ae315c",
   "metadata": {},
   "outputs": [
    {
     "data": {
      "text/plain": [
       "63"
      ]
     },
     "execution_count": 10,
     "metadata": {},
     "output_type": "execute_result"
    }
   ],
   "source": [
    "dq_bits_temp = (0,1,2,3,4,5)\n",
    "sum([2**i for i in dq_bits_temp])"
   ]
  },
  {
   "cell_type": "code",
   "execution_count": 11,
   "id": "bc25b738-320a-40a9-a4ba-a87695449e1c",
   "metadata": {},
   "outputs": [],
   "source": [
    "dqbitmask = 64\n",
    "injbitmask = 7\n",
    "length = 8\n",
    "x = (noise_timeline.timeline['h1_dq_mask'] > dqbitmask) * 1  # >? or >=?\n",
    "x *= (noise_timeline.timeline['h1_inj_mask'] > injbitmask) * 1  # >? or >=?\n",
    "peaks, properties = find_peaks(x, plateau_size=length)\n",
    "\n",
    "# check\n",
    "data = noise_timeline.timeline['h1_dq_mask']\n",
    "for l, r in zip(properties['left_edges'], properties['right_edges']):\n",
    "    assert [d for d in data[l : r+1] if d <= dqbitmask] == [] #(1, 3, 7, 15, 31, 63, 127)\n",
    "    assert len(data[l : r+1]) >= length\n",
    "\n",
    "# check\n",
    "data = noise_timeline.timeline['h1_inj_mask']\n",
    "for l, r in zip(properties['left_edges'], properties['right_edges']):\n",
    "    assert [d for d in data[l : r+1] if d <= injbitmask] == []   # <=? or <?\n",
    "    assert len(data[l : r+1]) >= length\n",
    "    \n",
    "num_segments = len(properties['left_edges'])\n",
    "index_segments = np.random.randint(num_segments)\n",
    "index_time_l, index_time_r = properties['left_edges'][index_segments], properties['right_edges'][index_segments]\n",
    "index_time = np.arange(index_time_r+1-index_time_l-length+1) \n",
    "\n",
    "# check\n",
    "data = noise_timeline.timeline['h1_dq_mask']\n",
    "i = -1\n",
    "assert np.alltrue(data[index_time_l+i:index_time_l+i+length] >dqbitmask) is not True\n",
    "for i in index_time:\n",
    "    assert np.alltrue(data[index_time_l+i:index_time_l+i+length] >dqbitmask)\n",
    "i += 1\n",
    "assert np.alltrue(data[index_time_l+i:index_time_l+i+length] >dqbitmask) is not True\n",
    "# random check\n",
    "i = np.random.choice(index_time)\n",
    "assert np.alltrue(data[index_time_l+i:index_time_l+i+length] >dqbitmask)\n",
    "\n",
    "# check\n",
    "data = noise_timeline.timeline['h1_inj_mask']\n",
    "i = -1\n",
    "assert np.alltrue(data[index_time_l+i:index_time_l+i+length] >injbitmask) is not True\n",
    "for i in index_time:\n",
    "    assert np.alltrue(data[index_time_l+i:index_time_l+i+length] >injbitmask)\n",
    "i += 1\n",
    "assert np.alltrue(data[index_time_l+i:index_time_l+i+length] >injbitmask) is not True\n",
    "# random check\n",
    "i = np.random.choice(index_time)\n",
    "assert np.alltrue(data[index_time_l+i:index_time_l+i+length] >injbitmask)"
   ]
  },
  {
   "cell_type": "code",
   "execution_count": 12,
   "id": "3bd6eb85-b19c-4726-90bf-48c62dcde4e6",
   "metadata": {},
   "outputs": [
    {
     "data": {
      "text/plain": [
       "1126072412"
      ]
     },
     "execution_count": 12,
     "metadata": {},
     "output_type": "execute_result"
    }
   ],
   "source": [
    "# Our output of start_time for a valid noise_segment\n",
    "noise_timeline.gps_start_time + np.random.choice(index_time)"
   ]
  },
  {
   "cell_type": "code",
   "execution_count": 13,
   "id": "1a703cbc-f6ac-4acc-bc2b-90a76f6b5398",
   "metadata": {},
   "outputs": [],
   "source": [
    "def _inj_dq_check(timeline, dqbitmask, injbitmask, length):\n",
    "    \"\"\"\n",
    "    timeline <= noise_timeline.timeline['h1_dq_mask']\n",
    "    timeline <= noise_timeline.timeline['h1_inj_mask']\n",
    "    \"\"\"\n",
    "    x = (noise_timeline.timeline['h1_dq_mask'] > dqbitmask) * 1  # >? or >=?\n",
    "    x *= (noise_timeline.timeline['h1_inj_mask'] > injbitmask) * 1  # >? or >=?\n",
    "    peaks, properties = find_peaks(x, plateau_size=length)\n",
    "\n",
    "    index_segments = np.random.randint(len(properties['left_edges']))\n",
    "    index_time_l, index_time_r = properties['left_edges'][index_segments], properties['right_edges'][index_segments]\n",
    "    return np.arange(index_time_r+1-index_time_l-length+1)\n",
    "    \n",
    "def sampleing(noise_interval, dq_bits, inj_bits):\n",
    "    dqbitmask = sum([2**i for i in dq_bits])\n",
    "    injbitmask = sum([2**i for i in inj_bits])\n",
    "    index_time = _inj_dq_check(noise_timeline.timeline, dqbitmask, injbitmask, noise_interval)\n",
    "    return noise_timeline.gps_start_time + np.random.choice(index_time)"
   ]
  },
  {
   "cell_type": "code",
   "execution_count": 17,
   "id": "15b38b85-9b2e-406c-beba-a256cc25ea8e",
   "metadata": {},
   "outputs": [
    {
     "name": "stdout",
     "output_type": "stream",
     "text": [
      "CPU times: user 57.5 s, sys: 1.79 s, total: 59.3 s\n",
      "Wall time: 59.3 s\n"
     ]
    },
    {
     "data": {
      "text/plain": [
       "1126105088"
      ]
     },
     "execution_count": 17,
     "metadata": {},
     "output_type": "execute_result"
    }
   ],
   "source": [
    "%%time\n",
    "noise_timeline.sample(delta_t=delta_t, dq_bits=dq_bits,\n",
    "                      inj_bits=inj_bits, return_paths=False)"
   ]
  },
  {
   "cell_type": "code",
   "execution_count": 19,
   "id": "2d6ec81c-3424-492d-84d8-092e1828be15",
   "metadata": {},
   "outputs": [
    {
     "name": "stdout",
     "output_type": "stream",
     "text": [
      "524 µs ± 7.5 µs per loop (mean ± std. dev. of 7 runs, 1000 loops each)\n"
     ]
    }
   ],
   "source": [
    "%timeit sampleing(noise_interval, dq_bits, inj_bits)"
   ]
  },
  {
   "cell_type": "markdown",
   "id": "0ea8ce3c-34ed-4f08-87e3-b47e1ee11aa1",
   "metadata": {},
   "source": [
    "现在找一个 valid GPS noise for PSD 可以提高 7 个数据量级\n",
    "\n",
    "---"
   ]
  },
  {
   "cell_type": "code",
   "execution_count": 3,
   "id": "4b414262-5400-4e98-8283-74c0388ce3b8",
   "metadata": {},
   "outputs": [
    {
     "name": "stdout",
     "output_type": "stream",
     "text": [
      "total 264\n",
      "drwxr-xr-x 2 1000 1001 135168 Dec  9 17:17 O1_H1_All\n",
      "drwxr-xr-x 2 1000 1001 114688 Dec  9 21:43 O1_L1_ALL\n",
      "drwxr-xr-x 2 1000 1001   4096 Dec  8 20:33 ligo_H1_test\n",
      "drwxr-xr-x 2 1000 1001   4096 Dec  8 10:11 taet_data\n",
      "drwxr-xr-x 2 1000 1001   4096 Dec  8 10:11 valid_data\n",
      "1848\n",
      "1680\n"
     ]
    }
   ],
   "source": [
    "!ls -l /workspace/zhaoty/dataset/\n",
    "!ls -l /workspace/zhaoty/dataset/O1_H1_All | wc -l\n",
    "!ls -l /workspace/zhaoty/dataset/O1_L1_ALL | wc -l"
   ]
  },
  {
   "cell_type": "code",
   "execution_count": 35,
   "id": "98c447f9-7e04-4cb0-a75e-3c7c6742bbcc",
   "metadata": {},
   "outputs": [
    {
     "ename": "NameError",
     "evalue": "name 'datadir' is not defined",
     "output_type": "error",
     "traceback": [
      "\u001b[0;31m---------------------------------------------------------------------------\u001b[0m",
      "\u001b[0;31mNameError\u001b[0m                                 Traceback (most recent call last)",
      "\u001b[0;32m/tmp/ipykernel_56360/2623103562.py\u001b[0m in \u001b[0;36m<module>\u001b[0;34m\u001b[0m\n\u001b[1;32m     14\u001b[0m \u001b[0minj_bits\u001b[0m\u001b[0;34m=\u001b[0m\u001b[0;34m(\u001b[0m\u001b[0;36m0\u001b[0m\u001b[0;34m,\u001b[0m \u001b[0;36m1\u001b[0m\u001b[0;34m,\u001b[0m \u001b[0;36m2\u001b[0m\u001b[0;34m,\u001b[0m \u001b[0;36m4\u001b[0m\u001b[0;34m)\u001b[0m\u001b[0;34m\u001b[0m\u001b[0;34m\u001b[0m\u001b[0m\n\u001b[1;32m     15\u001b[0m \u001b[0;34m\u001b[0m\u001b[0m\n\u001b[0;32m---> 16\u001b[0;31m \u001b[0mfilelist\u001b[0m \u001b[0;34m=\u001b[0m \u001b[0mrl\u001b[0m\u001b[0;34m.\u001b[0m\u001b[0mFileList\u001b[0m\u001b[0;34m(\u001b[0m\u001b[0mdirectory\u001b[0m\u001b[0;34m=\u001b[0m\u001b[0mdatadir\u001b[0m\u001b[0;34m)\u001b[0m\u001b[0;34m\u001b[0m\u001b[0;34m\u001b[0m\u001b[0m\n\u001b[0m\u001b[1;32m     17\u001b[0m \u001b[0;34m\u001b[0m\u001b[0m\n\u001b[1;32m     18\u001b[0m \u001b[0mifo\u001b[0m\u001b[0;34m=\u001b[0m\u001b[0;34m'H1'\u001b[0m\u001b[0;34m\u001b[0m\u001b[0;34m\u001b[0m\u001b[0m\n",
      "\u001b[0;31mNameError\u001b[0m: name 'datadir' is not defined"
     ]
    }
   ],
   "source": [
    "data_dir = '/workspace/zhaoty/dataset/ligo_H1_test'\n",
    "num = 120\n",
    "signal_length = 8 # sec\n",
    "random_seed = 42\n",
    "# original_sampling_rate = 16384\n",
    "target_sampling_rate = 4096\n",
    "\n",
    "noise_interval = 4096\n",
    "# delta_t = noise_interval//2\n",
    "# delta_t (int): The number of seconds around `gps_time`\n",
    "#                 which we also want to be valid (because the sample will\n",
    "#                 be an interval).\n",
    "dq_bits=(0, 1, 2, 3)\n",
    "inj_bits=(0, 1, 2, 4)\n",
    "\n",
    "filelist = rl.FileList(directory=datadir)\n",
    "\n",
    "ifo='H1'\n",
    "\n",
    "noise_timeline = hd.NoiseTimeline(background_data_directory=datadir,\n",
    "                                  random_seed=random_seed)"
   ]
  },
  {
   "cell_type": "code",
   "execution_count": 3,
   "id": "df3090ff-c989-4af3-a510-b6c346321b9d",
   "metadata": {},
   "outputs": [
    {
     "data": {
      "text/plain": [
       "1126074927"
      ]
     },
     "execution_count": 3,
     "metadata": {},
     "output_type": "execute_result"
    }
   ],
   "source": [
    "start = noise_timeline.sampleing(noise_interval, dq_bits, inj_bits)\n",
    "start"
   ]
  },
  {
   "cell_type": "code",
   "execution_count": 6,
   "id": "6ae2f898-68f4-406d-af03-c94aea378997",
   "metadata": {},
   "outputs": [],
   "source": [
    "import scipy.signal\n",
    "\n",
    "def estimate_psd_cvmfs(start, ifo='H1', signal_length=8, is_interpolate=None,\n",
    "                 **kwds):\n",
    "    \"\"\"\n",
    "    Calculate the power spectral density of this time series.\n",
    "    \n",
    "    Parameters\n",
    "    ----------\n",
    "    start : \n",
    "    ifo : \n",
    "    signal_length : \n",
    "    is_interpolate :\n",
    "\n",
    "    kwds: keywords (default)\n",
    "    Additional keyword arguments are passed on to the `scipy.signal.welch` method.\n",
    "        fs : float, optional\n",
    "            Sampling frequency of the `x` time series. Defaults to 1.0.\n",
    "        window : str or tuple or array_like, optional\n",
    "            Desired window to use. If `window` is a string or tuple, it is\n",
    "            passed to `get_window` to generate the window values, which are\n",
    "            DFT-even by default. See `get_window` for a list of windows and\n",
    "            required parameters. If `window` is array_like it will be used\n",
    "            directly as the window and its length must be nperseg. Defaults\n",
    "            to a Hann window.\n",
    "        nperseg : int, optional\n",
    "            Length of each segment. Defaults to None, but if window is str or\n",
    "            tuple, is set to 256, and if window is array_like, is set to the\n",
    "            length of the window.\n",
    "        noverlap : int, optional\n",
    "            Number of points to overlap between segments. If `None`,\n",
    "            ``noverlap = nperseg // 2``. Defaults to `None`.\n",
    "        nfft : int, optional\n",
    "            Length of the FFT used, if a zero padded FFT is desired. If\n",
    "            `None`, the FFT length is `nperseg`. Defaults to `None`.\n",
    "        detrend : str or function or `False`, optional\n",
    "            Specifies how to detrend each segment. If `detrend` is a\n",
    "            string, it is passed as the `type` argument to the `detrend`\n",
    "            function. If it is a function, it takes a segment and returns a\n",
    "            detrended segment. If `detrend` is `False`, no detrending is\n",
    "            done. Defaults to 'constant'.\n",
    "        return_onesided : bool, optional\n",
    "            If `True`, return a one-sided spectrum for real data. If\n",
    "            `False` return a two-sided spectrum. Defaults to `True`, but for\n",
    "            complex data, a two-sided spectrum is always returned.\n",
    "        scaling : { 'density', 'spectrum' }, optional\n",
    "            Selects between computing the power spectral density ('density')\n",
    "            where `Pxx` has units of V**2/Hz and computing the power\n",
    "            spectrum ('spectrum') where `Pxx` has units of V**2, if `x`\n",
    "            is measured in V and `fs` is measured in Hz. Defaults to\n",
    "            'density'\n",
    "        axis : int, optional\n",
    "            Axis along which the periodogram is computed; the default is\n",
    "            over the last axis (i.e. ``axis=-1``).\n",
    "        average : { 'mean', 'median' }, optional\n",
    "            Method to use when averaging periodograms. Defaults to 'mean'.\n",
    "\n",
    "    Returns\n",
    "    -------\n",
    "    f : ndarray\n",
    "        Array of sample frequencies.\n",
    "    Pxx : ndarray\n",
    "        Power spectral density or power spectrum of x.\n",
    "    \"\"\"\n",
    "    strain, time = rl.getstrain_cvmfs(start, start+signal_length, \n",
    "                                      ifo, filelist,\n",
    "                                      inj_dq_cache=0)\n",
    "\n",
    "    original_sampling_rate = 1/(time[1] - time[0])\n",
    "\n",
    "    freq, Pxx = scipy.signal.welch(strain,\n",
    "                                   fs=original_sampling_rate, **kwds\n",
    "                                   )\n",
    "    if is_interpolate: # TODO maybe droped and insert it to whiten\n",
    "        f = scipy.interpolate.interp1d(freq, Pxx)\n",
    "        freq = np.fft.rfftfreq(signal_length*target_sampling_rate, 1.0/target_sampling_rate)\n",
    "        return freq, f(freq)\n",
    "    else:\n",
    "        return freq, Pxx"
   ]
  },
  {
   "cell_type": "code",
   "execution_count": 5,
   "id": "27240159-8552-425b-8520-15b8a2e1530a",
   "metadata": {},
   "outputs": [
    {
     "data": {
      "text/plain": [
       "(129, 129)"
      ]
     },
     "execution_count": 5,
     "metadata": {},
     "output_type": "execute_result"
    }
   ],
   "source": [
    "freq, Pxx = estimate_psd_cvmfs(start, ifo='H1',signal_length=8, average='mean')\n",
    "freq.size, Pxx.size"
   ]
  },
  {
   "cell_type": "code",
   "execution_count": null,
   "id": "2c87ddda-d0ee-4fc4-b14e-917b6e082766",
   "metadata": {},
   "outputs": [],
   "source": []
  },
  {
   "cell_type": "code",
   "execution_count": null,
   "id": "d04872b6-dc9d-4adb-b465-24f914636da4",
   "metadata": {},
   "outputs": [],
   "source": []
  },
  {
   "cell_type": "code",
   "execution_count": null,
   "id": "eeb91140-cc9f-4432-8824-835fffbe8412",
   "metadata": {},
   "outputs": [],
   "source": []
  },
  {
   "cell_type": "code",
   "execution_count": 4,
   "id": "8184f45b-9490-439f-886a-ab55be0f58ee",
   "metadata": {},
   "outputs": [],
   "source": [
    "import sys\n",
    "import numpy as np\n",
    "import pandas as pd\n",
    "sys.path.append('..')\n",
    "import matplotlib.pyplot as plt\n",
    "from gwtoolkit.gw.readligo import getstrain_cvmfs\n",
    "from gwtoolkit.gw.gwosc_cvmfs import GWOSC"
   ]
  },
  {
   "cell_type": "code",
   "execution_count": 5,
   "id": "c2dd67b8-1010-4ac2-9046-dfb69302a2af",
   "metadata": {},
   "outputs": [
    {
     "name": "stdout",
     "output_type": "stream",
     "text": [
      "Using data directory /workspace/zhaoty/dataset/O1_H1_All/ ...\n"
     ]
    },
    {
     "data": {
      "text/plain": [
       "(0, None, None)"
      ]
     },
     "execution_count": 5,
     "metadata": {},
     "output_type": "execute_result"
    }
   ],
   "source": [
    "ifo = 'H1'\n",
    "data_dir = '/workspace/zhaoty/dataset/O1_H1_All/'\n",
    "sampling_frequency = 4096\n",
    "noise_interval = 4096//4\n",
    "gwosc = GWOSC(ifo, data_dir, sampling_frequency, noise_interval)\n",
    "gwosc.start, gwosc.strain, gwosc.time"
   ]
  },
  {
   "cell_type": "code",
   "execution_count": 6,
   "id": "2a8e2f0a-f33b-4720-90bf-9e5f12720a16",
   "metadata": {},
   "outputs": [
    {
     "data": {
      "text/plain": [
       "(1126988098,\n",
       " (16777216,),\n",
       " array([1.12698810e+09, 1.12698810e+09, 1.12698810e+09, ...,\n",
       "        1.12698912e+09, 1.12698912e+09, 1.12698912e+09]))"
      ]
     },
     "execution_count": 6,
     "metadata": {},
     "output_type": "execute_result"
    }
   ],
   "source": [
    "gwosc.update_strain()\n",
    "gwosc.start, gwosc.strain.shape, gwosc.time"
   ]
  },
  {
   "cell_type": "code",
   "execution_count": 8,
   "id": "90afe02c-77c1-44da-ab21-3d3619245d39",
   "metadata": {},
   "outputs": [
    {
     "data": {
      "text/plain": [
       "array([31, 31, 31, ..., 23, 23, 23], dtype=int32)"
      ]
     },
     "execution_count": 8,
     "metadata": {},
     "output_type": "execute_result"
    }
   ],
   "source": [
    "gwosc.noise_timeline.timeline['h1_inj_mask']"
   ]
  },
  {
   "cell_type": "code",
   "execution_count": null,
   "id": "39a90512-3f9f-4ab5-b118-b83d4031fbbc",
   "metadata": {},
   "outputs": [],
   "source": []
  },
  {
   "cell_type": "code",
   "execution_count": null,
   "id": "91d60dfe-3ee8-45fa-90c8-562d18f21af1",
   "metadata": {},
   "outputs": [],
   "source": []
  },
  {
   "cell_type": "code",
   "execution_count": 6,
   "id": "00bcca21-b7b0-4bbf-addb-cdffb6ada4fa",
   "metadata": {},
   "outputs": [
    {
     "data": {
      "text/plain": [
       "(1048577, 1048577)"
      ]
     },
     "execution_count": 6,
     "metadata": {},
     "output_type": "execute_result"
    },
    {
     "data": {
      "image/png": "[encoded data removed]",
      "text/plain": [
       "<Figure size 432x288 with 1 Axes>"
      ]
     },
     "metadata": {
      "needs_background": "light"
     },
     "output_type": "display_data"
    }
   ],
   "source": [
    "freq, Pxx = gwosc.estimate_psd_cvmfs(seg_sec=noise_interval//8, )\n",
    "plt.loglog(freq, Pxx)\n",
    "freq.size, Pxx.size"
   ]
  },
  {
   "cell_type": "code",
   "execution_count": 22,
   "id": "5510a462-641f-4b91-9f9e-dad5825c911c",
   "metadata": {},
   "outputs": [
    {
     "data": {
      "text/plain": [
       "[<matplotlib.lines.Line2D at 0x7fe0a1cdd2e0>]"
      ]
     },
     "execution_count": 22,
     "metadata": {},
     "output_type": "execute_result"
    },
    {
     "data": {
      "image/png": "[encoded data removed]",
      "text/plain": [
       "<Figure size 432x288 with 1 Axes>"
      ]
     },
     "metadata": {
      "needs_background": "light"
     },
     "output_type": "display_data"
    }
   ],
   "source": [
    "plt.plot(gwosc.time, gwosc.strain)"
   ]
  },
  {
   "cell_type": "code",
   "execution_count": 64,
   "id": "1bcaea89-077f-49b8-809f-29f0531f5344",
   "metadata": {},
   "outputs": [
    {
     "data": {
      "text/plain": [
       "[<matplotlib.lines.Line2D at 0x7facc1bd83a0>]"
      ]
     },
     "execution_count": 64,
     "metadata": {},
     "output_type": "execute_result"
    },
    {
     "data": {
      "image/png": "[encoded data removed]",
      "text/plain": [
       "<Figure size 432x288 with 1 Axes>"
      ]
     },
     "metadata": {
      "needs_background": "light"
     },
     "output_type": "display_data"
    }
   ],
   "source": [
    "plt.plot(det.ifo.time_array, det.ifo.time_domain_strain)\n",
    "# plt.xlim(left=det.ifo.time_array[-1550000], right=det.ifo.time_array[-1400000])"
   ]
  },
  {
   "cell_type": "code",
   "execution_count": null,
   "id": "292397cc-2b69-4264-b348-52e72d45a9f0",
   "metadata": {},
   "outputs": [],
   "source": []
  },
  {
   "cell_type": "code",
   "execution_count": 8,
   "id": "8ae7e99a-b50e-4103-aa2d-d520e5825c49",
   "metadata": {},
   "outputs": [],
   "source": [
    "from gwtoolkit.gw import Detector\n"
   ]
  },
  {
   "cell_type": "code",
   "execution_count": 9,
   "id": "fba95e14-32b2-4063-8530-fdfa569c2009",
   "metadata": {},
   "outputs": [
    {
     "data": {
      "text/plain": [
       "[<matplotlib.lines.Line2D at 0x7fe46a5d3e20>]"
      ]
     },
     "execution_count": 9,
     "metadata": {},
     "output_type": "execute_result"
    },
    {
     "data": {
      "image/png": "[encoded data removed]",
      "text/plain": [
       "<Figure size 432x288 with 1 Axes>"
      ]
     },
     "metadata": {
      "needs_background": "light"
     },
     "output_type": "display_data"
    }
   ],
   "source": [
    "det = Detector('H1', sampling_frequency, 4096)\n",
    "plt.loglog(det.power_spectral_density_array)\n",
    "det.power_spectral_density_array\n",
    "\n",
    "det.ifo.strain_data.set_from_time_domain_strain(gwosc.strain,\n",
    "                                               sampling_frequency,\n",
    "                                               4096,\n",
    "                                               start_time=gwosc.start)\n",
    "plt.loglog(det.power_spectral_density_array)"
   ]
  },
  {
   "cell_type": "code",
   "execution_count": 41,
   "id": "3b56af47-83c9-46da-ba2a-b3d417040a09",
   "metadata": {},
   "outputs": [
    {
     "data": {
      "text/plain": [
       "'H1'"
      ]
     },
     "execution_count": 42,
     "metadata": {},
     "output_type": "execute_result"
    }
   ],
   "source": [
    "det.ifo."
   ]
  },
  {
   "cell_type": "code",
   "execution_count": 19,
   "id": "06747dbe-8227-4eac-a115-4355aac753ad",
   "metadata": {},
   "outputs": [
    {
     "data": {
      "text/plain": [
       "PowerSpectralDensity(psd_file='None', asd_file='/opt/conda/lib/python3.8/site-packages/bilby/gw/detector/noise_curves/aLIGO_O4_high_asd.txt')"
      ]
     },
     "execution_count": 19,
     "metadata": {},
     "output_type": "execute_result"
    }
   ],
   "source": [
    "det.ifo.power_spectral_density"
   ]
  },
  {
   "cell_type": "code",
   "execution_count": 20,
   "id": "946d2457-0f7b-4145-b76a-528f8531233e",
   "metadata": {},
   "outputs": [
    {
     "data": {
      "image/png": "[encoded data removed]",
      "text/plain": [
       "<Figure size 432x288 with 1 Axes>"
      ]
     },
     "metadata": {
      "needs_background": "light"
     },
     "output_type": "display_data"
    }
   ],
   "source": [
    "det.ifo.power_spectral_density = det.ifo.power_spectral_density.from_power_spectral_density_array(freq, Pxx)\n",
    "# det.ifo.minimum_frequency = det.ifo.strain_data.minimum_frequency\n",
    "plt.loglog(det.frequency_array, det.power_spectral_density_array,label='no ifo')\n",
    "plt.loglog(det.ifo.power_spectral_density.frequency_array, \n",
    "           det.ifo.power_spectral_density.psd_array, label='ifo')\n",
    "# plt.loglog(freq, Pxx, label='input')\n",
    "plt.legend();"
   ]
  },
  {
   "cell_type": "code",
   "execution_count": 16,
   "id": "427e22f9-0329-4393-b96d-97488ff2f9c0",
   "metadata": {},
   "outputs": [
    {
     "data": {
      "text/plain": [
       "array([0.00000000e+00, 7.81250000e-03, 1.56250000e-02, ...,\n",
       "       8.19198438e+03, 8.19199219e+03, 8.19200000e+03])"
      ]
     },
     "execution_count": 16,
     "metadata": {},
     "output_type": "execute_result"
    }
   ],
   "source": [
    "det.ifo.power_spectral_density._cache['frequency_array']"
   ]
  },
  {
   "cell_type": "code",
   "execution_count": 17,
   "id": "e4e2609a-b2f7-4e9a-8e6b-1ddcca99be94",
   "metadata": {},
   "outputs": [
    {
     "name": "stderr",
     "output_type": "stream",
     "text": [
      "19:32 bilby INFO    : Generating frequency domain strain from given time domain strain.\n",
      "19:32 bilby INFO    : Applying a tukey window with alpha=9.765625e-05, roll off=0.2\n"
     ]
    },
    {
     "data": {
      "text/plain": [
       "array([-7.31734869e-23, -5.50930580e-23, -3.76881462e-23, ...,\n",
       "       -1.23691156e-22, -1.07678856e-22, -9.09641340e-23])"
      ]
     },
     "execution_count": 17,
     "metadata": {},
     "output_type": "execute_result"
    }
   ],
   "source": [
    "det.time_domain_strain"
   ]
  },
  {
   "cell_type": "code",
   "execution_count": 20,
   "id": "0d97e6eb-beaa-45d7-8427-2961b886d7a2",
   "metadata": {},
   "outputs": [
    {
     "data": {
      "text/plain": [
       "array([0.00000000e+00+0.00000000e+00j, 0.00000000e+00+0.00000000e+00j,\n",
       "       0.00000000e+00+0.00000000e+00j, ...,\n",
       "       3.34299041e-26-4.20722932e-30j, 3.34299162e-26-1.99934530e-30j,\n",
       "       3.34299266e-26+0.00000000e+00j])"
      ]
     },
     "execution_count": 20,
     "metadata": {},
     "output_type": "execute_result"
    }
   ],
   "source": [
    "det.frequency_domain_strain"
   ]
  },
  {
   "cell_type": "code",
   "execution_count": null,
   "id": "87d757e6-43f4-4956-9cc2-46962be4064e",
   "metadata": {},
   "outputs": [],
   "source": []
  },
  {
   "cell_type": "code",
   "execution_count": 1,
   "id": "0185469d-2fc1-45ae-a285-3bba5bad0486",
   "metadata": {},
   "outputs": [],
   "source": [
    "import sys\n",
    "import numpy as np\n",
    "import pandas as pd\n",
    "sys.path.append('..')\n",
    "import matplotlib.pyplot as plt\n",
    "from gwtoolkit.gw import Detector\n",
    "sampling_frequency = 4096\n",
    "duration = 8\n",
    "det = Detector('H1', sampling_frequency, duration)"
   ]
  },
  {
   "cell_type": "code",
   "execution_count": 2,
   "id": "8610d540-a5b2-4dde-bbf4-3734dc01f6b8",
   "metadata": {},
   "outputs": [
    {
     "name": "stdout",
     "output_type": "stream",
     "text": [
      "Using data directory /workspace/zhaoty/dataset/O1_H1_All/ ...\n"
     ]
    }
   ],
   "source": [
    "data_dir = '/workspace/zhaoty/dataset/O1_H1_All/'\n",
    "noise_interval = 1024\n",
    "selected_hdf_file_ratio = 0.05\n",
    "num_length = 4\n",
    "det.load_from_GWOSC(data_dir, noise_interval, selected_hdf_file_ratio, num_length)"
   ]
  },
  {
   "cell_type": "code",
   "execution_count": 3,
   "id": "29d45ba8-1220-4eff-92d2-ac107298d03a",
   "metadata": {},
   "outputs": [
    {
     "data": {
      "text/plain": [
       "92"
      ]
     },
     "execution_count": 3,
     "metadata": {},
     "output_type": "execute_result"
    }
   ],
   "source": [
    "len(det.gwosc.noise_timeline.hdf_files)"
   ]
  },
  {
   "cell_type": "code",
   "execution_count": 4,
   "id": "16cadec6-13a3-406f-a688-cfb777896f57",
   "metadata": {},
   "outputs": [],
   "source": [
    "det.gwosc.update_randomly_strain()"
   ]
  },
  {
   "cell_type": "code",
   "execution_count": 6,
   "id": "03b97296-5de2-479b-8ab7-ba575107ecac",
   "metadata": {},
   "outputs": [
    {
     "name": "stdout",
     "output_type": "stream",
     "text": [
      "(16385, 4092)\n",
      "(16385, 1227)\n"
     ]
    }
   ],
   "source": [
    "freq, Pxx = det.gwosc.estimate_randomly_psd_cvmfs(seg_sec=2, random_timedomain_ratio=0.3)"
   ]
  },
  {
   "cell_type": "code",
   "execution_count": 7,
   "id": "4b780bef-86ae-4b26-b309-7b8c8f2bbee7",
   "metadata": {},
   "outputs": [
    {
     "data": {
      "text/plain": [
       "[<matplotlib.lines.Line2D at 0x7fedeba5c670>]"
      ]
     },
     "execution_count": 7,
     "metadata": {},
     "output_type": "execute_result"
    },
    {
     "data": {
      "image/png": "[encoded data removed]",
      "text/plain": [
       "<Figure size 432x288 with 1 Axes>"
      ]
     },
     "metadata": {
      "needs_background": "light"
     },
     "output_type": "display_data"
    }
   ],
   "source": [
    "plt.loglog(freq, Pxx)"
   ]
  },
  {
   "cell_type": "code",
   "execution_count": null,
   "id": "7de2145d-fdbd-4901-8817-d5c47641deee",
   "metadata": {},
   "outputs": [],
   "source": []
  },
  {
   "cell_type": "code",
   "execution_count": null,
   "id": "949730aa-8597-4be2-a893-4e2bd0c5011e",
   "metadata": {},
   "outputs": [],
   "source": []
  },
  {
   "cell_type": "code",
   "execution_count": 4,
   "id": "a7b68eaf-af71-4572-aa3c-2e865efbc870",
   "metadata": {},
   "outputs": [],
   "source": [
    "# det.gwosc.noise_timeline.hdf_files"
   ]
  },
  {
   "cell_type": "code",
   "execution_count": 5,
   "id": "7dd858a7-d5f9-493b-943e-57ad7bb759e5",
   "metadata": {},
   "outputs": [
    {
     "data": {
      "text/plain": [
       "(0, 1, 2, 3)"
      ]
     },
     "execution_count": 5,
     "metadata": {},
     "output_type": "execute_result"
    }
   ],
   "source": [
    "det.gwosc.dq_bits"
   ]
  },
  {
   "cell_type": "code",
   "execution_count": 4,
   "id": "118b8c27-af23-4df5-8522-1d862b6a45fd",
   "metadata": {},
   "outputs": [],
   "source": []
  },
  {
   "cell_type": "code",
   "execution_count": 7,
   "id": "2b9babf1-bd51-4455-b59d-295a1b7fb969",
   "metadata": {},
   "outputs": [
    {
     "data": {
      "text/plain": [
       "(4, 16777216)"
      ]
     },
     "execution_count": 7,
     "metadata": {},
     "output_type": "execute_result"
    }
   ],
   "source": [
    "det.gwosc.strain_multi.shape"
   ]
  },
  {
   "cell_type": "code",
   "execution_count": 11,
   "id": "cd2e7414-19f0-4c01-8c4e-14ad8fd4d016",
   "metadata": {},
   "outputs": [],
   "source": [
    "import scipy.signal"
   ]
  },
  {
   "cell_type": "code",
   "execution_count": 6,
   "id": "e6af6ff9-7eae-46c8-9a23-0f8d0b481e8c",
   "metadata": {},
   "outputs": [],
   "source": [
    "det.gwosc.update_strain()"
   ]
  },
  {
   "cell_type": "code",
   "execution_count": 7,
   "id": "69a2afbf-d746-4b2a-8bad-bf3def73d095",
   "metadata": {},
   "outputs": [
    {
     "data": {
      "text/plain": [
       "(16777216,)"
      ]
     },
     "execution_count": 7,
     "metadata": {},
     "output_type": "execute_result"
    }
   ],
   "source": [
    "det.gwosc.strain.shape"
   ]
  },
  {
   "cell_type": "code",
   "execution_count": 23,
   "id": "988eecb0-b416-496b-a78e-f8de34354a65",
   "metadata": {},
   "outputs": [],
   "source": [
    "# det.update_psd_from_GWOSC(seg_sec=1)"
   ]
  },
  {
   "cell_type": "code",
   "execution_count": 131,
   "id": "962c543f-24b4-4fae-9131-b60fd11ba3ed",
   "metadata": {},
   "outputs": [],
   "source": [
    "from scipy.signal import find_peaks\n",
    "length = 1024\n",
    "num_length = 1\n",
    "\n",
    "dqbitmask = sum([2**i for i in det.gwosc.dq_bits])\n",
    "injbitmask = sum([2**i for i in det.gwosc.inj_bits])\n",
    "\n",
    "x = (det.gwosc.noise_timeline.timeline['h1_dq_mask'] > dqbitmask) * 1  # >? or >=?\n",
    "x *= (det.gwosc.noise_timeline.timeline['h1_inj_mask'] > injbitmask) * 1  # >? or >=?\n",
    "_, properties = find_peaks(x, plateau_size=length)"
   ]
  },
  {
   "cell_type": "code",
   "execution_count": 132,
   "id": "fa43b412-935b-4241-824e-50057264a5a0",
   "metadata": {},
   "outputs": [
    {
     "data": {
      "text/plain": [
       "{'plateau_sizes': array([3976, 4096, 3487, 4096, 2580, 1869, 1267, 1260, 4096, 3496, 4096,\n",
       "        4096, 4096, 4096, 4096, 4096, 3691, 4096, 4096, 4096]),\n",
       " 'left_edges': array([ 123000,  176128,  380928,  499712,  607593,  897024,  899853,\n",
       "         912033, 1069056, 1077848, 1515520, 1732608, 1875968, 2084864,\n",
       "        2269184, 2301952, 2359296, 2433024, 2527232, 2965504]),\n",
       " 'right_edges': array([ 126975,  180223,  384414,  503807,  610172,  898892,  901119,\n",
       "         913292, 1073151, 1081343, 1519615, 1736703, 1880063, 2088959,\n",
       "        2273279, 2306047, 2362986, 2437119, 2531327, 2969599])}"
      ]
     },
     "execution_count": 132,
     "metadata": {},
     "output_type": "execute_result"
    }
   ],
   "source": [
    "properties"
   ]
  },
  {
   "cell_type": "code",
   "execution_count": 133,
   "id": "cd666a7d-08ce-4871-af21-1013d729ad81",
   "metadata": {},
   "outputs": [
    {
     "data": {
      "text/plain": [
       "array([16])"
      ]
     },
     "execution_count": 133,
     "metadata": {},
     "output_type": "execute_result"
    }
   ],
   "source": [
    "index_segments = np.random.randint(len(properties['left_edges']), size=num_length)\n",
    "index_segments"
   ]
  },
  {
   "cell_type": "code",
   "execution_count": 112,
   "id": "fc5fc256-f1fa-4d0e-88bc-539bfbd352da",
   "metadata": {},
   "outputs": [
    {
     "data": {
      "text/plain": [
       "(array([1875968, 2301952,  499712,  176128]),\n",
       " array([1880063, 2306047,  503807,  180223]))"
      ]
     },
     "execution_count": 112,
     "metadata": {},
     "output_type": "execute_result"
    }
   ],
   "source": [
    "index_time_l, index_time_r = properties['left_edges'][index_segments], properties['right_edges'][index_segments]\n",
    "index_time_l, index_time_r"
   ]
  },
  {
   "cell_type": "code",
   "execution_count": 134,
   "id": "2479d0ea-ad3c-4df6-83b2-30a649ff406a",
   "metadata": {},
   "outputs": [
    {
     "data": {
      "text/plain": [
       "[(1875968, 1224)]"
      ]
     },
     "execution_count": 134,
     "metadata": {},
     "output_type": "execute_result"
    }
   ],
   "source": [
    "[(index_time_l[i], np.random.choice(range(index_time_r[i]+1-index_time_l[i]-length+1)) ) for i in range(num_length)]"
   ]
  },
  {
   "cell_type": "code",
   "execution_count": 116,
   "id": "2ea1cf97-eb27-4672-a818-895d91d67eb7",
   "metadata": {},
   "outputs": [
    {
     "data": {
      "text/plain": [
       "718"
      ]
     },
     "execution_count": 116,
     "metadata": {},
     "output_type": "execute_result"
    }
   ],
   "source": []
  },
  {
   "cell_type": "code",
   "execution_count": 99,
   "id": "740b488b-070d-42de-9b2b-ad7d7c67cec9",
   "metadata": {},
   "outputs": [
    {
     "data": {
      "text/plain": [
       "<BarContainer object of 20 artists>"
      ]
     },
     "execution_count": 99,
     "metadata": {},
     "output_type": "execute_result"
    },
    {
     "data": {
      "image/png": "[encoded data removed]",
      "text/plain": [
       "<Figure size 432x288 with 1 Axes>"
      ]
     },
     "metadata": {
      "needs_background": "light"
     },
     "output_type": "display_data"
    }
   ],
   "source": [
    "plt.bar(properties['left_edges'], height=1, width=properties['right_edges']-properties['left_edges'], \n",
    "        align='edge')"
   ]
  },
  {
   "cell_type": "code",
   "execution_count": null,
   "id": "00db4f22-c948-4342-8ae7-cb53b5756961",
   "metadata": {},
   "outputs": [],
   "source": []
  },
  {
   "cell_type": "code",
   "execution_count": null,
   "id": "b7f610aa-0af7-4acf-963f-e1cb9ac79721",
   "metadata": {},
   "outputs": [],
   "source": []
  },
  {
   "cell_type": "code",
   "execution_count": null,
   "id": "780e15de-35e7-4a2c-a182-f7ea8fec80d0",
   "metadata": {},
   "outputs": [],
   "source": []
  },
  {
   "cell_type": "code",
   "execution_count": null,
   "id": "c61c93d7-3375-4034-b6ff-7451902362dd",
   "metadata": {},
   "outputs": [],
   "source": []
  },
  {
   "cell_type": "code",
   "execution_count": null,
   "id": "8e1526cb-7059-42b8-abfb-0b00d1e6e66f",
   "metadata": {},
   "outputs": [],
   "source": []
  },
  {
   "cell_type": "code",
   "execution_count": 17,
   "id": "12a920b0-33b3-4eb1-ae33-f8f4864ca570",
   "metadata": {},
   "outputs": [],
   "source": [
    "# addr = '/workspace/zhouy/megatron-gw/valid/500k-1.2b_100000'\n",
    "# !ls -lht $addr"
   ]
  },
  {
   "cell_type": "code",
   "execution_count": null,
   "id": "8c655ae3-b842-4da9-ba12-84f3849090d6",
   "metadata": {},
   "outputs": [],
   "source": [
    "# -------------------------------------------------------------------------\n",
    "def _inj_dq_check(self, dqbitmask, injbitmask, length):\n",
    "    \"\"\"\n",
    "    \"\"\"\n",
    "    # TODO only works for H1 signal-detector for now\n",
    "    x = (self.timeline['h1_dq_mask'] > dqbitmask) * 1  # >? or >=?\n",
    "    x *= (self.timeline['h1_inj_mask'] > injbitmask) * 1  # >? or >=?\n",
    "    _, properties = find_peaks(x, plateau_size=length)\n",
    "\n",
    "    index_segments = np.random.randint(len(properties['left_edges']))\n",
    "    index_time_l, index_time_r = properties['left_edges'][index_segments], properties['right_edges'][index_segments]\n",
    "    return index_time_l, np.arange(index_time_r+1-index_time_l-length+1)\n"
   ]
  },
  {
   "cell_type": "code",
   "execution_count": 49,
   "id": "f2e26834-d6b0-4b67-b0db-fb63a54ab0f4",
   "metadata": {},
   "outputs": [
    {
     "data": {
      "image/png": "[encoded data removed]",
      "text/plain": [
       "<Figure size 432x288 with 1 Axes>"
      ]
     },
     "metadata": {
      "needs_background": "light"
     },
     "output_type": "display_data"
    },
    {
     "data": {
      "text/plain": [
       "[<matplotlib.lines.Line2D at 0x7f654b35e070>]"
      ]
     },
     "execution_count": 49,
     "metadata": {},
     "output_type": "execute_result"
    },
    {
     "data": {
      "image/png": "[encoded data removed]",
      "text/plain": [
       "<Figure size 432x288 with 1 Axes>"
      ]
     },
     "metadata": {
      "needs_background": "light"
     },
     "output_type": "display_data"
    }
   ],
   "source": [
    "# det.update()\n",
    "n = 1000\n",
    "plt.plot(det.ifo.time_array[:n], det.ifo.time_domain_strain[:n])\n",
    "plt.show()\n",
    "plt.plot(det.gwosc.time[:n], det.gwosc.strain[:n])\n",
    "# plt.xlim(right = det.gwosc.time[1000]);"
   ]
  },
  {
   "cell_type": "code",
   "execution_count": 43,
   "id": "21d50b68-a6e5-4a5a-8bd3-4b7953eb6947",
   "metadata": {},
   "outputs": [
    {
     "data": {
      "text/plain": [
       "False"
      ]
     },
     "execution_count": 43,
     "metadata": {},
     "output_type": "execute_result"
    }
   ],
   "source": [
    "np.allclose(det.gwosc.strain, det.time_domain_strain)"
   ]
  },
  {
   "cell_type": "code",
   "execution_count": 35,
   "id": "715bd45e-dd35-4ad5-b999-3e954acabb5e",
   "metadata": {},
   "outputs": [
    {
     "data": {
      "text/plain": [
       "67108864"
      ]
     },
     "execution_count": 35,
     "metadata": {},
     "output_type": "execute_result"
    }
   ],
   "source": [
    "det.time_domain_strain.size"
   ]
  },
  {
   "cell_type": "code",
   "execution_count": 47,
   "id": "f1b884b3-b015-4449-a6e4-7b0295270f9b",
   "metadata": {},
   "outputs": [],
   "source": [
    "det.update_time_domain_strain_from_GWOSC(seg_sec=4)"
   ]
  },
  {
   "cell_type": "code",
   "execution_count": 36,
   "id": "8eae048a-86ff-43f3-a429-316da0c69852",
   "metadata": {},
   "outputs": [
    {
     "data": {
      "text/plain": [
       "[<matplotlib.lines.Line2D at 0x7f679f28b310>]"
      ]
     },
     "execution_count": 36,
     "metadata": {},
     "output_type": "execute_result"
    },
    {
     "data": {
      "image/png": "[encoded data removed]",
      "text/plain": [
       "<Figure size 432x288 with 1 Axes>"
      ]
     },
     "metadata": {
      "needs_background": "light"
     },
     "output_type": "display_data"
    }
   ],
   "source": [
    "plt.plot(det.time_array, det.time_domain_whitened_strain)"
   ]
  },
  {
   "cell_type": "code",
   "execution_count": 30,
   "id": "53ee6829-1363-417e-9507-ba4d1cfcc6f9",
   "metadata": {},
   "outputs": [
    {
     "data": {
      "image/png": "[encoded data removed]",
      "text/plain": [
       "<Figure size 432x288 with 1 Axes>"
      ]
     },
     "metadata": {
      "needs_background": "light"
     },
     "output_type": "display_data"
    }
   ],
   "source": [
    "det.update()\n",
    "plt.loglog(det.frequency_array, abs(det.frequency_domain_strain), label ='freq domain strain')\n",
    "plt.loglog(det.ifo.power_spectral_density.frequency_array, det.ifo.power_spectral_density.asd_array, label= 'ASD')\n",
    "plt.legend();"
   ]
  },
  {
   "cell_type": "code",
   "execution_count": null,
   "id": "6b771c1a-5233-40f4-a1db-e6fbe4493525",
   "metadata": {},
   "outputs": [],
   "source": []
  },
  {
   "cell_type": "code",
   "execution_count": 92,
   "id": "e69eb15b-f809-4bb6-a729-347d398b2961",
   "metadata": {},
   "outputs": [],
   "source": [
    "det.ifo.strain_data.set_from_time_domain_strain(det.gwosc.strain,\n",
    "                                               det.gwosc.original_sampling_rate,\n",
    "                                               # det.gwosc.noise_interval,\n",
    "                                               time_array=det.gwosc.time)"
   ]
  },
  {
   "cell_type": "code",
   "execution_count": 96,
   "id": "76af0182-a761-476d-9cd1-ef5dbb3e7248",
   "metadata": {},
   "outputs": [],
   "source": [
    "assert np.allclose(det.gwosc.strain, det.ifo.time_domain_strain)\n",
    "assert np.allclose(det.gwosc.time, det.ifo.time_array)"
   ]
  },
  {
   "cell_type": "code",
   "execution_count": 93,
   "id": "1321733b-17b7-435f-93da-bb46b10cb7df",
   "metadata": {},
   "outputs": [
    {
     "data": {
      "text/plain": [
       "[<matplotlib.lines.Line2D at 0x7fac9126fd00>]"
      ]
     },
     "execution_count": 93,
     "metadata": {},
     "output_type": "execute_result"
    },
    {
     "data": {
      "image/png": "[encoded data removed]",
      "text/plain": [
       "<Figure size 432x288 with 1 Axes>"
      ]
     },
     "metadata": {
      "needs_background": "light"
     },
     "output_type": "display_data"
    }
   ],
   "source": [
    "# det.update()\n",
    "plt.plot(det.ifo.strain_data.time_array, det.ifo.time_domain_strain)"
   ]
  },
  {
   "cell_type": "code",
   "execution_count": 100,
   "id": "881e570f-3b86-446b-9982-2978ceed67cf",
   "metadata": {},
   "outputs": [
    {
     "data": {
      "text/plain": [
       "[<matplotlib.lines.Line2D at 0x7fac8ef6e1c0>]"
      ]
     },
     "execution_count": 100,
     "metadata": {},
     "output_type": "execute_result"
    },
    {
     "data": {
      "image/png": "[encoded data removed]",
      "text/plain": [
       "<Figure size 432x288 with 1 Axes>"
      ]
     },
     "metadata": {
      "needs_background": "light"
     },
     "output_type": "display_data"
    }
   ],
   "source": [
    "plt.loglog(det.ifo.frequency_array, abs(det.ifo.frequency_domain_strain))"
   ]
  },
  {
   "cell_type": "code",
   "execution_count": null,
   "id": "d2f3b39b-f482-4416-a493-c59a629a25e2",
   "metadata": {},
   "outputs": [],
   "source": []
  },
  {
   "cell_type": "code",
   "execution_count": null,
   "id": "9e4a0aaa-a976-485b-8259-a0d9673a880e",
   "metadata": {},
   "outputs": [],
   "source": []
  },
  {
   "cell_type": "code",
   "execution_count": null,
   "id": "c6d0348b-2ff3-4942-968d-d6922d31c53d",
   "metadata": {},
   "outputs": [],
   "source": []
  },
  {
   "cell_type": "code",
   "execution_count": null,
   "id": "59f7fc0d-0c8e-4df6-bcc5-17a81073bc57",
   "metadata": {},
   "outputs": [],
   "source": []
  },
  {
   "cell_type": "code",
   "execution_count": 28,
   "id": "540ce98b-abbd-48b7-bdf5-c2788997d215",
   "metadata": {},
   "outputs": [
    {
     "name": "stdout",
     "output_type": "stream",
     "text": [
      "Dataset(num_blocks=200, num_rows=1000000, schema=<class 'int'>)\n",
      "DatasetPipeline(num_windows=20, num_stages=1)\n"
     ]
    }
   ],
   "source": [
    "import ray\n",
    "\n",
    "def func1(i: int) -> int:\n",
    "    return i + 1\n",
    "\n",
    "def func2(i: int) -> int:\n",
    "    return i * 2\n",
    "\n",
    "def func3(i: int) -> int:\n",
    "    return i % 3\n",
    "\n",
    "# Create a dataset and then create a pipeline from it.\n",
    "base = ray.data.range(1000000)\n",
    "print(base)\n",
    "# -> Dataset(num_blocks=200, num_rows=1000000, schema=<class 'int'>)\n",
    "pipe = base.window(blocks_per_window=10)\n",
    "print(pipe)\n",
    "# -> DatasetPipeline(num_windows=20, num_stages=1)\n"
   ]
  },
  {
   "cell_type": "code",
   "execution_count": 29,
   "id": "44a993ed-6d01-4dc4-95e0-954eaaa3727b",
   "metadata": {},
   "outputs": [
    {
     "name": "stdout",
     "output_type": "stream",
     "text": [
      "DatasetPipeline(num_windows=20, num_stages=4)\n"
     ]
    }
   ],
   "source": [
    "# Applying transforms to pipelines adds more pipeline stages.\n",
    "pipe = pipe.map(func1)\n",
    "pipe = pipe.map(func2)\n",
    "pipe = pipe.map(func3)\n",
    "print(pipe)"
   ]
  },
  {
   "cell_type": "code",
   "execution_count": null,
   "id": "e642d5df-64da-4da1-a19b-ccd6f466b08c",
   "metadata": {},
   "outputs": [],
   "source": []
  },
  {
   "cell_type": "code",
   "execution_count": 2,
   "id": "81d63c97-6ad6-4057-90fd-a47d576c8f6b",
   "metadata": {},
   "outputs": [
    {
     "name": "stderr",
     "output_type": "stream",
     "text": [
      "2021-12-09 16:48:26,963\tINFO services.py:1338 -- View the Ray dashboard at \u001b[1m\u001b[32mhttp://127.0.0.1:8265\u001b[39m\u001b[22m\n",
      "2021-12-09 16:48:26,971\tWARNING services.py:1816 -- WARNING: The object store is using /tmp instead of /dev/shm because /dev/shm has only 66969600 bytes available. This will harm performance! You may be able to free up space by deleting files in /dev/shm. If you are inside a Docker container, you can increase /dev/shm size by passing '--shm-size=10.24gb' to 'docker run' (or add it to the run_options list in a Ray cluster config). Make sure to set this to more than 30% of available RAM.\n"
     ]
    },
    {
     "data": {
      "text/plain": [
       "Dataset(num_blocks=200, num_rows=10000, schema=<class 'int'>)"
      ]
     },
     "execution_count": 2,
     "metadata": {},
     "output_type": "execute_result"
    }
   ],
   "source": [
    "import ray\n",
    "\n",
    "# Create a Dataset of Python objects.\n",
    "ds = ray.data.range(10000)\n",
    "ds"
   ]
  },
  {
   "cell_type": "code",
   "execution_count": 8,
   "id": "d95676c6-bb0f-4eb1-8711-ce1f2c594ab1",
   "metadata": {},
   "outputs": [
    {
     "data": {
      "text/plain": [
       "[0, 1, 2, 3, 4]"
      ]
     },
     "execution_count": 8,
     "metadata": {},
     "output_type": "execute_result"
    }
   ],
   "source": [
    "ds.take(5)"
   ]
  },
  {
   "cell_type": "code",
   "execution_count": 4,
   "id": "87a6e1e5-9ee7-4c91-8979-ab94d80c7498",
   "metadata": {},
   "outputs": [
    {
     "data": {
      "text/plain": [
       "10000"
      ]
     },
     "execution_count": 4,
     "metadata": {},
     "output_type": "execute_result"
    }
   ],
   "source": [
    "ds.count()"
   ]
  },
  {
   "cell_type": "code",
   "execution_count": 9,
   "id": "d2cdf934-c6c5-4fb0-92f4-5ca370674288",
   "metadata": {},
   "outputs": [],
   "source": [
    "# Create a Dataset of Arrow records.\n",
    "ds = ray.data.from_items([{\"col1\": i, \"col2\": str(i)} for i in range(10000)])"
   ]
  },
  {
   "cell_type": "code",
   "execution_count": 10,
   "id": "6f54afdd-ea66-4055-b8a8-69c6fdd1d5ad",
   "metadata": {},
   "outputs": [
    {
     "name": "stdout",
     "output_type": "stream",
     "text": [
      "{'col1': 0, 'col2': '0'}\n",
      "{'col1': 1, 'col2': '1'}\n",
      "{'col1': 2, 'col2': '2'}\n",
      "{'col1': 3, 'col2': '3'}\n",
      "{'col1': 4, 'col2': '4'}\n"
     ]
    }
   ],
   "source": [
    "ds.show(5)"
   ]
  },
  {
   "cell_type": "code",
   "execution_count": 11,
   "id": "45d56408-0535-498e-b89e-50e4e775d650",
   "metadata": {},
   "outputs": [
    {
     "data": {
      "text/plain": [
       "col1: int64\n",
       "col2: string"
      ]
     },
     "execution_count": 11,
     "metadata": {},
     "output_type": "execute_result"
    }
   ],
   "source": [
    "ds.schema()"
   ]
  },
  {
   "cell_type": "code",
   "execution_count": null,
   "id": "b3e7724a-cdae-46f0-8e83-28630cf2c16b",
   "metadata": {},
   "outputs": [],
   "source": [
    "from ray.da"
   ]
  },
  {
   "cell_type": "code",
   "execution_count": 15,
   "id": "4feafe7e-c3ac-4aaf-8fc1-b19078728468",
   "metadata": {},
   "outputs": [
    {
     "data": {
      "text/plain": [
       "Dataset(num_blocks=1, num_rows=3, schema={one: int64, two: string})"
      ]
     },
     "execution_count": 15,
     "metadata": {},
     "output_type": "execute_result"
    }
   ],
   "source": [
    "import pandas as pd\n",
    "# import dask.dataframe as dd\n",
    "\n",
    "# Create a Dataset from a list of Pandas DataFrame objects.\n",
    "pdf = pd.DataFrame({\"one\": [1, 2, 3], \"two\": [\"a\", \"b\", \"c\"]})\n",
    "ds = ray.data.from_pandas([pdf])\n",
    "ds"
   ]
  },
  {
   "cell_type": "code",
   "execution_count": 16,
   "id": "943ca341-89c2-43f6-88b5-869c877130ea",
   "metadata": {},
   "outputs": [
    {
     "name": "stderr",
     "output_type": "stream",
     "text": [
      "Map Progress: 100%|██████████████████████████████████████| 200/200 [00:00<00:00, 1411.87it/s]\n"
     ]
    }
   ],
   "source": [
    "ds = ray.data.range(10000)\n",
    "ds = ds.map(lambda x: x * 2)"
   ]
  },
  {
   "cell_type": "code",
   "execution_count": null,
   "id": "694dda3c-4e04-4152-919a-b45df201d6d3",
   "metadata": {},
   "outputs": [],
   "source": []
  }
 ],
 "metadata": {
  "kernelspec": {
   "display_name": "Python 3 (ipykernel)",
   "language": "python",
   "name": "python3"
  },
  "language_info": {
   "codemirror_mode": {
    "name": "ipython",
    "version": 3
   },
   "file_extension": ".py",
   "mimetype": "text/x-python",
   "name": "python",
   "nbconvert_exporter": "python",
   "pygments_lexer": "ipython3",
   "version": "3.8.10"
  }
 },
 "nbformat": 4,
 "nbformat_minor": 5
}
