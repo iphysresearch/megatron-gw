{
 "cells": [
  {
   "cell_type": "code",
   "execution_count": 1,
   "id": "da558761-30a7-4e31-b87c-c04783da6d6e",
   "metadata": {},
   "outputs": [],
   "source": [
    "import sys\n",
    "sys.path.append('..')\n",
    "from gwtoolkit.gw import WaveformDataset\n",
    "from gwtoolkit.torch import (WaveformDatasetTorch, Normalize_params, Patching_data, ToTensor)\n",
    "import torch\n",
    "from torchvision import transforms\n",
    "from torch.utils.data import DataLoader\n",
    "import itertools\n",
    "import numpy"
   ]
  },
  {
   "cell_type": "code",
   "execution_count": 2,
   "id": "8143a784-c759-4d41-988a-8a74028b354f",
   "metadata": {},
   "outputs": [
    {
     "data": {
      "text/plain": [
       "'1.1.4: release'"
      ]
     },
     "execution_count": 2,
     "metadata": {},
     "output_type": "execute_result"
    }
   ],
   "source": [
    "import bilby\n",
    "bilby.__version__"
   ]
  },
  {
   "cell_type": "code",
   "execution_count": 3,
   "id": "d19e3437-dd8e-448b-a896-09bcc5f91372",
   "metadata": {},
   "outputs": [
    {
     "data": {
      "text/plain": [
       "'3.0.0'"
      ]
     },
     "execution_count": 3,
     "metadata": {},
     "output_type": "execute_result"
    }
   ],
   "source": [
    "import lalsimulation\n",
    "lalsimulation.__version__"
   ]
  },
  {
   "cell_type": "code",
   "execution_count": 4,
   "id": "e50e51c3-bebf-4d89-8482-6cced1247e23",
   "metadata": {},
   "outputs": [
    {
     "data": {
      "text/plain": [
       "'🤣🙃'"
      ]
     },
     "execution_count": 4,
     "metadata": {},
     "output_type": "execute_result"
    }
   ],
   "source": [
    "'\\N{Rolling On The Floor Laughing}\\N{Upside-Down Face}'"
   ]
  },
  {
   "cell_type": "markdown",
   "id": "a8176d50-5b2b-4701-9b8c-7ab808226a14",
   "metadata": {},
   "source": [
    "# 1. Init for WaveformDataset"
   ]
  },
  {
   "cell_type": "markdown",
   "id": "9d31d7a7-0f7a-4257-aa18-1a77a4c733f8",
   "metadata": {},
   "source": [
    "- parameters"
   ]
  },
  {
   "cell_type": "code",
   "execution_count": 5,
   "id": "91cdc658-69cb-44a2-a851-8ef7f8393488",
   "metadata": {},
   "outputs": [],
   "source": [
    "# 1. Init for WaveformDataset\n",
    "sampling_frequency = 4096     # [Hz], sampling rate\n",
    "duration = 8                  # [sec], duration of a sample\n",
    "conversion = 'BBH'\n",
    "waveform_approximant = 'IMRPhenomPv2'\n",
    "# waveform_approximant = 'SEOBNRv4P' ## TODO\n",
    "# waveform_approximant = 'IMRPhenomPv2_NRTidal'\n",
    "# waveform_approximant = 'IMRPhenomXP'\n",
    "reference_frequency = 50.\n",
    "minimum_frequency = 20.\n",
    "waveform_arguments = dict(waveform_approximant=waveform_approximant,\n",
    "                          reference_frequency=reference_frequency,\n",
    "                          minimum_frequency=minimum_frequency)\n",
    "base = 'bilby'\n",
    "dets = ['H1', 'L1'][:1]\n",
    "\n",
    "filename = '../tests/gw/demo.prior'   # default prior file"
   ]
  },
  {
   "cell_type": "markdown",
   "id": "7efa282e-42fc-4a49-bd16-8d75a2094536",
   "metadata": {},
   "source": [
    "- Now init!"
   ]
  },
  {
   "cell_type": "code",
   "execution_count": 6,
   "id": "0d84be90-028e-405e-a752-23a26fa12c64",
   "metadata": {},
   "outputs": [
    {
     "name": "stdout",
     "output_type": "stream",
     "text": [
      "Using priors in ../tests/gw/demo.prior\n"
     ]
    }
   ],
   "source": [
    "# waveform dataset\n",
    "wfd = WaveformDataset(sampling_frequency=sampling_frequency,\n",
    "                      duration=duration,\n",
    "                      conversion=conversion)\n",
    "\n",
    "wfd.load_prior_source_detector(\n",
    "    filename=filename,\n",
    "    base=base,\n",
    "    dets=dets,\n",
    "    waveform_arguments=waveform_arguments)"
   ]
  },
  {
   "cell_type": "markdown",
   "id": "4bc2d314-2340-4b9c-940c-7fb014e2b940",
   "metadata": {},
   "source": [
    "# 2. Init for WaveformDatasetTorch"
   ]
  },
  {
   "cell_type": "markdown",
   "id": "c5ceae5d-7ab1-480e-a3a7-99a1266564f4",
   "metadata": {},
   "source": [
    "- parameters"
   ]
  },
  {
   "cell_type": "code",
   "execution_count": 7,
   "id": "3fec9bf6-c2f1-4866-adb4-08d558b7371e",
   "metadata": {},
   "outputs": [
    {
     "name": "stdout",
     "output_type": "stream",
     "text": [
      "\tPatching with patch size=0.5s and overlap=50.0%.\n"
     ]
    }
   ],
   "source": [
    "# 2. Init for WaveformDatasetTorch\n",
    "######### Hyper parameters start ###############################\n",
    "patch_size = 0.5  # [sec]\n",
    "overlap = 0.5     # [%]\n",
    "num = 1000         # number of samples in an epoch.\n",
    "target_time = 1126259456.3999023 + 6\n",
    "buffer_time = 2\n",
    "start_time = target_time-(duration - buffer_time)\n",
    "geocent_time = (target_time-1.1, target_time+1.1)\n",
    "SNR = 50          # 信噪比\n",
    "# SNR = 0          # 使用 prior 中定义的 distance 来调整信噪比\n",
    "target_optimal_snr_tuple = (0, SNR)\n",
    "norm_params_kind = 'minmax'\n",
    "norm_data_kind = 'standard'\n",
    "\n",
    "stimulated_whiten_ornot = True   # Using stimulated whiten noise or not\n",
    "classification_ornot = None\n",
    "denoising_ornot = True           # For denoising\n",
    "rand_transform_data = None\n",
    "###\n",
    "\n",
    "target_labels = ['mass_ratio', 'chirp_mass',                                  # mass dim\n",
    "                 'luminosity_distance',                                       # SNR related\n",
    "                 'dec', 'ra', 'theta_jn', 'psi', 'phase',                     # oritation related\n",
    "                 'a_1', 'a_2', 'tilt_1', 'tilt_2', 'phi_12', 'phi_jl',        # spin related\n",
    "                 'geocent_time',                                              # arrival time related\n",
    "                 'optimal_snr', 'matched_filter_snr'\n",
    "                ]\n",
    "######### Hyper parameters end ###############################\n",
    "from torchvision.transforms import Normalize\n",
    "\n",
    "composed_data = transforms.Compose([\n",
    "    Patching_data(patch_size=patch_size,\n",
    "                  overlap=overlap,\n",
    "                  sampling_frequency=sampling_frequency),\n",
    "    # input:  (batch_size, 2               ,   duration * sampling_rate)\n",
    "    # output: (batch_size, 2 * num_of_patch, patch_size * sampling_rate)    \n",
    "    ToTensor(),\n",
    "    Normalize(mean=(0,)*num, std=(45.6,)*num),  # specify ~45.6 for std=1\n",
    "])\n",
    "composed_params = None if denoising_ornot else transforms.Compose([\n",
    "    Normalize_params(norm_params_kind,\n",
    "                     wfd=wfd, labels=target_labels,\n",
    "                     feature_range=(-1, 1)),\n",
    "    ToTensor(),\n",
    "])"
   ]
  },
  {
   "cell_type": "markdown",
   "id": "c7489853-cae0-4c9c-8852-f927a103e610",
   "metadata": {},
   "source": [
    "- Now init!"
   ]
  },
  {
   "cell_type": "code",
   "execution_count": 8,
   "id": "427b8f2a-c9a9-4ad6-a4ef-785d85be3bdd",
   "metadata": {},
   "outputs": [
    {
     "name": "stderr",
     "output_type": "stream",
     "text": [
      "100%|████████████████████████████████████████████████████| 1000/1000 [00:32<00:00, 31.10it/s]\n"
     ]
    }
   ],
   "source": [
    "# waveform dataset using Torch, \"wfdt\"\n",
    "wfdt = WaveformDatasetTorch(wfd, num=num,\n",
    "                            start_time=start_time,\n",
    "                            geocent_time=geocent_time,\n",
    "                            target_optimal_snr_tuple=target_optimal_snr_tuple,\n",
    "                            target_labels=target_labels,\n",
    "                            stimulated_whiten_ornot=stimulated_whiten_ornot,\n",
    "                            transform_data=composed_data,\n",
    "                            transform_params=composed_params,\n",
    "                            rand_transform_data=rand_transform_data,\n",
    "                            classification_ornot=classification_ornot,\n",
    "                            denoising_ornot=denoising_ornot)"
   ]
  },
  {
   "cell_type": "code",
   "execution_count": 23,
   "id": "cf94ed4b-0a1f-4c33-8771-541e4b9894a0",
   "metadata": {},
   "outputs": [
    {
     "name": "stderr",
     "output_type": "stream",
     "text": [
      "2021-12-09 17:05:03,688\tINFO services.py:1338 -- View the Ray dashboard at \u001b[1m\u001b[32mhttp://127.0.0.1:8266\u001b[39m\u001b[22m\n",
      "2021-12-09 17:05:03,695\tWARNING services.py:1816 -- WARNING: The object store is using /tmp instead of /dev/shm because /dev/shm has only 66768896 bytes available. This will harm performance! You may be able to free up space by deleting files in /dev/shm. If you are inside a Docker container, you can increase /dev/shm size by passing '--shm-size=10.24gb' to 'docker run' (or add it to the run_options list in a Ray cluster config). Make sure to set this to more than 30% of available RAM.\n"
     ]
    }
   ],
   "source": [
    "import ray\n",
    "from tqdm import tqdm\n",
    "import time\n",
    "\n",
    "# Start Ray. If you're connecting to an existing cluster, you would use\n",
    "# ray.init(address=<cluster-address>) instead.\n",
    "ray.shutdown()\n",
    "ray.init()\n",
    "\n",
    "# A regular Python function.\n",
    "def my_function():\n",
    "    return 1\n",
    "\n",
    "# By adding the `@ray.remote` decorator, a regular Python function\n",
    "# becomes a Ray remote function.\n",
    "@ray.remote\n",
    "def my_function():\n",
    "    return 1\n",
    "\n",
    "# To invoke this remote function, use the `remote` method.\n",
    "# This will immediately return an object ref (a future) and then create\n",
    "# a task that will be executed on a worker process.\n",
    "obj_ref = my_function.remote()\n",
    "\n",
    "# The result can be retrieved with ``ray.get``.\n",
    "assert ray.get(obj_ref) == 1\n",
    "\n",
    "@ray.remote\n",
    "def slow_function():\n",
    "    time.sleep(10)\n",
    "    print(1)\n",
    "    return 1"
   ]
  },
  {
   "cell_type": "code",
   "execution_count": 6,
   "id": "1268b91f-5692-4091-bd34-42538cf2511f",
   "metadata": {},
   "outputs": [
    {
     "name": "stderr",
     "output_type": "stream",
     "text": [
      "2021-12-09 17:21:40,112\tINFO services.py:1338 -- View the Ray dashboard at \u001b[1m\u001b[32mhttp://127.0.0.1:8266\u001b[39m\u001b[22m\n",
      "2021-12-09 17:21:40,119\tWARNING services.py:1816 -- WARNING: The object store is using /tmp instead of /dev/shm because /dev/shm has only 66699264 bytes available. This will harm performance! You may be able to free up space by deleting files in /dev/shm. If you are inside a Docker container, you can increase /dev/shm size by passing '--shm-size=10.24gb' to 'docker run' (or add it to the run_options list in a Ray cluster config). Make sure to set this to more than 30% of available RAM.\n"
     ]
    },
    {
     "data": {
      "text/plain": [
       "{'node_ip_address': '172.17.0.4',\n",
       " 'raylet_ip_address': '172.17.0.4',\n",
       " 'redis_address': '172.17.0.4:58024',\n",
       " 'object_store_address': '/tmp/ray/session_2021-12-09_17-21-37_683161_77378/sockets/plasma_store',\n",
       " 'raylet_socket_name': '/tmp/ray/session_2021-12-09_17-21-37_683161_77378/sockets/raylet',\n",
       " 'webui_url': '127.0.0.1:8266',\n",
       " 'session_dir': '/tmp/ray/session_2021-12-09_17-21-37_683161_77378',\n",
       " 'metrics_export_port': 64862,\n",
       " 'node_id': 'fcba2b9809a50b1fc47f0ec5c55e1579a35b259b277fea6079dcbd69'}"
      ]
     },
     "execution_count": 6,
     "metadata": {},
     "output_type": "execute_result"
    }
   ],
   "source": [
    "import time\n",
    "import random\n",
    "import ray\n",
    "import numpy as np\n",
    "from tqdm import tqdm\n",
    "\n",
    "\n",
    "ray.shutdown()\n",
    "ray.init(num_cpus = 4)"
   ]
  },
  {
   "cell_type": "code",
   "execution_count": null,
   "id": "ba0a5d6a-0733-4ab9-8c91-ee315dc1c5ec",
   "metadata": {},
   "outputs": [],
   "source": [
    "@ray.remote\n",
    "def do_some_work(x):\n",
    "    time.sleep(random.uniform(0, 4)) # Replace this with work you need to do.\n",
    "    return x\n",
    "\n",
    "def process_results(results):\n",
    "    sum = 0\n",
    "    for x in results:\n",
    "        \n",
    "        sum += x\n",
    "    return sum\n",
    "\n",
    "start = time.time()\n",
    "data_list = ray.get([do_some_work.remote(x) for x in range(4)])\n",
    "sum = process_results(data_list)\n",
    "print(\"duration =\", time.time() - start, \"\\nresult = \", sum)"
   ]
  },
  {
   "cell_type": "code",
   "execution_count": 8,
   "id": "9a4d270d-2645-4ea3-9dbd-a1f62c863bdc",
   "metadata": {},
   "outputs": [
    {
     "name": "stderr",
     "output_type": "stream",
     "text": [
      "100%|███████████████████████████████████████████████████| 1000/1000 [00:06<00:00, 146.01it/s]\n"
     ]
    }
   ],
   "source": [
    "num = 1000\n",
    "block = np.empty(shape=(num, 2, 4096), dtype=np.float64)\n",
    "\n",
    "for i in tqdm(range(num)):\n",
    "    time.sleep(0.002)\n",
    "    for j in range(2):\n",
    "        time.sleep(0.002)\n",
    "        block[i, j] = np.random.randn(4096)"
   ]
  },
  {
   "cell_type": "code",
   "execution_count": 35,
   "id": "6267c5a8-61ee-4404-9592-7ae7b78414da",
   "metadata": {},
   "outputs": [
    {
     "name": "stderr",
     "output_type": "stream",
     "text": [
      "100%|███████████████████████████████████████████████████| 1000/1000 [00:06<00:00, 145.49it/s]\n"
     ]
    }
   ],
   "source": [
    "num = 1000\n",
    "block = np.empty(shape=(num, 2, 4096), dtype=np.float64)\n",
    "\n",
    "def inside_func(i, block):\n",
    "    time.sleep(0.002)\n",
    "    for j in range(2):\n",
    "        time.sleep(0.002)\n",
    "        block[i, j] = np.random.randn(4096)\n",
    "[inside_func(i, block) for i in tqdm(range(num))];"
   ]
  },
  {
   "cell_type": "code",
   "execution_count": 36,
   "id": "2d390e92-8544-4f2f-b82c-de25734e16de",
   "metadata": {},
   "outputs": [
    {
     "data": {
      "text/plain": [
       "(1000, 2, 4096)"
      ]
     },
     "execution_count": 36,
     "metadata": {},
     "output_type": "execute_result"
    }
   ],
   "source": [
    "block.shape"
   ]
  },
  {
   "cell_type": "code",
   "execution_count": null,
   "id": "6ae35bc4-087f-4098-bdea-fe357d933400",
   "metadata": {},
   "outputs": [],
   "source": [
    "ray.shutdown()\n",
    "ray.init(num_cpus = 4)\n",
    "\n",
    "num = 1000\n",
    "block = np.empty(shape=(num, 2, 4096), dtype=np.float64)\n",
    "\n",
    "@ray.remote\n",
    "def inside_func(i, block):\n",
    "    time.sleep(0.002)\n",
    "    np.append(np.empty((0,2, 4096), int), np.random.randn(2, 4096), axis=0)\n",
    "\n",
    "start = time.time()\n",
    "result = ray.get(([inside_func.remote(i, block) for i in range(num)]))\n",
    "\n",
    "print(\"duration =\", time.time() - start)"
   ]
  },
  {
   "cell_type": "code",
   "execution_count": 37,
   "id": "78ae6616-a3b4-4007-b1bc-ff9b2020d8e2",
   "metadata": {},
   "outputs": [
    {
     "data": {
      "text/plain": [
       "array([[[-0.05335406,  0.03806074, -1.28224174, ...,  1.23772256,\n",
       "          0.65159577,  0.16936774],\n",
       "        [ 1.08247536, -0.61582219,  0.38185589, ..., -2.36134382,\n",
       "          0.46962224, -2.15812491]],\n",
       "\n",
       "       [[-0.65985742, -1.947648  , -2.28145315, ...,  0.48927545,\n",
       "         -2.36480997,  0.40030177],\n",
       "        [-0.1150723 ,  2.31446514,  0.58706427, ..., -2.57938867,\n",
       "         -0.70939043, -0.27618342]],\n",
       "\n",
       "       [[ 1.08308974,  0.19314782,  0.76560538, ...,  1.01313128,\n",
       "         -0.34083962, -1.53526314],\n",
       "        [-0.28098317,  1.10670253, -0.14936795, ..., -0.13245056,\n",
       "          1.28858673, -0.21224291]],\n",
       "\n",
       "       ...,\n",
       "\n",
       "       [[ 0.2242351 , -0.22506276, -0.01896189, ..., -0.27674568,\n",
       "          0.68480922, -0.28445765],\n",
       "        [-1.12531666,  0.08242137,  0.20037792, ..., -1.46184965,\n",
       "         -1.4879289 , -1.35870723]],\n",
       "\n",
       "       [[ 0.39384955, -0.24977294,  1.13171258, ..., -1.76132925,\n",
       "          0.99323454,  2.06818184],\n",
       "        [-0.80304177, -0.6542905 ,  1.00089324, ..., -0.07816124,\n",
       "         -0.72216955, -0.05089987]],\n",
       "\n",
       "       [[ 2.58593609, -2.83424946, -1.05689208, ..., -0.72859532,\n",
       "         -1.0718274 ,  1.07073706],\n",
       "        [ 0.33312939, -2.1916142 , -0.98661162, ..., -1.16895801,\n",
       "         -2.13997202,  0.75087481]]])"
      ]
     },
     "execution_count": 37,
     "metadata": {},
     "output_type": "execute_result"
    }
   ],
   "source": [
    "block"
   ]
  },
  {
   "cell_type": "code",
   "execution_count": null,
   "id": "e21a9bd4-0252-4983-be1e-f2bf788d0400",
   "metadata": {},
   "outputs": [],
   "source": []
  },
  {
   "cell_type": "code",
   "execution_count": 23,
   "id": "b44b01a2-7bfc-47dd-a142-3e0034cc18d3",
   "metadata": {},
   "outputs": [
    {
     "data": {
      "text/plain": [
       "(2000, 4096)"
      ]
     },
     "execution_count": 23,
     "metadata": {},
     "output_type": "execute_result"
    }
   ],
   "source": [
    "np.concatenate(result).shape"
   ]
  },
  {
   "cell_type": "markdown",
   "id": "905254e1-6dd2-4b5d-aff9-3a129b1be6cd",
   "metadata": {},
   "source": [
    "# 3. DataLoader objects"
   ]
  },
  {
   "cell_type": "markdown",
   "id": "3c97784d-84c8-4cc1-a4af-441b7b55b3b3",
   "metadata": {},
   "source": [
    "- parameters"
   ]
  },
  {
   "cell_type": "code",
   "execution_count": 9,
   "id": "a0d41204-2c72-4971-a8c7-94cc979d46b3",
   "metadata": {},
   "outputs": [],
   "source": [
    "batch_size = 8\n",
    "shuffle = False"
   ]
  },
  {
   "cell_type": "markdown",
   "id": "7d6f0662-282d-42de-8ada-06470f4512de",
   "metadata": {},
   "source": [
    "- Now init!"
   ]
  },
  {
   "cell_type": "code",
   "execution_count": 10,
   "id": "4332200c-2dcc-4d53-a0ca-42800a6ff0eb",
   "metadata": {},
   "outputs": [],
   "source": [
    "# DataLoader objects\n",
    "loader = DataLoader(wfdt, batch_size=batch_size, shuffle=shuffle, pin_memory=False,\n",
    "                    num_workers=0, worker_init_fn=lambda _: numpy.random.seed(\n",
    "                        int(torch.initial_seed()) % (2**32-1)))"
   ]
  },
  {
   "cell_type": "markdown",
   "id": "c13c2e1c-a255-4039-b5c4-f0bd320181d7",
   "metadata": {},
   "source": [
    "# How to do the iteration"
   ]
  },
  {
   "cell_type": "code",
   "execution_count": 11,
   "id": "103fd3ce-5dbe-4c05-946c-45ead041c4fa",
   "metadata": {},
   "outputs": [
    {
     "name": "stderr",
     "output_type": "stream",
     "text": [
      "100%|██████████████████████████████████████████████████████| 1000/1000 [00:29<00:00, 33.65it/s]\n"
     ]
    },
    {
     "data": {
      "text/plain": [
       "(torch.Size([8, 31, 2048]),\n",
       " torch.Size([8, 31, 2048]),\n",
       " torch.Size([8, 31, 2048]),\n",
       " torch.Size([8, 17]))"
      ]
     },
     "execution_count": 11,
     "metadata": {},
     "output_type": "execute_result"
    }
   ],
   "source": [
    "# wfd.dets['H1'].ifo.power_spectral_density(psd_file=)\n",
    "wfdt.update()  # dynamic update our prior in loader.\n",
    "for index, (data, signal, noise, param) in enumerate(loader):\n",
    "    break\n",
    "data.shape, signal.shape, noise.shape, param.shape"
   ]
  },
  {
   "cell_type": "code",
   "execution_count": 12,
   "id": "cdc79e51-510c-4b78-9643-0e6bd1b79ef5",
   "metadata": {},
   "outputs": [
    {
     "data": {
      "text/html": [
       "<div>\n",
       "<style scoped>\n",
       "    .dataframe tbody tr th:only-of-type {\n",
       "        vertical-align: middle;\n",
       "    }\n",
       "\n",
       "    .dataframe tbody tr th {\n",
       "        vertical-align: top;\n",
       "    }\n",
       "\n",
       "    .dataframe thead th {\n",
       "        text-align: right;\n",
       "    }\n",
       "</style>\n",
       "<table border=\"1\" class=\"dataframe\">\n",
       "  <thead>\n",
       "    <tr style=\"text-align: right;\">\n",
       "      <th></th>\n",
       "      <th>mass_ratio</th>\n",
       "      <th>chirp_mass</th>\n",
       "      <th>luminosity_distance</th>\n",
       "      <th>dec</th>\n",
       "      <th>ra</th>\n",
       "      <th>theta_jn</th>\n",
       "      <th>psi</th>\n",
       "      <th>phase</th>\n",
       "      <th>a_1</th>\n",
       "      <th>a_2</th>\n",
       "      <th>tilt_1</th>\n",
       "      <th>tilt_2</th>\n",
       "      <th>phi_12</th>\n",
       "      <th>phi_jl</th>\n",
       "      <th>geocent_time</th>\n",
       "      <th>optimal_snr</th>\n",
       "      <th>matched_filter_snr</th>\n",
       "    </tr>\n",
       "  </thead>\n",
       "  <tbody>\n",
       "    <tr>\n",
       "      <th>0</th>\n",
       "      <td>0.560256+0.000000j</td>\n",
       "      <td>29.394386+0.000000j</td>\n",
       "      <td>315.437147+0.000000j</td>\n",
       "      <td>-0.625337+0.000000j</td>\n",
       "      <td>0.419239+0.000000j</td>\n",
       "      <td>1.572314+0.000000j</td>\n",
       "      <td>2.766147+0.000000j</td>\n",
       "      <td>4.615092+0.000000j</td>\n",
       "      <td>0.612523+0.000000j</td>\n",
       "      <td>0.310221+0.000000j</td>\n",
       "      <td>2.740754+0.000000j</td>\n",
       "      <td>1.547895+0.000000j</td>\n",
       "      <td>3.273305+0.000000j</td>\n",
       "      <td>2.469741+0.000000j</td>\n",
       "      <td>1.126259e+09+0.000000e+00j</td>\n",
       "      <td>50.0+0.0j</td>\n",
       "      <td>51.467113-1.738165j</td>\n",
       "    </tr>\n",
       "    <tr>\n",
       "      <th>1</th>\n",
       "      <td>0.757691+0.000000j</td>\n",
       "      <td>31.273648+0.000000j</td>\n",
       "      <td>242.712127+0.000000j</td>\n",
       "      <td>-0.695332+0.000000j</td>\n",
       "      <td>4.287012+0.000000j</td>\n",
       "      <td>2.061038+0.000000j</td>\n",
       "      <td>0.390522+0.000000j</td>\n",
       "      <td>4.270562+0.000000j</td>\n",
       "      <td>0.426803+0.000000j</td>\n",
       "      <td>0.735144+0.000000j</td>\n",
       "      <td>1.662740+0.000000j</td>\n",
       "      <td>0.962472+0.000000j</td>\n",
       "      <td>5.371554+0.000000j</td>\n",
       "      <td>2.871985+0.000000j</td>\n",
       "      <td>1.126259e+09+0.000000e+00j</td>\n",
       "      <td>50.0+0.0j</td>\n",
       "      <td>49.008560+1.274019j</td>\n",
       "    </tr>\n",
       "    <tr>\n",
       "      <th>2</th>\n",
       "      <td>0.716413+0.000000j</td>\n",
       "      <td>26.299200+0.000000j</td>\n",
       "      <td>495.839891+0.000000j</td>\n",
       "      <td>0.678531+0.000000j</td>\n",
       "      <td>1.849816+0.000000j</td>\n",
       "      <td>1.684786+0.000000j</td>\n",
       "      <td>1.879950+0.000000j</td>\n",
       "      <td>0.748761+0.000000j</td>\n",
       "      <td>0.793137+0.000000j</td>\n",
       "      <td>0.789543+0.000000j</td>\n",
       "      <td>2.116109+0.000000j</td>\n",
       "      <td>0.743664+0.000000j</td>\n",
       "      <td>3.690504+0.000000j</td>\n",
       "      <td>4.684152+0.000000j</td>\n",
       "      <td>1.126259e+09+0.000000e+00j</td>\n",
       "      <td>50.0+0.0j</td>\n",
       "      <td>52.595573-0.319488j</td>\n",
       "    </tr>\n",
       "    <tr>\n",
       "      <th>3</th>\n",
       "      <td>0.919304+0.000000j</td>\n",
       "      <td>26.691826+0.000000j</td>\n",
       "      <td>522.256573+0.000000j</td>\n",
       "      <td>0.222791+0.000000j</td>\n",
       "      <td>5.424080+0.000000j</td>\n",
       "      <td>2.140209+0.000000j</td>\n",
       "      <td>1.105298+0.000000j</td>\n",
       "      <td>6.192013+0.000000j</td>\n",
       "      <td>0.009983+0.000000j</td>\n",
       "      <td>0.802241+0.000000j</td>\n",
       "      <td>1.847191+0.000000j</td>\n",
       "      <td>0.943544+0.000000j</td>\n",
       "      <td>1.223408+0.000000j</td>\n",
       "      <td>3.007098+0.000000j</td>\n",
       "      <td>1.126259e+09+0.000000e+00j</td>\n",
       "      <td>50.0+0.0j</td>\n",
       "      <td>50.457466+0.915763j</td>\n",
       "    </tr>\n",
       "    <tr>\n",
       "      <th>4</th>\n",
       "      <td>0.982526+0.000000j</td>\n",
       "      <td>28.969946+0.000000j</td>\n",
       "      <td>502.730007+0.000000j</td>\n",
       "      <td>-1.150835+0.000000j</td>\n",
       "      <td>1.889768+0.000000j</td>\n",
       "      <td>2.903649+0.000000j</td>\n",
       "      <td>1.070716+0.000000j</td>\n",
       "      <td>4.926610+0.000000j</td>\n",
       "      <td>0.320686+0.000000j</td>\n",
       "      <td>0.623666+0.000000j</td>\n",
       "      <td>2.394412+0.000000j</td>\n",
       "      <td>1.963232+0.000000j</td>\n",
       "      <td>5.698473+0.000000j</td>\n",
       "      <td>4.598427+0.000000j</td>\n",
       "      <td>1.126259e+09+0.000000e+00j</td>\n",
       "      <td>50.0+0.0j</td>\n",
       "      <td>48.368488+1.164423j</td>\n",
       "    </tr>\n",
       "    <tr>\n",
       "      <th>5</th>\n",
       "      <td>0.902224+0.000000j</td>\n",
       "      <td>34.619533+0.000000j</td>\n",
       "      <td>453.466198+0.000000j</td>\n",
       "      <td>0.145041+0.000000j</td>\n",
       "      <td>3.941401+0.000000j</td>\n",
       "      <td>1.474211+0.000000j</td>\n",
       "      <td>0.424088+0.000000j</td>\n",
       "      <td>1.975412+0.000000j</td>\n",
       "      <td>0.989435+0.000000j</td>\n",
       "      <td>0.251507+0.000000j</td>\n",
       "      <td>0.916223+0.000000j</td>\n",
       "      <td>2.730953+0.000000j</td>\n",
       "      <td>4.430123+0.000000j</td>\n",
       "      <td>0.902090+0.000000j</td>\n",
       "      <td>1.126259e+09+0.000000e+00j</td>\n",
       "      <td>50.0+0.0j</td>\n",
       "      <td>48.984627-0.163030j</td>\n",
       "    </tr>\n",
       "    <tr>\n",
       "      <th>6</th>\n",
       "      <td>0.982184+0.000000j</td>\n",
       "      <td>28.228650+0.000000j</td>\n",
       "      <td>620.499241+0.000000j</td>\n",
       "      <td>1.166994+0.000000j</td>\n",
       "      <td>4.592052+0.000000j</td>\n",
       "      <td>1.449147+0.000000j</td>\n",
       "      <td>2.277511+0.000000j</td>\n",
       "      <td>4.761784+0.000000j</td>\n",
       "      <td>0.083500+0.000000j</td>\n",
       "      <td>0.865216+0.000000j</td>\n",
       "      <td>0.325253+0.000000j</td>\n",
       "      <td>2.238220+0.000000j</td>\n",
       "      <td>1.545089+0.000000j</td>\n",
       "      <td>2.500244+0.000000j</td>\n",
       "      <td>1.126259e+09+0.000000e+00j</td>\n",
       "      <td>50.0+0.0j</td>\n",
       "      <td>49.760738+0.681897j</td>\n",
       "    </tr>\n",
       "    <tr>\n",
       "      <th>7</th>\n",
       "      <td>0.907950+0.000000j</td>\n",
       "      <td>33.718764+0.000000j</td>\n",
       "      <td>657.589122+0.000000j</td>\n",
       "      <td>-0.268543+0.000000j</td>\n",
       "      <td>1.205327+0.000000j</td>\n",
       "      <td>0.796850+0.000000j</td>\n",
       "      <td>1.642818+0.000000j</td>\n",
       "      <td>4.016241+0.000000j</td>\n",
       "      <td>0.627352+0.000000j</td>\n",
       "      <td>0.590766+0.000000j</td>\n",
       "      <td>0.781782+0.000000j</td>\n",
       "      <td>1.754623+0.000000j</td>\n",
       "      <td>3.187384+0.000000j</td>\n",
       "      <td>1.440969+0.000000j</td>\n",
       "      <td>1.126259e+09+0.000000e+00j</td>\n",
       "      <td>50.0+0.0j</td>\n",
       "      <td>49.619637-0.541059j</td>\n",
       "    </tr>\n",
       "  </tbody>\n",
       "</table>\n",
       "</div>"
      ],
      "text/plain": [
       "           mass_ratio           chirp_mass   luminosity_distance  \\\n",
       "0  0.560256+0.000000j  29.394386+0.000000j  315.437147+0.000000j   \n",
       "1  0.757691+0.000000j  31.273648+0.000000j  242.712127+0.000000j   \n",
       "2  0.716413+0.000000j  26.299200+0.000000j  495.839891+0.000000j   \n",
       "3  0.919304+0.000000j  26.691826+0.000000j  522.256573+0.000000j   \n",
       "4  0.982526+0.000000j  28.969946+0.000000j  502.730007+0.000000j   \n",
       "5  0.902224+0.000000j  34.619533+0.000000j  453.466198+0.000000j   \n",
       "6  0.982184+0.000000j  28.228650+0.000000j  620.499241+0.000000j   \n",
       "7  0.907950+0.000000j  33.718764+0.000000j  657.589122+0.000000j   \n",
       "\n",
       "                  dec                  ra            theta_jn  \\\n",
       "0 -0.625337+0.000000j  0.419239+0.000000j  1.572314+0.000000j   \n",
       "1 -0.695332+0.000000j  4.287012+0.000000j  2.061038+0.000000j   \n",
       "2  0.678531+0.000000j  1.849816+0.000000j  1.684786+0.000000j   \n",
       "3  0.222791+0.000000j  5.424080+0.000000j  2.140209+0.000000j   \n",
       "4 -1.150835+0.000000j  1.889768+0.000000j  2.903649+0.000000j   \n",
       "5  0.145041+0.000000j  3.941401+0.000000j  1.474211+0.000000j   \n",
       "6  1.166994+0.000000j  4.592052+0.000000j  1.449147+0.000000j   \n",
       "7 -0.268543+0.000000j  1.205327+0.000000j  0.796850+0.000000j   \n",
       "\n",
       "                  psi               phase                 a_1  \\\n",
       "0  2.766147+0.000000j  4.615092+0.000000j  0.612523+0.000000j   \n",
       "1  0.390522+0.000000j  4.270562+0.000000j  0.426803+0.000000j   \n",
       "2  1.879950+0.000000j  0.748761+0.000000j  0.793137+0.000000j   \n",
       "3  1.105298+0.000000j  6.192013+0.000000j  0.009983+0.000000j   \n",
       "4  1.070716+0.000000j  4.926610+0.000000j  0.320686+0.000000j   \n",
       "5  0.424088+0.000000j  1.975412+0.000000j  0.989435+0.000000j   \n",
       "6  2.277511+0.000000j  4.761784+0.000000j  0.083500+0.000000j   \n",
       "7  1.642818+0.000000j  4.016241+0.000000j  0.627352+0.000000j   \n",
       "\n",
       "                  a_2              tilt_1              tilt_2  \\\n",
       "0  0.310221+0.000000j  2.740754+0.000000j  1.547895+0.000000j   \n",
       "1  0.735144+0.000000j  1.662740+0.000000j  0.962472+0.000000j   \n",
       "2  0.789543+0.000000j  2.116109+0.000000j  0.743664+0.000000j   \n",
       "3  0.802241+0.000000j  1.847191+0.000000j  0.943544+0.000000j   \n",
       "4  0.623666+0.000000j  2.394412+0.000000j  1.963232+0.000000j   \n",
       "5  0.251507+0.000000j  0.916223+0.000000j  2.730953+0.000000j   \n",
       "6  0.865216+0.000000j  0.325253+0.000000j  2.238220+0.000000j   \n",
       "7  0.590766+0.000000j  0.781782+0.000000j  1.754623+0.000000j   \n",
       "\n",
       "               phi_12              phi_jl                geocent_time  \\\n",
       "0  3.273305+0.000000j  2.469741+0.000000j  1.126259e+09+0.000000e+00j   \n",
       "1  5.371554+0.000000j  2.871985+0.000000j  1.126259e+09+0.000000e+00j   \n",
       "2  3.690504+0.000000j  4.684152+0.000000j  1.126259e+09+0.000000e+00j   \n",
       "3  1.223408+0.000000j  3.007098+0.000000j  1.126259e+09+0.000000e+00j   \n",
       "4  5.698473+0.000000j  4.598427+0.000000j  1.126259e+09+0.000000e+00j   \n",
       "5  4.430123+0.000000j  0.902090+0.000000j  1.126259e+09+0.000000e+00j   \n",
       "6  1.545089+0.000000j  2.500244+0.000000j  1.126259e+09+0.000000e+00j   \n",
       "7  3.187384+0.000000j  1.440969+0.000000j  1.126259e+09+0.000000e+00j   \n",
       "\n",
       "   optimal_snr   matched_filter_snr  \n",
       "0    50.0+0.0j  51.467113-1.738165j  \n",
       "1    50.0+0.0j  49.008560+1.274019j  \n",
       "2    50.0+0.0j  52.595573-0.319488j  \n",
       "3    50.0+0.0j  50.457466+0.915763j  \n",
       "4    50.0+0.0j  48.368488+1.164423j  \n",
       "5    50.0+0.0j  48.984627-0.163030j  \n",
       "6    50.0+0.0j  49.760738+0.681897j  \n",
       "7    50.0+0.0j  49.619637-0.541059j  "
      ]
     },
     "execution_count": 12,
     "metadata": {},
     "output_type": "execute_result"
    }
   ],
   "source": [
    "# 可以查看每个样本的物理参数，包括信噪比\n",
    "import pandas as pd\n",
    "pd.DataFrame(param.numpy(), columns=wfdt.var.target_labels)\n",
    "# pd.DataFrame(wfdt.transform_inv_params(param), columns=wfdt.var.target_labels)"
   ]
  },
  {
   "cell_type": "code",
   "execution_count": 14,
   "id": "260c636e-33d0-4295-b975-15d312956cf2",
   "metadata": {},
   "outputs": [
    {
     "name": "stderr",
     "output_type": "stream",
     "text": [
      "/root/miniconda3/envs/gwtoolkit/lib/python3.8/site-packages/pandas/core/construction.py:759: ComplexWarning: Casting complex values to real discards the imaginary part\n",
      "  subarr = np.array(arr, dtype=dtype, copy=copy)\n"
     ]
    },
    {
     "data": {
      "image/png": "[encoded data removed]",
      "text/plain": [
       "<Figure size 432x288 with 1 Axes>"
      ]
     },
     "metadata": {
      "needs_background": "light"
     },
     "output_type": "display_data"
    }
   ],
   "source": [
    "import matplotlib.pyplot as plt\n",
    "# 查看一个 epoch 所有信号的到达时间在 target_time 周围的分布\n",
    "pd.DataFrame(wfdt.params_block, columns=wfdt.var.target_labels, dtype=float)['geocent_time'].map(lambda x: x-target_time).hist(bins='auto');\n",
    "plt.xlabel('geocent_time');"
   ]
  },
  {
   "cell_type": "code",
   "execution_count": 15,
   "id": "b9069f88-2e18-402a-bc1a-70bf40646ca7",
   "metadata": {},
   "outputs": [
    {
     "data": {
      "image/png": "[encoded data removed]",
      "text/plain": [
       "<Figure size 432x288 with 1 Axes>"
      ]
     },
     "metadata": {
      "needs_background": "light"
     },
     "output_type": "display_data"
    }
   ],
   "source": [
    "import pandas as pd\n",
    "import matplotlib.pyplot as plt\n",
    "pd.DataFrame(wfdt.params_block, columns=wfdt.var.target_labels, dtype=float)['optimal_snr'].hist(bins='auto');\n",
    "plt.xlabel('optimal_snr');\n",
    "# plt.xscale('log');"
   ]
  },
  {
   "cell_type": "code",
   "execution_count": 16,
   "id": "f82afcf6-1481-4a60-a6c8-037740bc9a5f",
   "metadata": {},
   "outputs": [
    {
     "data": {
      "text/plain": [
       "(tensor(1.4361e-05, dtype=torch.float64), tensor(1.0263, dtype=torch.float64))"
      ]
     },
     "execution_count": 16,
     "metadata": {},
     "output_type": "execute_result"
    }
   ],
   "source": [
    "# 可以看到数据已经被标准化了\n",
    "data.mean(), data.std()"
   ]
  },
  {
   "cell_type": "code",
   "execution_count": 17,
   "id": "5747a59c-f6cd-4225-b6b7-d522513639f6",
   "metadata": {},
   "outputs": [
    {
     "data": {
      "text/plain": [
       "True"
      ]
     },
     "execution_count": 17,
     "metadata": {},
     "output_type": "execute_result"
    }
   ],
   "source": [
    "# 验证：数据 = 信号 + 噪声\n",
    "numpy.allclose( data.numpy() ,signal.numpy()+noise.numpy() )"
   ]
  },
  {
   "cell_type": "code",
   "execution_count": 18,
   "id": "e09bdb33-584c-4c23-9a0b-bcd1c17e0607",
   "metadata": {},
   "outputs": [
    {
     "data": {
      "text/plain": [
       "[<matplotlib.lines.Line2D at 0x7f1be5852880>]"
      ]
     },
     "execution_count": 18,
     "metadata": {},
     "output_type": "execute_result"
    },
    {
     "data": {
      "image/png": "[encoded data removed]",
      "text/plain": [
       "<Figure size 432x288 with 1 Axes>"
      ]
     },
     "metadata": {
      "needs_background": "light"
     },
     "output_type": "display_data"
    }
   ],
   "source": [
    "# 因为是数据都是被 patching 化了，所以信号截断出现在部分的 token 维度上\n",
    "# (only works on fixed SNR dataset)\n",
    "import matplotlib.pyplot as plt\n",
    "plt.plot(data.numpy()[0,23])\n",
    "plt.plot(signal.numpy()[0,23])"
   ]
  },
  {
   "cell_type": "code",
   "execution_count": 19,
   "id": "3a7ccbd6-c9e8-440f-9e75-ae6e927a34d8",
   "metadata": {},
   "outputs": [
    {
     "data": {
      "image/png": "[encoded data removed]",
      "text/plain": [
       "<Figure size 432x288 with 1 Axes>"
      ]
     },
     "metadata": {
      "needs_background": "light"
     },
     "output_type": "display_data"
    }
   ],
   "source": [
    "# 将 patch 化的数据重新组合起来，观察训练的第 index 信号:\n",
    "import matplotlib.pyplot as plt\n",
    "index = 2\n",
    "patch_size_sec = int(patch_size * sampling_frequency)\n",
    "for i in range(signal.shape[1]):\n",
    "    plt.plot(numpy.linspace(0+patch_size*overlap*i, patch_size*(overlap*i+1), \n",
    "                            num=patch_size_sec), \n",
    "             data[index][i].numpy(), color='b')    \n",
    "    plt.plot(numpy.linspace(0+patch_size*overlap*i, patch_size*(overlap*i+1), \n",
    "                            num=patch_size_sec), \n",
    "             signal[index][i].numpy(), color='r')\n",
    "plt.xlabel('time [sec]');"
   ]
  },
  {
   "cell_type": "code",
   "execution_count": null,
   "id": "bb15136d-d57d-4d9f-97b3-b7b1e469d64b",
   "metadata": {},
   "outputs": [],
   "source": []
  }
 ],
 "metadata": {
  "kernelspec": {
   "display_name": "Python 3 (ipykernel)",
   "language": "python",
   "name": "python3"
  },
  "language_info": {
   "codemirror_mode": {
    "name": "ipython",
    "version": 3
   },
   "file_extension": ".py",
   "mimetype": "text/x-python",
   "name": "python",
   "nbconvert_exporter": "python",
   "pygments_lexer": "ipython3",
   "version": "3.8.10"
  }
 },
 "nbformat": 4,
 "nbformat_minor": 5
}
