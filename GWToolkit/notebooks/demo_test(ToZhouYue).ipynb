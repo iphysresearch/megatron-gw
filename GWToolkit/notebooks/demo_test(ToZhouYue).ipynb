{
 "cells": [
  {
   "cell_type": "markdown",
   "id": "dba4e675",
   "metadata": {},
   "source": [
    "# Test on stimulated signals (off-source)"
   ]
  },
  {
   "cell_type": "code",
   "execution_count": 1,
   "id": "679fc9c1",
   "metadata": {},
   "outputs": [],
   "source": [
    "import sys\n",
    "sys.path.append('..')\n",
    "from gwtoolkit.gw import WaveformDataset\n",
    "from gwtoolkit.torch import (WaveformDatasetTorch, Normalize_params, Patching_data, ToTensor)\n",
    "import torch\n",
    "from torchvision import transforms\n",
    "from torch.utils.data import DataLoader\n",
    "import itertools\n",
    "import numpy\n",
    "\n",
    "import matplotlib.pyplot as plt"
   ]
  },
  {
   "cell_type": "code",
   "execution_count": 2,
   "id": "63bf099c",
   "metadata": {},
   "outputs": [],
   "source": [
    "# 1. Init for WaveformDataset\n",
    "sampling_frequency = 4096     # [Hz], sampling rate\n",
    "duration = 8                  # [sec], duration of a sample\n",
    "conversion = 'BBH'\n",
    "waveform_approximant = 'IMRPhenomPv2'\n",
    "# waveform_approximant = 'SEOBNRv4P' ## TODO\n",
    "# waveform_approximant = 'IMRPhenomPv2_NRTidal'\n",
    "# waveform_approximant = 'IMRPhenomXP'\n",
    "reference_frequency = 50.\n",
    "minimum_frequency = 20.\n",
    "waveform_arguments = dict(waveform_approximant=waveform_approximant,\n",
    "                          reference_frequency=reference_frequency,\n",
    "                          minimum_frequency=minimum_frequency)\n",
    "base = 'bilby'\n",
    "dets = ['H1', 'L1'][:1]\n",
    "\n",
    "filename = '../tests/gw/demo.prior'   # default prior file"
   ]
  },
  {
   "cell_type": "code",
   "execution_count": 3,
   "id": "cee48a55",
   "metadata": {},
   "outputs": [
    {
     "name": "stdout",
     "output_type": "stream",
     "text": [
      "Using priors in ../tests/gw/demo.prior\n"
     ]
    }
   ],
   "source": [
    "# waveform dataset\n",
    "wfd = WaveformDataset(sampling_frequency=sampling_frequency,\n",
    "                      duration=duration,\n",
    "                      conversion=conversion)\n",
    "\n",
    "wfd.load_prior_source_detector(\n",
    "    filename=filename,\n",
    "    base=base,\n",
    "    dets=dets,\n",
    "    waveform_arguments=waveform_arguments)"
   ]
  },
  {
   "cell_type": "code",
   "execution_count": 11,
   "id": "e4f5df9b",
   "metadata": {},
   "outputs": [
    {
     "ename": "ValueError",
     "evalue": "invalid literal for int() with base 10: ''",
     "output_type": "error",
     "traceback": [
      "\u001b[0;31m---------------------------------------------------------------------------\u001b[0m",
      "\u001b[0;31mValueError\u001b[0m                                Traceback (most recent call last)",
      "\u001b[0;32m/tmp/ipykernel_2981/521974746.py\u001b[0m in \u001b[0;36m<module>\u001b[0;34m\u001b[0m\n\u001b[1;32m      1\u001b[0m \u001b[0mdata_dir\u001b[0m \u001b[0;34m=\u001b[0m \u001b[0;34m'./dataset/'\u001b[0m\u001b[0;34m\u001b[0m\u001b[0;34m\u001b[0m\u001b[0m\n\u001b[1;32m      2\u001b[0m \u001b[0;31m# 准备取 8sec 真实数据的数据\u001b[0m\u001b[0;34m\u001b[0m\u001b[0;34m\u001b[0m\u001b[0;34m\u001b[0m\u001b[0m\n\u001b[0;32m----> 3\u001b[0;31m \u001b[0mwfd\u001b[0m\u001b[0;34m.\u001b[0m\u001b[0mdets\u001b[0m\u001b[0;34m[\u001b[0m\u001b[0;34m'H1'\u001b[0m\u001b[0;34m]\u001b[0m\u001b[0;34m.\u001b[0m\u001b[0mload_from_GWOSC\u001b[0m\u001b[0;34m(\u001b[0m\u001b[0mdata_dir\u001b[0m\u001b[0;34m,\u001b[0m \u001b[0mduration\u001b[0m\u001b[0;34m,\u001b[0m \u001b[0mselected_hdf_file_ratio\u001b[0m\u001b[0;34m=\u001b[0m\u001b[0;36m0.05\u001b[0m\u001b[0;34m)\u001b[0m\u001b[0;34m\u001b[0m\u001b[0;34m\u001b[0m\u001b[0m\n\u001b[0m",
      "\u001b[0;32m/userhome/GWToolkit/notebooks/../gwtoolkit/gw/detector.py\u001b[0m in \u001b[0;36mload_from_GWOSC\u001b[0;34m(self, data_dir, noise_interval, selected_hdf_file_ratio, num_length)\u001b[0m\n\u001b[1;32m     44\u001b[0m \u001b[0;34m\u001b[0m\u001b[0m\n\u001b[1;32m     45\u001b[0m     \u001b[0;32mdef\u001b[0m \u001b[0mload_from_GWOSC\u001b[0m\u001b[0;34m(\u001b[0m\u001b[0mself\u001b[0m\u001b[0;34m,\u001b[0m \u001b[0mdata_dir\u001b[0m\u001b[0;34m,\u001b[0m \u001b[0mnoise_interval\u001b[0m\u001b[0;34m,\u001b[0m \u001b[0mselected_hdf_file_ratio\u001b[0m\u001b[0;34m,\u001b[0m \u001b[0mnum_length\u001b[0m\u001b[0;34m=\u001b[0m\u001b[0;36m1\u001b[0m\u001b[0;34m)\u001b[0m\u001b[0;34m:\u001b[0m\u001b[0;34m\u001b[0m\u001b[0;34m\u001b[0m\u001b[0m\n\u001b[0;32m---> 46\u001b[0;31m         self.gwosc = GWOSC(self.ifo.name, data_dir, self.sampling_frequency, noise_interval, selected_hdf_file_ratio,\n\u001b[0m\u001b[1;32m     47\u001b[0m                            num_length=num_length)\n\u001b[1;32m     48\u001b[0m \u001b[0;34m\u001b[0m\u001b[0m\n",
      "\u001b[0;32m/userhome/GWToolkit/notebooks/../gwtoolkit/gw/gwosc_cvmfs.py\u001b[0m in \u001b[0;36m__init__\u001b[0;34m(self, ifo, data_dir, sampling_frequency, noise_interval, selected_hdf_file_ratio, dq_bits, inj_bits, num_length)\u001b[0m\n\u001b[1;32m     52\u001b[0m \u001b[0;34m\u001b[0m\u001b[0m\n\u001b[1;32m     53\u001b[0m         \u001b[0;31m# Used for scanning the raw data # TODO 下面的类应该提炼成自己的代码\u001b[0m\u001b[0;34m\u001b[0m\u001b[0;34m\u001b[0m\u001b[0;34m\u001b[0m\u001b[0m\n\u001b[0;32m---> 54\u001b[0;31m         self.noise_timeline = NoiseTimeline(background_data_directory=data_dir,\n\u001b[0m\u001b[1;32m     55\u001b[0m                                             \u001b[0mselected_hdf_file_ratio\u001b[0m\u001b[0;34m=\u001b[0m\u001b[0mselected_hdf_file_ratio\u001b[0m\u001b[0;34m,\u001b[0m\u001b[0;34m\u001b[0m\u001b[0;34m\u001b[0m\u001b[0m\n\u001b[1;32m     56\u001b[0m                                             random_seed=random_seed)\n",
      "\u001b[0;32m/userhome/GWToolkit/notebooks/../gwtoolkit/gw/hdffiles.py\u001b[0m in \u001b[0;36m__init__\u001b[0;34m(self, background_data_directory, random_seed, selected_hdf_file_ratio, verbose)\u001b[0m\n\u001b[1;32m    219\u001b[0m         \u001b[0;31m# Read in the meta information and masks from HDF files\u001b[0m\u001b[0;34m\u001b[0m\u001b[0;34m\u001b[0m\u001b[0;34m\u001b[0m\u001b[0m\n\u001b[1;32m    220\u001b[0m         \u001b[0mself\u001b[0m\u001b[0;34m.\u001b[0m\u001b[0mvprint\u001b[0m\u001b[0;34m(\u001b[0m\u001b[0;34m'Reading information from HDF files'\u001b[0m\u001b[0;34m,\u001b[0m \u001b[0mend\u001b[0m\u001b[0;34m=\u001b[0m\u001b[0;34m' '\u001b[0m\u001b[0;34m)\u001b[0m\u001b[0;34m\u001b[0m\u001b[0;34m\u001b[0m\u001b[0m\n\u001b[0;32m--> 221\u001b[0;31m         \u001b[0mself\u001b[0m\u001b[0;34m.\u001b[0m\u001b[0mhdf_files\u001b[0m \u001b[0;34m=\u001b[0m \u001b[0mself\u001b[0m\u001b[0;34m.\u001b[0m\u001b[0m_get_hdf_files\u001b[0m\u001b[0;34m(\u001b[0m\u001b[0;34m)\u001b[0m\u001b[0;34m\u001b[0m\u001b[0;34m\u001b[0m\u001b[0m\n\u001b[0m\u001b[1;32m    222\u001b[0m         \u001b[0mself\u001b[0m\u001b[0;34m.\u001b[0m\u001b[0mvprint\u001b[0m\u001b[0;34m(\u001b[0m\u001b[0;34m'Done!'\u001b[0m\u001b[0;34m)\u001b[0m\u001b[0;34m\u001b[0m\u001b[0;34m\u001b[0m\u001b[0m\n\u001b[1;32m    223\u001b[0m \u001b[0;34m\u001b[0m\u001b[0m\n",
      "\u001b[0;32m/userhome/GWToolkit/notebooks/../gwtoolkit/gw/hdffiles.py\u001b[0m in \u001b[0;36m_get_hdf_files\u001b[0;34m(self)\u001b[0m\n\u001b[1;32m    278\u001b[0m                 \u001b[0mstart_time\u001b[0m \u001b[0;34m=\u001b[0m \u001b[0mint\u001b[0m\u001b[0;34m(\u001b[0m\u001b[0;34m(\u001b[0m\u001b[0mhdf_file_path\u001b[0m\u001b[0;34m.\u001b[0m\u001b[0msplit\u001b[0m\u001b[0;34m(\u001b[0m\u001b[0;34m'/'\u001b[0m\u001b[0;34m)\u001b[0m\u001b[0;34m[\u001b[0m\u001b[0;34m-\u001b[0m\u001b[0;36m1\u001b[0m\u001b[0;34m]\u001b[0m\u001b[0;34m.\u001b[0m\u001b[0msplit\u001b[0m\u001b[0;34m(\u001b[0m\u001b[0;34m'-'\u001b[0m\u001b[0;34m)\u001b[0m\u001b[0;34m[\u001b[0m\u001b[0;34m-\u001b[0m\u001b[0;36m2\u001b[0m\u001b[0;34m]\u001b[0m\u001b[0;34m)\u001b[0m\u001b[0;34m)\u001b[0m\u001b[0;34m\u001b[0m\u001b[0;34m\u001b[0m\u001b[0m\n\u001b[1;32m    279\u001b[0m \u001b[0;34m\u001b[0m\u001b[0m\n\u001b[0;32m--> 280\u001b[0;31m                 \u001b[0mduration\u001b[0m \u001b[0;34m=\u001b[0m \u001b[0mint\u001b[0m\u001b[0;34m(\u001b[0m\u001b[0;34m(\u001b[0m\u001b[0mhdf_file_path\u001b[0m\u001b[0;34m.\u001b[0m\u001b[0msplit\u001b[0m\u001b[0;34m(\u001b[0m\u001b[0;34m'.'\u001b[0m\u001b[0;34m)\u001b[0m\u001b[0;34m[\u001b[0m\u001b[0;36m0\u001b[0m\u001b[0;34m]\u001b[0m\u001b[0;34m.\u001b[0m\u001b[0msplit\u001b[0m\u001b[0;34m(\u001b[0m\u001b[0;34m'-'\u001b[0m\u001b[0;34m)\u001b[0m\u001b[0;34m[\u001b[0m\u001b[0;34m-\u001b[0m\u001b[0;36m1\u001b[0m\u001b[0;34m]\u001b[0m\u001b[0;34m)\u001b[0m\u001b[0;34m)\u001b[0m\u001b[0;34m\u001b[0m\u001b[0;34m\u001b[0m\u001b[0m\n\u001b[0m\u001b[1;32m    281\u001b[0m                 \u001b[0;32massert\u001b[0m \u001b[0mduration\u001b[0m \u001b[0;34m==\u001b[0m \u001b[0;36m4096\u001b[0m\u001b[0;34m\u001b[0m\u001b[0;34m\u001b[0m\u001b[0m\n\u001b[1;32m    282\u001b[0m                 \u001b[0mend_time\u001b[0m \u001b[0;34m=\u001b[0m \u001b[0mstart_time\u001b[0m \u001b[0;34m+\u001b[0m \u001b[0mduration\u001b[0m\u001b[0;34m\u001b[0m\u001b[0;34m\u001b[0m\u001b[0m\n",
      "\u001b[0;31mValueError\u001b[0m: invalid literal for int() with base 10: ''"
     ]
    }
   ],
   "source": [
    "data_dir = './dataset/'\n",
    "# 准备取 8sec 真实数据的数据\n",
    "wfd.dets['H1'].load_from_GWOSC(data_dir, duration, selected_hdf_file_ratio=0.05)"
   ]
  },
  {
   "cell_type": "code",
   "execution_count": 110,
   "id": "821595a0",
   "metadata": {},
   "outputs": [
    {
     "data": {
      "text/plain": [
       "[<matplotlib.lines.Line2D at 0x7fa07e98c490>]"
      ]
     },
     "execution_count": 110,
     "metadata": {},
     "output_type": "execute_result"
    },
    {
     "data": {
      "image/png": "[encoded data removed]",
      "text/plain": [
       "<Figure size 432x288 with 1 Axes>"
      ]
     },
     "metadata": {
      "needs_background": "light"
     },
     "output_type": "display_data"
    }
   ],
   "source": [
    "# 从真实数据中随机采样一段真实噪声数据, 并计算其 PSD\n",
    "wfd.dets['H1'].update_time_domain_strain_from_GWOSC(seg_sec=2)   # seg_sec 表示计算 PSD 的切段长度\n",
    "noise = wfd.dets['H1'].time_domain_whitened_strain\n",
    "\n",
    "# 根据真实噪声的 PSD，进行白化后的噪声数据\n",
    "plt.plot(wfd.dets['H1'].time_array, noise)"
   ]
  },
  {
   "cell_type": "code",
   "execution_count": 118,
   "id": "19e3ec1f",
   "metadata": {},
   "outputs": [
    {
     "data": {
      "text/plain": [
       "[<matplotlib.lines.Line2D at 0x7fa07e688dc0>]"
      ]
     },
     "execution_count": 118,
     "metadata": {},
     "output_type": "execute_result"
    },
    {
     "data": {
      "image/png": "[encoded data removed]",
      "text/plain": [
       "<Figure size 432x288 with 1 Axes>"
      ]
     },
     "metadata": {
      "needs_background": "light"
     },
     "output_type": "display_data"
    }
   ],
   "source": [
    "# 从先验参数空间中中随机采样出一个偏振波形\n",
    "wfd._update_waveform()\n",
    "\n",
    "# 将偏振波形投影到与噪声的 GPS 时间相匹配的探测器波形\n",
    "start_time = wfd.dets['H1'].gwosc.start\n",
    "buffer_time = 2\n",
    "wfd.parameters['geocent_time'] = numpy.asarray([start_time+(duration - buffer_time)])\n",
    "\n",
    "# 指定 optimal 信噪比\n",
    "target_optimal_snr = 50\n",
    "target_optimal_snr /= wfd.dets['H1'].optimal_snr(wfd.frequency_waveform_response[0] )\n",
    "\n",
    "external_parameters = {k: wfd.parameters[k][0] for k in wfd._external_parameters}\n",
    "temp = wfd.dets['H1']\n",
    "signal, time_array = temp.frequency_to_time_domain(temp.whiten(target_optimal_snr * temp.get_detector_response(wfd.frequency_waveform_polarizations, external_parameters)))\n",
    "\n",
    "\n",
    "# 根据真实噪声的 PSD，进行白化后的纯信号\n",
    "plt.plot(time_array, signal)"
   ]
  },
  {
   "cell_type": "code",
   "execution_count": 102,
   "id": "022a8c37",
   "metadata": {},
   "outputs": [
    {
     "data": {
      "text/plain": [
       "32768"
      ]
     },
     "execution_count": 102,
     "metadata": {},
     "output_type": "execute_result"
    },
    {
     "data": {
      "image/png": "[encoded data removed]",
      "text/plain": [
       "<Figure size 432x288 with 1 Axes>"
      ]
     },
     "metadata": {
      "needs_background": "light"
     },
     "output_type": "display_data"
    }
   ],
   "source": [
    "data = noise + signal\n",
    "\n",
    "plt.plot(time_array, data)\n",
    "plt.plot(time_array, signal)\n",
    "data.size"
   ]
  },
  {
   "cell_type": "code",
   "execution_count": 103,
   "id": "4fb50aec",
   "metadata": {},
   "outputs": [
    {
     "data": {
      "text/plain": [
       "{'mass_ratio': array([0.91520889]),\n",
       " 'chirp_mass': array([28.57630523]),\n",
       " 'luminosity_distance': array([648.3430391]),\n",
       " 'dec': array([-1.27690905]),\n",
       " 'ra': array([3.79809546]),\n",
       " 'theta_jn': array([1.47215517]),\n",
       " 'psi': array([0.84709182]),\n",
       " 'phase': array([5.85122543]),\n",
       " 'a_1': array([0.42257139]),\n",
       " 'a_2': array([0.23225095]),\n",
       " 'tilt_1': array([2.01470537]),\n",
       " 'tilt_2': array([0.7475604]),\n",
       " 'phi_12': array([5.9153709]),\n",
       " 'phi_jl': array([5.30989175]),\n",
       " 'geocent_time': array([1126929619])}"
      ]
     },
     "execution_count": 103,
     "metadata": {},
     "output_type": "execute_result"
    }
   ],
   "source": [
    "wfd.parameters"
   ]
  },
  {
   "cell_type": "markdown",
   "id": "cffe6cd4",
   "metadata": {},
   "source": [
    "# Test on real events (on-source)"
   ]
  },
  {
   "cell_type": "code",
   "execution_count": 6,
   "id": "e96a5e9f",
   "metadata": {},
   "outputs": [],
   "source": [
    "import sys\n",
    "sys.path.append('..')\n",
    "from gwtoolkit.gw import WaveformDataset\n",
    "from gwtoolkit.torch import (WaveformDatasetTorch, Normalize_params, Patching_data, ToTensor)\n",
    "import torch\n",
    "from torchvision import transforms\n",
    "from torch.utils.data import DataLoader\n",
    "import itertools\n",
    "import numpy\n",
    "\n",
    "from gwtoolkit.gw.gwosc_cvmfs import getstrain_cvmfs, FileList\n",
    "from gwtoolkit.utils import pickle_read\n",
    "import scipy.signal\n",
    "from bilby.core import utils\n",
    "import matplotlib.pyplot as plt"
   ]
  },
  {
   "cell_type": "code",
   "execution_count": 7,
   "id": "742a86d9",
   "metadata": {},
   "outputs": [],
   "source": [
    "# 1. Init for WaveformDataset\n",
    "sampling_frequency = 4096     # [Hz], sampling rate\n",
    "duration = 8                  # [sec], duration of a sample\n",
    "conversion = 'BBH'\n",
    "waveform_approximant = 'IMRPhenomPv2'\n",
    "# waveform_approximant = 'SEOBNRv4P' ## TODO\n",
    "# waveform_approximant = 'IMRPhenomPv2_NRTidal'\n",
    "# waveform_approximant = 'IMRPhenomXP'\n",
    "reference_frequency = 50.\n",
    "minimum_frequency = 20.\n",
    "waveform_arguments = dict(waveform_approximant=waveform_approximant,\n",
    "                          reference_frequency=reference_frequency,\n",
    "                          minimum_frequency=minimum_frequency)\n",
    "base = 'bilby'\n",
    "dets = ['H1', 'L1'][:1]\n",
    "\n",
    "filename = '../tests/gw/demo.prior'   # default prior file"
   ]
  },
  {
   "cell_type": "code",
   "execution_count": 8,
   "id": "2eefa34d",
   "metadata": {},
   "outputs": [
    {
     "name": "stdout",
     "output_type": "stream",
     "text": [
      "Using priors in ../tests/gw/demo.prior\n"
     ]
    }
   ],
   "source": [
    "# waveform dataset\n",
    "wfd = WaveformDataset(sampling_frequency=sampling_frequency,\n",
    "                      duration=duration,\n",
    "                      conversion=conversion)\n",
    "\n",
    "wfd.load_prior_source_detector(\n",
    "    filename=filename,\n",
    "    base=base,\n",
    "    dets=dets,\n",
    "    waveform_arguments=waveform_arguments)"
   ]
  },
  {
   "cell_type": "code",
   "execution_count": 6,
   "id": "b6afeef2",
   "metadata": {},
   "outputs": [
    {
     "name": "stdout",
     "output_type": "stream",
     "text": [
      "Using data directory /workspace/zhaoty/dataset/O1_H1_All/ ...\n"
     ]
    }
   ],
   "source": [
    "data_dir = '/workspace/zhaoty/dataset/O1_H1_All/'\n",
    "# 准备取 4096sec 真实数据的数据\n",
    "wfd.dets['H1'].load_from_GWOSC(data_dir, 1024)\n",
    "GWTC1_events = pickle_read('../gwtoolkit/gw/metadata/GWTC1_events.pkl')\n",
    "filelist = FileList(directory=data_dir)\n",
    "ifo = 'H1'"
   ]
  },
  {
   "cell_type": "code",
   "execution_count": 90,
   "id": "52153087",
   "metadata": {},
   "outputs": [],
   "source": [
    "# GW151012 GW151226 GW150914\n",
    "target_time = GWTC1_events['GW150914']['trigger-time'] \n",
    "PSD_strain, _, _, _ = getstrain_cvmfs(target_time - 6  -1024, target_time - 6  , ifo, filelist)\n",
    "seg_sec = 0.1\n",
    "freq, Pxx = scipy.signal.welch(PSD_strain, fs=sampling_frequency,\n",
    "                               nperseg=seg_sec*sampling_frequency, )\n",
    "\n",
    "# \n",
    "wfd.dets['H1'].ifo.power_spectral_density = wfd.dets['H1'].ifo.power_spectral_density.from_power_spectral_density_array(freq, Pxx)"
   ]
  },
  {
   "cell_type": "code",
   "execution_count": 91,
   "id": "bab5e7df",
   "metadata": {},
   "outputs": [],
   "source": [
    "start = target_time - 6         # step=0.5, -200 +50\n",
    "strain, time, dqmask, injmask = getstrain_cvmfs(start, start+duration, ifo, filelist)\n",
    "strain = strain[::4]\n",
    "time = time[::4]\n",
    "freq_domain_strain, freq = wfd.dets['H1'].time_to_frequency_domain(strain)\n",
    "whiten_freq_domain_strain = freq_domain_strain / wfd.dets['H1'].amplitude_spectral_density_array\n",
    "witen_time_domain_strain = utils.infft(whiten_freq_domain_strain, sampling_frequency)"
   ]
  },
  {
   "cell_type": "code",
   "execution_count": 94,
   "id": "d2a28fc0",
   "metadata": {},
   "outputs": [
    {
     "data": {
      "text/plain": [
       "<matplotlib.lines.Line2D at 0x7f5edc2b9f10>"
      ]
     },
     "execution_count": 94,
     "metadata": {},
     "output_type": "execute_result"
    },
    {
     "data": {
      "image/png": "[encoded data removed]",
      "text/plain": [
       "<Figure size 432x288 with 1 Axes>"
      ]
     },
     "metadata": {
      "needs_background": "light"
     },
     "output_type": "display_data"
    }
   ],
   "source": [
    "plt.plot(time, witen_time_domain_strain)\n",
    "# plt.xlim(target_time-0.1, target_time+0.1)\n",
    "plt.axvline(target_time, color='r')"
   ]
  },
  {
   "cell_type": "code",
   "execution_count": null,
   "id": "78eef0d2",
   "metadata": {},
   "outputs": [],
   "source": []
  }
 ],
 "metadata": {
  "kernelspec": {
   "display_name": "Python 3 (ipykernel)",
   "language": "python",
   "name": "python3"
  },
  "language_info": {
   "codemirror_mode": {
    "name": "ipython",
    "version": 3
   },
   "file_extension": ".py",
   "mimetype": "text/x-python",
   "name": "python",
   "nbconvert_exporter": "python",
   "pygments_lexer": "ipython3",
   "version": "3.8.10"
  }
 },
 "nbformat": 4,
 "nbformat_minor": 5
}
