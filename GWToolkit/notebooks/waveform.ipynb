{
 "cells": [
  {
   "cell_type": "markdown",
   "metadata": {},
   "source": [
    "## usage"
   ]
  },
  {
   "cell_type": "code",
   "execution_count": 1,
   "metadata": {},
   "outputs": [
    {
     "data": {
      "text/plain": [
       "'3.8.10 | packaged by conda-forge | (default, May 10 2021, 22:58:09) \\n[Clang 11.1.0 ]'"
      ]
     },
     "execution_count": 1,
     "metadata": {},
     "output_type": "execute_result"
    }
   ],
   "source": [
    "## Imports\n",
    "import sys, os\n",
    "sys.path.append('..')\n",
    "\n",
    "# import numpy as np\n",
    "# import bilby\n",
    "from gwtoolkit.gw import WaveformDataset\n",
    "# from gwtoolkit.gw import Priors\n",
    "# from gwtoolkit.gw import Source\n",
    "# from gwtoolkit.gw import Detector\n",
    "import matplotlib.pyplot as plt\n",
    "sys.version"
   ]
  },
  {
   "cell_type": "code",
   "execution_count": 2,
   "metadata": {},
   "outputs": [
    {
     "name": "stderr",
     "output_type": "stream",
     "text": [
      "15:51 bilby INFO    : No prior given, using default BBH priors in /Users/herb/miniconda3/envs/gwtoolkit/gwtoolkit/lib/python3.8/site-packages/bilby/gw/prior_files/precessing_spins_bbh.prior.\n"
     ]
    },
    {
     "name": "stdout",
     "output_type": "stream",
     "text": [
      "No prior given, using default BBH priors.\n"
     ]
    }
   ],
   "source": [
    "wfd = WaveformDataset(sampling_frequency=4096, duration=8, conversion='BBH')\n",
    "waveform_arguments = dict(waveform_approximant='IMRPhenomPv2',\n",
    "                          reference_frequency=150., \n",
    "                          minimum_frequency=20.)\n",
    "wfd.load_prior_source_detector(#filename='../gwtoolkit/gw/prior_files/default.prior',\n",
    "    base='bilby',\n",
    "    dets=['H1', 'L1'], \n",
    "    waveform_arguments=waveform_arguments)"
   ]
  },
  {
   "cell_type": "code",
   "execution_count": 3,
   "metadata": {},
   "outputs": [
    {
     "name": "stderr",
     "output_type": "stream",
     "text": [
      "100%|████████████████████████████████████████████████████████████████████████████████████████████████████████████████████████████████████████████████████████████████████| 100/100 [00:00<00:00, 301.41it/s]\n",
      "100%|█████████████████████████████████████████████████████████████████████████████████████████████████████████████████████████████████████████████████████████████████████| 100/100 [00:03<00:00, 27.77it/s]\n"
     ]
    },
    {
     "data": {
      "text/plain": [
       "((100, 2, 16385), (100, 2, 16385))"
      ]
     },
     "execution_count": 3,
     "metadata": {},
     "output_type": "execute_result"
    }
   ],
   "source": [
    "signal_freq, meta, noise_freq = wfd.frequency_waveform_response_block(100, 100, (101,102), (0, 30)\n",
    "                                                )\n",
    "data_freq = signal_freq + noise_freq\n",
    "signal_freq.shape, noise_freq.shape"
   ]
  },
  {
   "cell_type": "code",
   "execution_count": 1,
   "metadata": {},
   "outputs": [
    {
     "ename": "NameError",
     "evalue": "name 'wfd' is not defined",
     "output_type": "error",
     "traceback": [
      "\u001b[0;31m---------------------------------------------------------------------------\u001b[0m",
      "\u001b[0;31mNameError\u001b[0m                                 Traceback (most recent call last)",
      "\u001b[0;32m/var/folders/x3/dlvzvt_x1s36sw5lg3tbwx0r0000gn/T/ipykernel_45345/4040456667.py\u001b[0m in \u001b[0;36m<module>\u001b[0;34m\u001b[0m\n\u001b[1;32m      1\u001b[0m \u001b[0mnum\u001b[0m \u001b[0;34m=\u001b[0m \u001b[0;36m10\u001b[0m\u001b[0;34m\u001b[0m\u001b[0;34m\u001b[0m\u001b[0m\n\u001b[0;32m----> 2\u001b[0;31m signal_time, meta, noise_time = wfd.time_waveform_response_block(num, 100, (105,106), (0, 30)\n\u001b[0m\u001b[1;32m      3\u001b[0m                                                 )\n\u001b[1;32m      4\u001b[0m \u001b[0mdata_time\u001b[0m \u001b[0;34m=\u001b[0m \u001b[0msignal_time\u001b[0m \u001b[0;34m+\u001b[0m \u001b[0mnoise_time\u001b[0m\u001b[0;34m\u001b[0m\u001b[0;34m\u001b[0m\u001b[0m\n\u001b[1;32m      5\u001b[0m \u001b[0msignal_time\u001b[0m\u001b[0;34m.\u001b[0m\u001b[0mshape\u001b[0m\u001b[0;34m,\u001b[0m \u001b[0mnoise_time\u001b[0m\u001b[0;34m.\u001b[0m\u001b[0mshape\u001b[0m\u001b[0;34m\u001b[0m\u001b[0;34m\u001b[0m\u001b[0m\n",
      "\u001b[0;31mNameError\u001b[0m: name 'wfd' is not defined"
     ]
    }
   ],
   "source": [
    "num = 10\n",
    "signal_time, meta, noise_time = wfd.time_waveform_response_block(num, 100, (105,106), (0, 30)\n",
    "                                                )\n",
    "data_time = signal_time + noise_time\n",
    "signal_time.shape, noise_time.shape"
   ]
  },
  {
   "cell_type": "code",
   "execution_count": 5,
   "metadata": {},
   "outputs": [
    {
     "data": {
      "text/plain": [
       "(30.0, (29.588657-0.66100454j))"
      ]
     },
     "execution_count": 5,
     "metadata": {},
     "output_type": "execute_result"
    },
    {
     "data": {
      "image/png": "[encoded data removed]",
      "text/plain": [
       "<Figure size 432x288 with 1 Axes>"
      ]
     },
     "metadata": {
      "needs_background": "light"
     },
     "output_type": "display_data"
    }
   ],
   "source": [
    "i = 0\n",
    "plt.plot(wfd.time_array, signal_time[i,0]+noise_time[i,0])\n",
    "meta['optimal_snr'][i,0], meta['matched_filter_snr'][i,0]"
   ]
  },
  {
   "cell_type": "code",
   "execution_count": null,
   "metadata": {},
   "outputs": [],
   "source": []
  },
  {
   "cell_type": "code",
   "execution_count": null,
   "metadata": {},
   "outputs": [],
   "source": []
  },
  {
   "cell_type": "markdown",
   "metadata": {},
   "source": [
    "## gwsurrogate"
   ]
  },
  {
   "cell_type": "code",
   "execution_count": 15,
   "metadata": {},
   "outputs": [],
   "source": [
    "import gwsurrogate\n",
    "import numpy as np"
   ]
  },
  {
   "cell_type": "code",
   "execution_count": 9,
   "metadata": {},
   "outputs": [
    {
     "name": "stdout",
     "output_type": "stream",
     "text": [
      "EOBNRv2\n",
      "SpEC_q1_10_NoSpin\n",
      "SpEC_q1_10_NoSpin_linear\n",
      "SpEC_q1_10_NoSpin_linear_alt\n",
      "NRSur4d2s_TDROM_grid12\n",
      "NRSur4d2s_FDROM_grid12\n",
      "NRHybSur3dq8\n",
      "NRSur7dq4\n",
      "NRHybSur3dq8Tidal\n",
      "EMRISur1dq1e4\n"
     ]
    }
   ],
   "source": [
    "gwsurrogate.catalog.list()"
   ]
  },
  {
   "cell_type": "code",
   "execution_count": 10,
   "metadata": {},
   "outputs": [],
   "source": [
    "class nrhybsur3dq8_wrapper(object):\n",
    "\n",
    "    def __init__(self):\n",
    "\n",
    "        if not os.path.exists(gwsurrogate.__path__[0]+'/surrogate_downloads/NRHybSur3dq8.h5'):\n",
    "            gwsurrogate.catalog.pull('NRHybSur3dq8')\n",
    "\n",
    "        self.sur    = gwsurrogate.LoadSurrogate('NRHybSur3dq8')\n",
    "\n",
    "    def __call__(self, freqs, params):\n",
    "        hp, hc, dt      = self.td_waveform(params)\n",
    "        return hp, hc\n",
    "\n",
    "    def td_waveform(self, params):\n",
    "        srate = params['srate']\n",
    "        chiA = [params['s1x'],params['s1y'],params['s1z']]\n",
    "        chiB = [params['s2x'],params['s2y'],params['s2z']]\n",
    "        \n",
    "        if params['lmax'] < 2:\n",
    "            params['lmax'] = 2\n",
    "\n",
    "        t, h, dyn = self.sur(params['q'], chiA, chiB,\n",
    "                             dt         = 1./srate,\n",
    "                             # if f_low, start from the minimum freq of the surrogate\n",
    "                             # without f_ref, f_ref = f_low\n",
    "                             f_low      = 0,\n",
    "                             ellMax     = params['lmax'],\n",
    "                             M          = params['mtot'],\n",
    "                             dist_mpc   = params['distance'],\n",
    "                             inclination = params['iota'],\n",
    "                             phi_ref    = params['phi_ref'],\n",
    "                             tidal_opts = {'Lambda1': 0.,\n",
    "                                           'Lambda2': 0.},\n",
    "                             units      = 'mks',\n",
    "                             skip_param_checks = True)\n",
    "\n",
    "        hp = h.real\n",
    "        hc = h.imag\n",
    "        dt = np.median(np.diff(t))\n",
    "        return hp, hc, dt"
   ]
  },
  {
   "cell_type": "code",
   "execution_count": 11,
   "metadata": {},
   "outputs": [
    {
     "name": "stdout",
     "output_type": "stream",
     "text": [
      "Loaded NRHybSur3dq8 model\n"
     ]
    }
   ],
   "source": [
    "wave_func  = nrhybsur3dq8_wrapper()"
   ]
  },
  {
   "cell_type": "code",
   "execution_count": null,
   "metadata": {},
   "outputs": [],
   "source": [
    "wave_func()"
   ]
  },
  {
   "cell_type": "code",
   "execution_count": 12,
   "metadata": {},
   "outputs": [
    {
     "data": {
      "text/plain": [
       "'/Users/herb/miniconda3/envs/gwtoolkit/gwtoolkit/lib/python3.8/site-packages/gwsurrogate'"
      ]
     },
     "execution_count": 12,
     "metadata": {},
     "output_type": "execute_result"
    }
   ],
   "source": [
    "gwsurrogate.__path__[0]"
   ]
  },
  {
   "cell_type": "code",
   "execution_count": 37,
   "metadata": {},
   "outputs": [],
   "source": [
    "class nrsur7dq4_wrapper(object):\n",
    "\n",
    "    def __init__(self):\n",
    "\n",
    "        if not os.path.exists(gwsurrogate.__path__[0]+'/surrogate_downloads/NRSur7dq4.h5'):\n",
    "            gwsurrogate.catalog.pull('NRSur7dq4')\n",
    "\n",
    "        self.sur    = gwsurrogate.LoadSurrogate('NRSur7dq4')\n",
    "\n",
    "    def __call__(self, freqs, params):\n",
    "        hp, hc, dt      = self.td_waveform(params)\n",
    "        return hp, hc\n",
    "\n",
    "    def td_waveform(self, params):\n",
    "        srate = params['srate']\n",
    "        chiA = [params['s1x'],params['s1y'],params['s1z']]\n",
    "        chiB = [params['s2x'],params['s2y'],params['s2z']]\n",
    "        \n",
    "#         if params['lmax'] < 2:\n",
    "#             params['lmax'] = 2\n",
    "\n",
    "        t, h, dyn = self.sur(params['q'], chiA, chiB,\n",
    "                             dt         = 1./srate,\n",
    "                             # if f_low, start from the minimum freq of the surrogate\n",
    "                             # without f_ref, f_ref = f_low\n",
    "                             f_low      = 0,\n",
    "                             #ellMax     = params['lmax'],\n",
    "                             M          = params['mtot'],\n",
    "                             dist_mpc   = params['distance'],\n",
    "                             inclination = params['iota'],\n",
    "                             phi_ref    = params['phi_ref'],\n",
    "                             tidal_opts = {'Lambda1': params['lambda1'],\n",
    "                                           'Lambda2': params['lambda2']},\n",
    "                             units      = 'mks',\n",
    "                             skip_param_checks = True)\n",
    "\n",
    "        hp = h.real\n",
    "        hc = h.imag\n",
    "        dt = np.median(np.diff(t))\n",
    "        return hp, hc, dt"
   ]
  },
  {
   "cell_type": "code",
   "execution_count": 38,
   "metadata": {},
   "outputs": [
    {
     "name": "stdout",
     "output_type": "stream",
     "text": [
      "Loaded NRSur7dq4 model\n"
     ]
    }
   ],
   "source": [
    "wave_func  = nrsur7dq4_wrapper()"
   ]
  },
  {
   "cell_type": "code",
   "execution_count": 39,
   "metadata": {},
   "outputs": [],
   "source": [
    "# set the data properties coherently\n",
    "seglen = 8           # duration of the segment [s]\n",
    "srate  = 4096         # sampling rate [Hz]\n",
    "t_gps  = 1126259462   # central value of GPS time\n",
    "f_max  = 1024\n",
    "f_min  = 20 \n",
    "\n",
    "params = {'mtot':30,\n",
    "          'mchirp'     : 30.,    # chirp mass [solar masses]\n",
    "          'q'          : 1.2,      # mass ratio \n",
    "          's1x'        : 0.,      # primary spin parameter, x component\n",
    "          's1y'        : 0.,      # primary spin parameter, y component\n",
    "          's1z'        : 0.,      # primary spin parameter, z component\n",
    "          's2x'        : 0.,      # secondary spin parameter, x component\n",
    "          's2y'        : 0.,      # secondary spin parameter, y component\n",
    "          's2z'        : 0.,      # secondary spin parameter, z component\n",
    "          'lambda1'    : 0.,      # primary tidal parameter \n",
    "          'lambda2'    : 0 ,      # secondary tidal parameter\n",
    "          'distance'   : 380.,    # distance [Mpc]\n",
    "          'iota'       : np.pi,   # inclination [rad]\n",
    "          'ra'         : 1.7,     # right ascension [rad]\n",
    "          'dec'        : -0.75,   # declination [rad]\n",
    "          'psi'        : 0.,      # polarization angle [rad]\n",
    "          'time_shift' : 0.419,   # time shift from GPS time [s]\n",
    "          'phi_ref'    : 0.,     # phase shift [rad]\n",
    "          'f_min'      : 20.,     # minimum frequency [Hz]\n",
    "          'srate'      : srate,   # sampling rate [Hz]\n",
    "          'seglen'     : seglen,  # segment duration [s] \n",
    "          'tukey'      : 0.1,     # parameter for tukey window \n",
    "          't_gps'      : t_gps }  # GPS trigger time "
   ]
  },
  {
   "cell_type": "code",
   "execution_count": 40,
   "metadata": {},
   "outputs": [],
   "source": [
    "hp, hc = wave_func(wfd.frequency_array, params)"
   ]
  },
  {
   "cell_type": "code",
   "execution_count": 41,
   "metadata": {},
   "outputs": [
    {
     "data": {
      "text/plain": [
       "(array([-2.27837175e-22, -2.27320586e-22, -2.26488862e-22, ...,\n",
       "        -6.99852606e-25, -7.19495180e-25, -3.31718111e-25]),\n",
       " array([-5.42735962e-26, -1.22309128e-23, -2.43758381e-23, ...,\n",
       "         5.11899057e-25, -1.67717826e-25, -5.55842261e-25]))"
      ]
     },
     "execution_count": 41,
     "metadata": {},
     "output_type": "execute_result"
    }
   ],
   "source": [
    "hp, hc"
   ]
  },
  {
   "cell_type": "code",
   "execution_count": null,
   "metadata": {},
   "outputs": [],
   "source": []
  },
  {
   "cell_type": "code",
   "execution_count": null,
   "metadata": {},
   "outputs": [],
   "source": []
  },
  {
   "cell_type": "code",
   "execution_count": null,
   "metadata": {},
   "outputs": [],
   "source": []
  },
  {
   "cell_type": "code",
   "execution_count": 4,
   "metadata": {},
   "outputs": [
    {
     "data": {
      "text/plain": [
       "'/Users/herb/miniconda3/envs/gwtoolkit/gwtoolkit/lib/python3.8/site-packages/gwsurrogate/surrogate_downloadsNRSur7dq4.h5'"
      ]
     },
     "execution_count": 4,
     "metadata": {},
     "output_type": "execute_result"
    }
   ],
   "source": [
    "gwsurrogate.catalog.pull('NRSur7dq4')       # This can take a few minutes"
   ]
  },
  {
   "cell_type": "code",
   "execution_count": 5,
   "metadata": {},
   "outputs": [
    {
     "name": "stdout",
     "output_type": "stream",
     "text": [
      "Loaded NRSur7dq4 model\n"
     ]
    }
   ],
   "source": [
    "sur = gwsurrogate.LoadSurrogate('NRSur7dq4')"
   ]
  },
  {
   "cell_type": "code",
   "execution_count": 6,
   "metadata": {},
   "outputs": [],
   "source": [
    "q = 4           # mass ratio, mA/mB >= 1.\n",
    "chiA = [-0.2, 0.4, 0.1]         # Dimensionless spin of heavier BH\n",
    "chiB = [-0.5, 0.2, -0.4]        # Dimensionless of lighter BH\n",
    "dt = 0.1                        # timestep size, Units of total mass M\n",
    "f_low = 0                # initial frequency, f_low=0 returns the full surrogate\n",
    "\n",
    "# h is dictionary of spin-weighted spherical harmonic modes\n",
    "# t is the corresponding time array in units of M\n",
    "# dyn stands for dynamics, do dyn.keys() to see contents\n",
    "t, h, dyn = sur(q, chiA, chiB, dt=dt, f_low=f_low)"
   ]
  },
  {
   "cell_type": "code",
   "execution_count": 22,
   "metadata": {},
   "outputs": [
    {
     "name": "stdout",
     "output_type": "stream",
     "text": [
      "Interferometer(name='CE',\n",
      "power_spectral_density=PowerSpectralDensity(psd_file='/Users/herb/miniconda3/envs/gwtoolkit/lib/python3.8/site-packages/bilby/gw/detector/noise_curves/CE_psd.txt',\n",
      "asd_file='None'),\n",
      "minimum_frequency=10.0,\n",
      "maximum_frequency=2048.0,\n",
      "length=40.0,\n",
      "latitude=46.45514666666667,\n",
      "longitude=-119.4076571388889,\n",
      "elevation=142.554,\n",
      "xarm_azimuth=125.9994,\n",
      "yarm_azimuth=215.994,\n",
      "xarm_tilt=-0.0006195,\n",
      "yarm_tilt=1.25e-05)\n"
     ]
    }
   ],
   "source": [
    "wfd.dets['CE']._show_detectors()"
   ]
  },
  {
   "cell_type": "code",
   "execution_count": 23,
   "metadata": {},
   "outputs": [
    {
     "name": "stdout",
     "output_type": "stream",
     "text": [
      "{'mass_1': Constraint(minimum=5, maximum=100, name='mass_1', latex_label='$m_1$', unit=None),\n",
      " 'mass_2': Constraint(minimum=5, maximum=100, name='mass_2', latex_label='$m_2$', unit=None),\n",
      " 'mass_ratio': Uniform(minimum=0.125, maximum=1, name='mass_ratio', latex_label='$q$', unit=None, boundary=None),\n",
      " 'chirp_mass': Uniform(minimum=25, maximum=100, name='chirp_mass', latex_label='$\\\\mathcal{M}$', unit=None, boundary=None),\n",
      " 'luminosity_distance': UniformSourceFrame(minimum=100.0, maximum=5000.0, cosmology=FlatLambdaCDM(name=\"Planck15\", H0=67.7 km / (Mpc s),\n",
      " Om0=0.307, Tcmb0=2.725 K, Neff=3.05, m_nu=[0.   0.   0.06] eV, Ob0=0.0486),\n",
      " name='luminosity_distance', latex_label='$d_L$', unit=Unit(\"Mpc\"),\n",
      " boundary=None),\n",
      " 'dec': Cosine(minimum=-1.5707963267948966, maximum=1.5707963267948966, name='dec', latex_label='$\\\\mathrm{DEC}$', unit=None, boundary=None),\n",
      " 'ra': Uniform(minimum=0, maximum=6.283185307179586, name='ra', latex_label='$\\\\mathrm{RA}$', unit=None, boundary='periodic'),\n",
      " 'theta_jn': Sine(minimum=0, maximum=3.141592653589793, name='theta_jn', latex_label='$\\\\theta_{JN}$', unit=None, boundary=None),\n",
      " 'psi': Uniform(minimum=0, maximum=3.141592653589793, name='psi', latex_label='$\\\\psi$', unit=None, boundary='periodic'),\n",
      " 'phase': Uniform(minimum=0, maximum=6.283185307179586, name='phase', latex_label='$\\\\phi$', unit=None, boundary='periodic'),\n",
      " 'a_1': Uniform(minimum=0, maximum=0.99, name='a_1', latex_label='$a_1$', unit=None, boundary=None),\n",
      " 'a_2': Uniform(minimum=0, maximum=0.99, name='a_2', latex_label='$a_2$', unit=None, boundary=None),\n",
      " 'tilt_1': Sine(minimum=0, maximum=3.141592653589793, name='tilt_1', latex_label='$\\\\theta_1$', unit=None, boundary=None),\n",
      " 'tilt_2': Sine(minimum=0, maximum=3.141592653589793, name='tilt_2', latex_label='$\\\\theta_2$', unit=None, boundary=None),\n",
      " 'phi_12': Uniform(minimum=0, maximum=6.283185307179586, name='phi_12', latex_label='$\\\\Delta\\\\phi$', unit=None, boundary='periodic'),\n",
      " 'phi_jl': Uniform(minimum=0, maximum=6.283185307179586, name='phi_jl', latex_label='$\\\\phi_{JL}$', unit=None, boundary='periodic')}\n"
     ]
    }
   ],
   "source": [
    "wfd.prior._show_priors()"
   ]
  },
  {
   "cell_type": "code",
   "execution_count": 24,
   "metadata": {},
   "outputs": [
    {
     "data": {
      "text/plain": [
       "{'mass_ratio': array([0.56235766]),\n",
       " 'chirp_mass': array([55.12470499]),\n",
       " 'luminosity_distance': array([2536.17209965]),\n",
       " 'dec': array([-0.60877086]),\n",
       " 'ra': array([5.18572181]),\n",
       " 'theta_jn': array([2.08962604]),\n",
       " 'psi': array([2.49968139]),\n",
       " 'phase': array([2.65426913]),\n",
       " 'a_1': array([0.15697504]),\n",
       " 'a_2': array([0.61185221]),\n",
       " 'tilt_1': array([2.3792065]),\n",
       " 'tilt_2': array([1.99373613]),\n",
       " 'phi_12': array([1.56725853]),\n",
       " 'phi_jl': array([1.00391779])}"
      ]
     },
     "execution_count": 24,
     "metadata": {},
     "output_type": "execute_result"
    }
   ],
   "source": [
    "p = wfd.prior.sample(1)\n",
    "p"
   ]
  },
  {
   "cell_type": "code",
   "execution_count": 25,
   "metadata": {},
   "outputs": [
    {
     "data": {
      "text/plain": [
       "({'plus': array([0.-0.j, 0.-0.j, 0.-0.j, ..., 0.-0.j, 0.-0.j, 0.-0.j]),\n",
       "  'cross': array([0.+0.j, 0.+0.j, 0.+0.j, ..., 0.+0.j, 0.+0.j, 0.+0.j])},\n",
       " {'plus': array([ 1.55077504e-23,  2.42364034e-23,  3.14356387e-23, ...,\n",
       "         -1.63268904e-23, -5.19282491e-24,  5.56790257e-24]),\n",
       "  'cross': array([-2.31950979e-23, -1.97021246e-23, -1.53060005e-23, ...,\n",
       "         -2.63797343e-23, -2.66760637e-23, -2.55756991e-23])})"
      ]
     },
     "execution_count": 25,
     "metadata": {},
     "output_type": "execute_result"
    }
   ],
   "source": [
    "wfd.update_waveform()\n",
    "wfd.frequency_waveform_polarizations, wfd.time_waveform_polarizations"
   ]
  },
  {
   "cell_type": "code",
   "execution_count": 26,
   "metadata": {},
   "outputs": [
    {
     "data": {
      "text/plain": [
       "(array([[ 0.00000000e+00+0.00000000e+00j,  0.00000000e+00+0.00000000e+00j,\n",
       "          0.00000000e+00+0.00000000e+00j, ...,\n",
       "          4.00214791e-25-6.11164195e-24j,  3.04175069e-24+4.00859859e-24j,\n",
       "          0.00000000e+00+0.00000000e+00j],\n",
       "        [ 0.00000000e+00+0.00000000e+00j,  0.00000000e+00+0.00000000e+00j,\n",
       "          0.00000000e+00+0.00000000e+00j, ...,\n",
       "         -2.54919070e-24-5.13864427e-24j,  1.55211780e-24-6.29030592e-24j,\n",
       "          0.00000000e+00+0.00000000e+00j],\n",
       "        [ 0.00000000e+00+0.00000000e+00j,  0.00000000e+00+0.00000000e+00j,\n",
       "          0.00000000e+00+0.00000000e+00j, ...,\n",
       "         -3.69754386e-25-5.19169702e-25j,  2.86935030e-25-4.49013241e-25j,\n",
       "          0.00000000e+00+0.00000000e+00j]]),\n",
       " array([[-2.20586969e-23, -1.33141872e-22,  9.72453525e-24, ...,\n",
       "         -5.65085569e-22,  3.74495194e-22, -1.82876197e-22],\n",
       "        [-5.37118770e-23,  4.74046402e-22, -2.31678658e-22, ...,\n",
       "          2.33567570e-22,  1.99947942e-23,  2.51342984e-22],\n",
       "        [-3.41914396e-23,  5.40429279e-23, -5.43910835e-23, ...,\n",
       "         -1.63569198e-23,  6.16724999e-24,  1.03806845e-23]]))"
      ]
     },
     "execution_count": 26,
     "metadata": {},
     "output_type": "execute_result"
    }
   ],
   "source": [
    "wfd.update_noise()\n",
    "wfd.frequency_colored_noise, wfd.time_colored_noise"
   ]
  },
  {
   "cell_type": "code",
   "execution_count": 27,
   "metadata": {},
   "outputs": [
    {
     "data": {
      "text/plain": [
       "(array([[0.+0.j, 0.+0.j, 0.+0.j, ..., 0.+0.j, 0.+0.j, 0.+0.j],\n",
       "        [0.+0.j, 0.+0.j, 0.+0.j, ..., 0.+0.j, 0.+0.j, 0.+0.j],\n",
       "        [0.+0.j, 0.+0.j, 0.+0.j, ..., 0.+0.j, 0.+0.j, 0.+0.j]]),\n",
       " array([[-9.12753413e-24, -9.00769666e-24, -8.87928409e-24, ...,\n",
       "         -9.43472745e-24, -9.34112887e-24, -9.23870591e-24],\n",
       "        [ 9.60152523e-24,  9.38919949e-24,  9.16773432e-24, ...,\n",
       "          1.01819665e-23,  9.99807042e-24,  9.80453748e-24],\n",
       "        [-9.12801346e-24, -9.00819999e-24, -8.87981101e-24, ...,\n",
       "         -9.43513251e-24, -9.34155904e-24, -9.23916084e-24]]))"
      ]
     },
     "execution_count": 27,
     "metadata": {},
     "output_type": "execute_result"
    }
   ],
   "source": [
    "wfd.update_detector_response(start_time=99, geocent_time=(100, 101))\n",
    "wfd.frequency_waveform_response, wfd.time_waveform_response"
   ]
  },
  {
   "cell_type": "code",
   "execution_count": 12,
   "metadata": {},
   "outputs": [
    {
     "name": "stderr",
     "output_type": "stream",
     "text": [
      "100%|███████████████████████████████████████████████████████████| 1000/1000 [00:01<00:00, 709.87it/s]\n"
     ]
    },
    {
     "data": {
      "text/plain": [
       "(1000, 2, 4097)"
      ]
     },
     "execution_count": 12,
     "metadata": {},
     "output_type": "execute_result"
    }
   ],
   "source": [
    "ff = wfd.frequency_colored_noise_block(1000)\n",
    "ff.shape"
   ]
  },
  {
   "cell_type": "code",
   "execution_count": 14,
   "metadata": {},
   "outputs": [
    {
     "name": "stderr",
     "output_type": "stream",
     "text": [
      "100%|███████████████████████████████████████████████████████████| 1000/1000 [00:01<00:00, 660.29it/s]\n"
     ]
    },
    {
     "data": {
      "text/plain": [
       "(1000, 2, 8192)"
      ]
     },
     "execution_count": 14,
     "metadata": {},
     "output_type": "execute_result"
    }
   ],
   "source": [
    "tt = wfd.time_colored_noise_block(1000)\n",
    "tt.shape"
   ]
  },
  {
   "cell_type": "code",
   "execution_count": 59,
   "metadata": {},
   "outputs": [
    {
     "name": "stderr",
     "output_type": "stream",
     "text": [
      "100%|███████████████████████████████████████████████████████████| 1000/1000 [00:02<00:00, 432.11it/s]\n",
      "100%|███████████████████████████████████████████████████████████| 1000/1000 [00:02<00:00, 385.22it/s]\n"
     ]
    }
   ],
   "source": [
    "ff = wfd.frequency_whitened_noise_block(1000)  \n",
    "tt = wfd.time_whitened_noise_block(1000)"
   ]
  },
  {
   "cell_type": "code",
   "execution_count": 30,
   "metadata": {},
   "outputs": [
    {
     "name": "stderr",
     "output_type": "stream",
     "text": [
      "100%|█████████████████████████████████████████████████████████████████████████████████████████████████████████████████████████████████████████████████████████████████████| 100/100 [00:02<00:00, 41.16it/s]\n"
     ]
    },
    {
     "data": {
      "text/plain": [
       "(100, 3, 2049)"
      ]
     },
     "execution_count": 30,
     "metadata": {},
     "output_type": "execute_result"
    }
   ],
   "source": [
    "ff, meta = wfd.frequency_waveform_response_block(100, 100, (101,102),# (0, 30)\n",
    "                                                )\n",
    "ff.shape"
   ]
  },
  {
   "cell_type": "code",
   "execution_count": 29,
   "metadata": {},
   "outputs": [
    {
     "name": "stderr",
     "output_type": "stream",
     "text": [
      "100%|█████████████████████████████████████████████████████████████████████████████████████████████████████████████████████████████████████████████████████████████████████| 100/100 [00:02<00:00, 34.18it/s]\n"
     ]
    },
    {
     "data": {
      "text/plain": [
       "(100, 3, 4096)"
      ]
     },
     "execution_count": 29,
     "metadata": {},
     "output_type": "execute_result"
    }
   ],
   "source": [
    "tt, meta = wfd.time_waveform_response_block(100, 100, (101,102), #(0, 30)\n",
    "                                           )\n",
    "tt.shape"
   ]
  },
  {
   "cell_type": "code",
   "execution_count": null,
   "metadata": {},
   "outputs": [],
   "source": []
  },
  {
   "cell_type": "code",
   "execution_count": 61,
   "metadata": {},
   "outputs": [
    {
     "data": {
      "text/plain": [
       "dict_keys(['mass_ratio', 'chirp_mass', 'luminosity_distance', 'dec', 'ra', 'theta_jn', 'psi', 'phase', 'a_1', 'a_2', 'tilt_1', 'tilt_2', 'phi_12', 'phi_jl', 'geocent_time', 'matched_filter_snr', 'optimal_snr'])"
      ]
     },
     "execution_count": 61,
     "metadata": {},
     "output_type": "execute_result"
    }
   ],
   "source": [
    "meta.keys()"
   ]
  },
  {
   "cell_type": "code",
   "execution_count": 14,
   "metadata": {},
   "outputs": [],
   "source": [
    "# ff, _  = wfd.dets['H1'].time_to_frequency_domain(tt[-3][0])\n",
    "# wfd.dets['H1'].optimal_snr(ff)"
   ]
  },
  {
   "cell_type": "code",
   "execution_count": 13,
   "metadata": {},
   "outputs": [],
   "source": [
    "# ff, _  = wfd.dets['L1'].time_to_frequency_domain(tt[-3][1])\n",
    "# wfd.dets['L1'].optimal_snr(ff)"
   ]
  },
  {
   "cell_type": "code",
   "execution_count": 15,
   "metadata": {},
   "outputs": [
    {
     "ename": "NameError",
     "evalue": "name 'meta' is not defined",
     "output_type": "error",
     "traceback": [
      "\u001b[0;31m---------------------------------------------------------------------------\u001b[0m",
      "\u001b[0;31mNameError\u001b[0m                                 Traceback (most recent call last)",
      "\u001b[0;32m/var/folders/x3/dlvzvt_x1s36sw5lg3tbwx0r0000gn/T/ipykernel_93512/541315064.py\u001b[0m in \u001b[0;36m<module>\u001b[0;34m\u001b[0m\n\u001b[0;32m----> 1\u001b[0;31m \u001b[0mmeta\u001b[0m\u001b[0;34m[\u001b[0m\u001b[0;34m'optimal_snr'\u001b[0m\u001b[0;34m]\u001b[0m\u001b[0;34m,\u001b[0m \u001b[0mmeta\u001b[0m\u001b[0;34m[\u001b[0m\u001b[0;34m'optimal_snr'\u001b[0m\u001b[0;34m]\u001b[0m\u001b[0;34m.\u001b[0m\u001b[0mshape\u001b[0m\u001b[0;34m\u001b[0m\u001b[0;34m\u001b[0m\u001b[0m\n\u001b[0m",
      "\u001b[0;31mNameError\u001b[0m: name 'meta' is not defined"
     ]
    }
   ],
   "source": [
    "meta['optimal_snr'], meta['optimal_snr'].shape"
   ]
  },
  {
   "cell_type": "code",
   "execution_count": null,
   "metadata": {},
   "outputs": [],
   "source": []
  },
  {
   "cell_type": "code",
   "execution_count": 19,
   "metadata": {},
   "outputs": [
    {
     "data": {
      "image/png": "[encoded data removed]",
      "text/plain": [
       "<Figure size 432x288 with 1 Axes>"
      ]
     },
     "metadata": {
      "needs_background": "light"
     },
     "output_type": "display_data"
    }
   ],
   "source": [
    "import matplotlib.pyplot as plt\n",
    "plt.hist(meta['ra'], bins='auto');"
   ]
  },
  {
   "cell_type": "code",
   "execution_count": 16,
   "metadata": {},
   "outputs": [
    {
     "data": {
      "image/png": "[encoded data removed]",
      "text/plain": [
       "<Figure size 432x288 with 1 Axes>"
      ]
     },
     "metadata": {
      "needs_background": "light"
     },
     "output_type": "display_data"
    }
   ],
   "source": [
    "import matplotlib.pyplot as plt\n",
    "plt.hist(abs(meta['matched_filter_snr'])[:,0], bins='auto');"
   ]
  },
  {
   "cell_type": "code",
   "execution_count": 18,
   "metadata": {},
   "outputs": [
    {
     "data": {
      "image/png": "[encoded data removed]",
      "text/plain": [
       "<Figure size 432x288 with 1 Axes>"
      ]
     },
     "metadata": {
      "needs_background": "light"
     },
     "output_type": "display_data"
    }
   ],
   "source": [
    "import matplotlib.pyplot as plt\n",
    "plt.hist(meta['optimal_snr'][:,0], bins='auto');"
   ]
  },
  {
   "cell_type": "code",
   "execution_count": 17,
   "metadata": {},
   "outputs": [
    {
     "data": {
      "text/plain": [
       "[<matplotlib.lines.Line2D at 0x7f953d1b1a00>]"
      ]
     },
     "execution_count": 17,
     "metadata": {},
     "output_type": "execute_result"
    },
    {
     "data": {
      "image/png": "[encoded data removed]",
      "text/plain": [
       "<Figure size 432x288 with 1 Axes>"
      ]
     },
     "metadata": {
      "needs_background": "light"
     },
     "output_type": "display_data"
    }
   ],
   "source": [
    "import matplotlib.pyplot as plt\n",
    "n= 2\n",
    "plt.plot(wfd.time_array, tt[n,0])\n",
    "plt.plot(wfd.time_array, tt[n,1]);"
   ]
  },
  {
   "cell_type": "code",
   "execution_count": 21,
   "metadata": {},
   "outputs": [
    {
     "name": "stderr",
     "output_type": "stream",
     "text": [
      "/Users/herb/miniconda3/envs/gwtoolkit/lib/python3.8/site-packages/matplotlib/cbook/__init__.py:1333: ComplexWarning: Casting complex values to real discards the imaginary part\n",
      "  return np.asarray(x, float)\n",
      "/Users/herb/miniconda3/envs/gwtoolkit/lib/python3.8/site-packages/matplotlib/cbook/__init__.py:1333: ComplexWarning: Casting complex values to real discards the imaginary part\n",
      "  return np.asarray(x, float)\n"
     ]
    },
    {
     "data": {
      "image/png": "[encoded data removed]",
      "text/plain": [
       "<Figure size 432x288 with 1 Axes>"
      ]
     },
     "metadata": {
      "needs_background": "light"
     },
     "output_type": "display_data"
    }
   ],
   "source": [
    "import matplotlib.pyplot as plt\n",
    "n= 0\n",
    "plt.plot(wfd.frequency_array, ff[n,0])\n",
    "plt.plot(wfd.frequency_array, ff[n,1])\n",
    "plt.xscale('log');"
   ]
  },
  {
   "cell_type": "code",
   "execution_count": null,
   "metadata": {},
   "outputs": [],
   "source": []
  },
  {
   "cell_type": "code",
   "execution_count": 13,
   "metadata": {},
   "outputs": [],
   "source": [
    "injection_parameters = dict(\n",
    "    mass_1=36., mass_2=29., \n",
    "#     mass_ratio=0.5, chirp_mass=29,\n",
    "    a_1=0.4, a_2=0.3, tilt_1=0.5, tilt_2=1.0,\n",
    "    phi_12=1.7, phi_jl=0.3, luminosity_distance=2000., theta_jn=0.4, psi=2.659,\n",
    "    phase=1.3, geocent_time=1126259642.413, ra=1.375, dec=-1.2108)"
   ]
  },
  {
   "cell_type": "code",
   "execution_count": 70,
   "metadata": {},
   "outputs": [],
   "source": [
    "wfd.parameters= wfd.prior.sample_subset(['mass_1', 'mass_2', 'mass_ratio', 'chirp_mass', \n",
    "                                         'a_1', 'a_2', 'tilt_1',\n",
    "                                         'tilt_2', 'phi_12', 'phi_jl',\n",
    "                                         'luminosity_distance', 'theta_jn', 'phase'], 1)"
   ]
  },
  {
   "cell_type": "code",
   "execution_count": 63,
   "metadata": {},
   "outputs": [
    {
     "data": {
      "text/plain": [
       "{'plus': array([0.+0.j, 0.+0.j, 0.+0.j, ..., 0.+0.j, 0.+0.j, 0.+0.j]),\n",
       " 'cross': array([0.-0.j, 0.-0.j, 0.-0.j, ..., 0.-0.j, 0.-0.j, 0.-0.j])}"
      ]
     },
     "execution_count": 63,
     "metadata": {},
     "output_type": "execute_result"
    }
   ],
   "source": [
    "wfd.frequency_waveform_polarizations"
   ]
  },
  {
   "cell_type": "code",
   "execution_count": 71,
   "metadata": {},
   "outputs": [
    {
     "data": {
      "text/plain": [
       "{'plus': array([ 7.28935428e-23,  8.73083073e-23,  9.23547470e-23, ...,\n",
       "        -1.46217860e-23,  1.97607681e-23,  4.98056659e-23]),\n",
       " 'cross': array([4.74555813e-23, 3.35806002e-23, 1.87903685e-23, ...,\n",
       "        6.86100525e-23, 6.62435087e-23, 5.88228077e-23])}"
      ]
     },
     "execution_count": 71,
     "metadata": {},
     "output_type": "execute_result"
    }
   ],
   "source": [
    "wfd.time_waveform_polarizations"
   ]
  },
  {
   "cell_type": "code",
   "execution_count": null,
   "metadata": {},
   "outputs": [],
   "source": []
  },
  {
   "cell_type": "code",
   "execution_count": 29,
   "metadata": {},
   "outputs": [],
   "source": [
    "# Set the duration and sampling frequency of the data segment that we're\n",
    "# going to inject the signal into\n",
    "duration = 4.\n",
    "sampling_frequency = 2048.\n",
    "\n",
    "injection_parameters = dict(\n",
    "    mass_1=36., mass_2=29., \n",
    "#     mass_ratio=0.5, chirp_mass=29,\n",
    "    a_1=0.4, a_2=0.3, tilt_1=0.5, tilt_2=1.0,\n",
    "    phi_12=1.7, phi_jl=0.3, luminosity_distance=2000., theta_jn=0.4, psi=2.659,\n",
    "    phase=1.3, geocent_time=1126259642.413, ra=1.375, dec=-1.2108)"
   ]
  },
  {
   "cell_type": "code",
   "execution_count": 31,
   "metadata": {},
   "outputs": [
    {
     "data": {
      "text/plain": [
       "({'plus': array([0.-0.j, 0.-0.j, 0.-0.j, ..., 0.-0.j, 0.-0.j, 0.-0.j]),\n",
       "  'cross': array([0.+0.j, 0.+0.j, 0.+0.j, ..., 0.+0.j, 0.+0.j, 0.+0.j])},\n",
       " {'plus': array([-2.73469244e-22, -3.88440837e-22, -4.32773128e-22, ...,\n",
       "          2.87918322e-22,  9.71813609e-23, -1.02292526e-22]),\n",
       "  'cross': array([-2.63327677e-22, -7.71392050e-23,  1.02092240e-22, ...,\n",
       "         -5.16546356e-22, -5.12745735e-22, -4.20021224e-22])})"
      ]
     },
     "execution_count": 31,
     "metadata": {},
     "output_type": "execute_result"
    }
   ],
   "source": [
    "wfg = source.waveform_generator(wfd.prior.sample(1))\n",
    "wfg.frequency_domain_strain(), wfg.time_domain_strain()"
   ]
  },
  {
   "cell_type": "code",
   "execution_count": 32,
   "metadata": {},
   "outputs": [
    {
     "data": {
      "text/plain": [
       "({'plus': array([0.-0.j, 0.-0.j, 0.-0.j, ..., 0.-0.j, 0.-0.j, 0.-0.j]),\n",
       "  'cross': array([0.+0.j, 0.+0.j, 0.+0.j, ..., 0.+0.j, 0.+0.j, 0.+0.j])},\n",
       " {'plus': array([-9.02574812e-23,  3.23870514e-23,  1.02775708e-22, ...,\n",
       "          3.04225764e-24, -1.43791761e-22, -1.75067200e-22]),\n",
       "  'cross': array([-1.23160024e-22, -1.26431294e-22, -4.34664366e-23, ...,\n",
       "          2.13429423e-22,  1.33757284e-22, -1.50055656e-23])})"
      ]
     },
     "execution_count": 32,
     "metadata": {},
     "output_type": "execute_result"
    }
   ],
   "source": [
    "source = Source(base='bilby', conversion='BBH', sampling_frequency=2048, duration=4)\n",
    "wfg = source.waveform_generator(injection_parameters)\n",
    "wfg.frequency_domain_strain(), wfg.time_domain_strain()"
   ]
  },
  {
   "cell_type": "code",
   "execution_count": 6,
   "metadata": {},
   "outputs": [
    {
     "data": {
      "text/plain": [
       "[<matplotlib.lines.Line2D at 0x7fb78381c520>]"
      ]
     },
     "execution_count": 6,
     "metadata": {},
     "output_type": "execute_result"
    },
    {
     "data": {
      "image/png": "[encoded data removed]",
      "text/plain": [
       "<Figure size 432x288 with 1 Axes>"
      ]
     },
     "metadata": {
      "needs_background": "light"
     },
     "output_type": "display_data"
    }
   ],
   "source": [
    "import matplotlib.pyplot as plt\n",
    "plt.plot(wfg.time_array, wfg.time_domain_strain()['plus'])"
   ]
  },
  {
   "cell_type": "code",
   "execution_count": 7,
   "metadata": {},
   "outputs": [
    {
     "name": "stderr",
     "output_type": "stream",
     "text": [
      "/Users/herb/miniconda3/envs/gwtoolkit/lib/python3.8/site-packages/matplotlib/cbook/__init__.py:1333: ComplexWarning: Casting complex values to real discards the imaginary part\n",
      "  return np.asarray(x, float)\n"
     ]
    },
    {
     "data": {
      "image/png": "[encoded data removed]",
      "text/plain": [
       "<Figure size 432x288 with 1 Axes>"
      ]
     },
     "metadata": {
      "needs_background": "light"
     },
     "output_type": "display_data"
    }
   ],
   "source": [
    "plt.plot(wfg.frequency_array, wfg.frequency_domain_strain()['plus'])\n",
    "plt.xscale('log')"
   ]
  },
  {
   "cell_type": "code",
   "execution_count": 10,
   "metadata": {},
   "outputs": [
    {
     "ename": "NameError",
     "evalue": "name 'source' is not defined",
     "output_type": "error",
     "traceback": [
      "\u001b[0;31m---------------------------------------------------------------------------\u001b[0m",
      "\u001b[0;31mNameError\u001b[0m                                 Traceback (most recent call last)",
      "\u001b[0;32m/var/folders/x3/dlvzvt_x1s36sw5lg3tbwx0r0000gn/T/ipykernel_73220/3935840804.py\u001b[0m in \u001b[0;36m<module>\u001b[0;34m\u001b[0m\n\u001b[0;32m----> 1\u001b[0;31m \u001b[0mwfg\u001b[0m \u001b[0;34m=\u001b[0m \u001b[0msource\u001b[0m\u001b[0;34m.\u001b[0m\u001b[0mwaveform_generator\u001b[0m\u001b[0;34m(\u001b[0m\u001b[0mwfd\u001b[0m\u001b[0;34m.\u001b[0m\u001b[0mpriors\u001b[0m\u001b[0;34m.\u001b[0m\u001b[0msample\u001b[0m\u001b[0;34m(\u001b[0m\u001b[0;36m1\u001b[0m\u001b[0;34m)\u001b[0m\u001b[0;34m)\u001b[0m\u001b[0;34m\u001b[0m\u001b[0;34m\u001b[0m\u001b[0m\n\u001b[0m\u001b[1;32m      2\u001b[0m \u001b[0mwfg\u001b[0m\u001b[0;34m.\u001b[0m\u001b[0mparameters\u001b[0m\u001b[0;34m\u001b[0m\u001b[0;34m\u001b[0m\u001b[0m\n",
      "\u001b[0;31mNameError\u001b[0m: name 'source' is not defined"
     ]
    }
   ],
   "source": [
    "wfg = source.waveform_generator(wfd.priors.sample(1))\n",
    "wfg.parameters"
   ]
  },
  {
   "cell_type": "code",
   "execution_count": 9,
   "metadata": {},
   "outputs": [
    {
     "data": {
      "text/plain": [
       "{'plus': array([-6.20869555e-23, -4.17096325e-23, -1.57771425e-23, ...,\n",
       "        -4.41041094e-23, -6.55101114e-23, -7.12661097e-23]),\n",
       " 'cross': array([-1.15382854e-24,  2.19764513e-23,  3.83610931e-23, ...,\n",
       "        -6.21684519e-23, -4.86716745e-23, -2.65472458e-23])}"
      ]
     },
     "execution_count": 9,
     "metadata": {},
     "output_type": "execute_result"
    }
   ],
   "source": [
    "wfg.time_domain_strain()"
   ]
  },
  {
   "cell_type": "code",
   "execution_count": 10,
   "metadata": {},
   "outputs": [
    {
     "data": {
      "text/plain": [
       "array([-4.23987948e-23, -1.77697531e-22, -3.64461532e-22, ...,\n",
       "        1.45793998e-22, -3.68926115e-22,  2.08160839e-22])"
      ]
     },
     "execution_count": 10,
     "metadata": {},
     "output_type": "execute_result"
    }
   ],
   "source": [
    "det = Detector('H1', sampling_frequency=4096, duration=1, start_time=10)\n",
    "det.time_domain_strain"
   ]
  },
  {
   "cell_type": "code",
   "execution_count": null,
   "metadata": {},
   "outputs": [],
   "source": []
  },
  {
   "cell_type": "code",
   "execution_count": 11,
   "metadata": {},
   "outputs": [
    {
     "data": {
      "text/plain": [
       "((65536,), (32769,))"
      ]
     },
     "execution_count": 11,
     "metadata": {},
     "output_type": "execute_result"
    }
   ],
   "source": [
    "det.update(duration=8, sampling_frequency=4096*2)\n",
    "det.time_domain_strain.shape, det.frequency_domain_strain.shape"
   ]
  },
  {
   "cell_type": "code",
   "execution_count": 47,
   "metadata": {},
   "outputs": [],
   "source": [
    "freq_strain, freq = det.time_to_frequency_domain(det.time_domain_strain)\n",
    "tim_strain, tim = det.frequency_to_time_domain(det.frequency_domain_strain)"
   ]
  },
  {
   "cell_type": "code",
   "execution_count": null,
   "metadata": {},
   "outputs": [],
   "source": [
    "psd_file = '/Users/herb/miniconda3/envs/gwtoolkit/lib/python3.8/site-packages/bilby/gw/detector/noise_curves/AdV_psd.txt'\n",
    "det.load_asd_or_psd_file(psd_file=psd_file)"
   ]
  },
  {
   "cell_type": "code",
   "execution_count": 20,
   "metadata": {},
   "outputs": [],
   "source": [
    "# wfd.priors.sample(1)"
   ]
  },
  {
   "cell_type": "code",
   "execution_count": 77,
   "metadata": {},
   "outputs": [],
   "source": [
    "det.update(duration=4, sampling_frequency=2048, start_time=20)"
   ]
  },
  {
   "cell_type": "code",
   "execution_count": 81,
   "metadata": {},
   "outputs": [
    {
     "data": {
      "text/plain": [
       "array([ 0.+0.j,  0.+0.j,  0.+0.j, ...,  0.+0.j,  0.+0.j, -0.+0.j])"
      ]
     },
     "execution_count": 81,
     "metadata": {},
     "output_type": "execute_result"
    }
   ],
   "source": [
    "det.get_detector_response(wfg.frequency_domain_strain(), injection_parameters)"
   ]
  },
  {
   "cell_type": "code",
   "execution_count": 65,
   "metadata": {},
   "outputs": [
    {
     "data": {
      "text/plain": [
       "4097"
      ]
     },
     "execution_count": 65,
     "metadata": {},
     "output_type": "execute_result"
    }
   ],
   "source": [
    "len(wfg.frequency_array)"
   ]
  },
  {
   "cell_type": "code",
   "execution_count": 83,
   "metadata": {},
   "outputs": [],
   "source": [
    "det.ifo.strain_data.minimum_frequency = 20"
   ]
  },
  {
   "cell_type": "code",
   "execution_count": 72,
   "metadata": {},
   "outputs": [],
   "source": [
    "det.ifo.minimum_frequency = 20"
   ]
  },
  {
   "cell_type": "code",
   "execution_count": 84,
   "metadata": {},
   "outputs": [
    {
     "data": {
      "text/plain": [
       "False"
      ]
     },
     "execution_count": 84,
     "metadata": {},
     "output_type": "execute_result"
    }
   ],
   "source": [
    "det.ifo.strain_data._frequency_mask_updated"
   ]
  },
  {
   "cell_type": "code",
   "execution_count": 67,
   "metadata": {},
   "outputs": [
    {
     "data": {
      "text/plain": [
       "Interferometer(name='H1', power_spectral_density=PowerSpectralDensity(psd_file='/Users/herb/miniconda3/envs/gwtoolkit/lib/python3.8/site-packages/bilby/gw/detector/noise_curves/AdV_psd.txt', asd_file='/Users/herb/miniconda3/envs/gwtoolkit/lib/python3.8/site-packages/bilby/gw/detector/noise_curves/aLIGO_O4_high_asd.txt'), minimum_frequency=20.0, maximum_frequency=1024.0, length=4.0, latitude=46.45514666666667, longitude=-119.4076571388889, elevation=142.554, xarm_azimuth=125.9994, yarm_azimuth=215.9994, xarm_tilt=-0.0006195, yarm_tilt=1.25e-05)"
      ]
     },
     "execution_count": 67,
     "metadata": {},
     "output_type": "execute_result"
    }
   ],
   "source": [
    "det.ifo"
   ]
  },
  {
   "cell_type": "code",
   "execution_count": 63,
   "metadata": {},
   "outputs": [
    {
     "data": {
      "text/plain": [
       "(4097,)"
      ]
     },
     "execution_count": 63,
     "metadata": {},
     "output_type": "execute_result"
    }
   ],
   "source": [
    "det.ifo.frequency_array.shape"
   ]
  },
  {
   "cell_type": "code",
   "execution_count": 602,
   "metadata": {},
   "outputs": [
    {
     "name": "stderr",
     "output_type": "stream",
     "text": [
      "/Users/herb/miniconda3/envs/gwtoolkit/lib/python3.8/site-packages/matplotlib/cbook/__init__.py:1333: ComplexWarning: Casting complex values to real discards the imaginary part\n",
      "  return np.asarray(x, float)\n"
     ]
    },
    {
     "data": {
      "text/plain": [
       "[<matplotlib.lines.Line2D at 0x7ffaa0959af0>]"
      ]
     },
     "execution_count": 602,
     "metadata": {},
     "output_type": "execute_result"
    },
    {
     "data": {
      "image/png": "[encoded data removed]",
      "text/plain": [
       "<Figure size 432x288 with 1 Axes>"
      ]
     },
     "metadata": {
      "needs_background": "light"
     },
     "output_type": "display_data"
    }
   ],
   "source": [
    "plt.plot(_)"
   ]
  },
  {
   "cell_type": "code",
   "execution_count": 85,
   "metadata": {},
   "outputs": [
    {
     "name": "stdout",
     "output_type": "stream",
     "text": [
      "Interferometer(name='H1',\n",
      "power_spectral_density=PowerSpectralDensity(psd_file='/Users/herb/miniconda3/envs/gwtoolkit/lib/python3.8/site-packages/bilby/gw/detector/noise_curves/AdV_psd.txt',\n",
      "asd_file='/Users/herb/miniconda3/envs/gwtoolkit/lib/python3.8/site-packages/bilby/gw/detector/noise_curves/aLIGO_O4_high_asd.txt'),\n",
      "minimum_frequency=20.0,\n",
      "maximum_frequency=1024.0,\n",
      "length=4.0,\n",
      "latitude=46.45514666666667,\n",
      "longitude=-119.4076571388889,\n",
      "elevation=142.554,\n",
      "xarm_azimuth=125.9994,\n",
      "yarm_azimuth=215.9994,\n",
      "xarm_tilt=-0.0006195,\n",
      "yarm_tilt=1.25e-05)\n"
     ]
    }
   ],
   "source": [
    "det._show_detectors()"
   ]
  },
  {
   "cell_type": "code",
   "execution_count": null,
   "metadata": {},
   "outputs": [],
   "source": []
  },
  {
   "cell_type": "code",
   "execution_count": 9,
   "metadata": {},
   "outputs": [],
   "source": [
    "wfd.priors.append_uniform_prior('geocent_time', 100, 101, latex_label='$t_c$', unit='$s$')"
   ]
  },
  {
   "cell_type": "code",
   "execution_count": 35,
   "metadata": {},
   "outputs": [
    {
     "data": {
      "text/plain": [
       "{'plus': array([0.+0.j, 0.+0.j, 0.+0.j, ..., 0.+0.j, 0.+0.j, 0.+0.j]),\n",
       " 'cross': array([0.-0.j, 0.-0.j, 0.-0.j, ..., 0.-0.j, 0.-0.j, 0.-0.j])}"
      ]
     },
     "execution_count": 35,
     "metadata": {},
     "output_type": "execute_result"
    }
   ],
   "source": [
    "wfs = Source(base='bilby', conversion='BBH', sampling_frequency=2048, duration=4)\n",
    "param = wfd.prior.sample()\n",
    "wfg = wfs.waveform_generator(param)\n",
    "wfg.frequency_domain_strain()"
   ]
  },
  {
   "cell_type": "code",
   "execution_count": 36,
   "metadata": {},
   "outputs": [],
   "source": [
    "det = Detector(name='H1', sampling_frequency=2048, duration=4, start_time=98)\n",
    "signal = det.get_detector_response(wfg.frequency_domain_strain(), param)"
   ]
  },
  {
   "cell_type": "code",
   "execution_count": 50,
   "metadata": {},
   "outputs": [
    {
     "data": {
      "text/plain": [
       "dtype('complex128')"
      ]
     },
     "execution_count": 50,
     "metadata": {},
     "output_type": "execute_result"
    }
   ],
   "source": [
    "wfg.frequency_domain_strain()['plus'].dtype"
   ]
  },
  {
   "cell_type": "code",
   "execution_count": 37,
   "metadata": {},
   "outputs": [
    {
     "data": {
      "text/plain": [
       "array([0.00000000e+00+0.0000000e+00j, 0.00000000e+00+0.0000000e+00j,\n",
       "       0.00000000e+00+0.0000000e+00j, ..., 3.24743483e-25-1.2808560e-24j,\n",
       "       1.59259009e-24+1.5953396e-25j, 0.00000000e+00+0.0000000e+00j])"
      ]
     },
     "execution_count": 37,
     "metadata": {},
     "output_type": "execute_result"
    }
   ],
   "source": [
    "det.update()\n",
    "noise = det.frequency_domain_strain\n",
    "signal + noise"
   ]
  },
  {
   "cell_type": "code",
   "execution_count": 40,
   "metadata": {},
   "outputs": [
    {
     "data": {
      "text/plain": [
       "array([ 0.+0.j,  0.+0.j,  0.+0.j, ...,  0.+0.j, -0.+0.j,  0.+0.j])"
      ]
     },
     "execution_count": 40,
     "metadata": {},
     "output_type": "execute_result"
    }
   ],
   "source": [
    "signal"
   ]
  },
  {
   "cell_type": "code",
   "execution_count": 38,
   "metadata": {},
   "outputs": [
    {
     "data": {
      "text/plain": [
       "11.892456616771579"
      ]
     },
     "execution_count": 38,
     "metadata": {},
     "output_type": "execute_result"
    }
   ],
   "source": [
    "det.update()\n",
    "np.sqrt(det.ifo.optimal_snr_squared(signal).real)"
   ]
  },
  {
   "cell_type": "code",
   "execution_count": 14,
   "metadata": {},
   "outputs": [
    {
     "data": {
      "text/plain": [
       "(0.6911335649521316+0.7562782770149682j)"
      ]
     },
     "execution_count": 14,
     "metadata": {},
     "output_type": "execute_result"
    }
   ],
   "source": [
    "# det.update()\n",
    "det.ifo.matched_filter_snr(signal)"
   ]
  },
  {
   "cell_type": "code",
   "execution_count": 30,
   "metadata": {},
   "outputs": [
    {
     "data": {
      "text/plain": [
       "(4097,)"
      ]
     },
     "execution_count": 30,
     "metadata": {},
     "output_type": "execute_result"
    }
   ],
   "source": [
    "det.frequency_domain_strain.shape"
   ]
  },
  {
   "cell_type": "code",
   "execution_count": 33,
   "metadata": {},
   "outputs": [
    {
     "data": {
      "text/plain": [
       "array([ 0.        +0.j        ,  0.        +0.j        ,\n",
       "        0.        +0.j        , ..., -0.45094479-0.32583294j,\n",
       "       -1.29005841-1.77015593j,  0.        +0.j        ])"
      ]
     },
     "execution_count": 33,
     "metadata": {},
     "output_type": "execute_result"
    }
   ],
   "source": [
    "det.whitened_frequency_domain_strain()"
   ]
  },
  {
   "cell_type": "code",
   "execution_count": null,
   "metadata": {},
   "outputs": [],
   "source": []
  },
  {
   "cell_type": "code",
   "execution_count": null,
   "metadata": {},
   "outputs": [],
   "source": []
  },
  {
   "cell_type": "code",
   "execution_count": null,
   "metadata": {},
   "outputs": [],
   "source": []
  },
  {
   "cell_type": "code",
   "execution_count": null,
   "metadata": {},
   "outputs": [],
   "source": []
  },
  {
   "cell_type": "markdown",
   "metadata": {},
   "source": [
    "## test bilby"
   ]
  },
  {
   "cell_type": "code",
   "execution_count": 36,
   "metadata": {},
   "outputs": [],
   "source": [
    "import bilby\n",
    "sampling_frequency = 4096\n",
    "duration = 8\n",
    "injection_parameters = dict(\n",
    "    mass_1=36., mass_2=29., \n",
    "#     mass_ratio=0.5, chirp_mass=29,\n",
    "    a_1=0.4, a_2=0.3, tilt_1=0.5, tilt_2=1.0,\n",
    "    phi_12=1.7, phi_jl=0.3, luminosity_distance=2000., theta_jn=0.4, psi=2.659,\n",
    "    phase=1.3, geocent_time=1126259642.413, ra=1.375, dec=-1.2108)"
   ]
  },
  {
   "cell_type": "code",
   "execution_count": 37,
   "metadata": {},
   "outputs": [],
   "source": [
    "# Fixed arguments passed into the source model\n",
    "waveform_arguments = dict(waveform_approximant='IMRPhenomPv2',\n",
    "                          reference_frequency=50., \n",
    "                          minimum_frequency=20.)"
   ]
  },
  {
   "cell_type": "code",
   "execution_count": 38,
   "metadata": {},
   "outputs": [],
   "source": [
    "# Create the waveform_generator using a LAL BinaryBlackHole source function\n",
    "# the generator will convert all the parameters\n",
    "waveform_generator = bilby.gw.WaveformGenerator(\n",
    "    parameters=injection_parameters,\n",
    "    duration=duration, sampling_frequency=sampling_frequency,\n",
    "    frequency_domain_source_model=bilby.gw.source.lal_binary_black_hole,\n",
    "    parameter_conversion=bilby.gw.conversion.convert_to_lal_binary_black_hole_parameters,\n",
    "    waveform_arguments=waveform_arguments)"
   ]
  },
  {
   "cell_type": "code",
   "execution_count": 39,
   "metadata": {},
   "outputs": [
    {
     "data": {
      "text/plain": [
       "[{'plus': array([0.-0.j, 0.-0.j, 0.-0.j, ..., 0.-0.j, 0.-0.j, 0.-0.j]),\n",
       "  'cross': array([0.+0.j, 0.+0.j, 0.+0.j, ..., 0.+0.j, 0.+0.j, 0.+0.j])},\n",
       " {'plus': array([0.-0.j, 0.-0.j, 0.-0.j, ..., 0.-0.j, 0.-0.j, 0.-0.j]),\n",
       "  'cross': array([0.+0.j, 0.+0.j, 0.+0.j, ..., 0.+0.j, 0.+0.j, 0.+0.j])}]"
      ]
     },
     "execution_count": 39,
     "metadata": {},
     "output_type": "execute_result"
    }
   ],
   "source": [
    "# Set up interferometers.  In this case we'll use two interferometers\n",
    "# (LIGO-Hanford (H1), LIGO-Livingston (L1). These default to their design\n",
    "# sensitivity\n",
    "ifos = bilby.gw.detector.InterferometerList(['H1', 'L1'])\n",
    "ifos.set_strain_data_from_power_spectral_densities(\n",
    "    sampling_frequency=sampling_frequency, duration=duration,\n",
    "    start_time=injection_parameters['geocent_time'] - 3)\n",
    "\n",
    "ifos.inject_signal(waveform_generator=waveform_generator,\n",
    "                   parameters=injection_parameters)\n"
   ]
  },
  {
   "cell_type": "code",
   "execution_count": 42,
   "metadata": {},
   "outputs": [
    {
     "data": {
      "text/plain": [
       "{'optimal_SNR': 11.774637533551406,\n",
       " 'matched_filter_SNR': (13.39358934657477+1.5809327398727067j),\n",
       " 'parameters': {'mass_1': 36.0,\n",
       "  'mass_2': 29.0,\n",
       "  'a_1': 0.4,\n",
       "  'a_2': 0.3,\n",
       "  'tilt_1': 0.5,\n",
       "  'tilt_2': 1.0,\n",
       "  'phi_12': 1.7,\n",
       "  'phi_jl': 0.3,\n",
       "  'luminosity_distance': 2000.0,\n",
       "  'theta_jn': 0.4,\n",
       "  'psi': 2.659,\n",
       "  'phase': 1.3,\n",
       "  'geocent_time': 1126259642.413,\n",
       "  'ra': 1.375,\n",
       "  'dec': -1.2108}}"
      ]
     },
     "execution_count": 42,
     "metadata": {},
     "output_type": "execute_result"
    }
   ],
   "source": [
    "ifos[0].meta_data"
   ]
  },
  {
   "cell_type": "code",
   "execution_count": 43,
   "metadata": {},
   "outputs": [
    {
     "name": "stdout",
     "output_type": "stream",
     "text": [
      "No prior given, using default BBH priors.\n"
     ]
    }
   ],
   "source": [
    "wfd = WaveformDataset(sampling_frequency=4096, duration=8, conversion='BBH')\n",
    "waveform_arguments = dict(waveform_approximant='IMRPhenomPv2',\n",
    "                          reference_frequency=50., \n",
    "                          minimum_frequency=20.)\n",
    "wfd.load_prior_source_detector(#filename='../gwtoolkit/gw/prior_files/default.prior',\n",
    "    base='bilby',\n",
    "    dets=['H1', 'L1'], \n",
    "    waveform_arguments=waveform_arguments)"
   ]
  },
  {
   "cell_type": "code",
   "execution_count": 57,
   "metadata": {},
   "outputs": [
    {
     "name": "stderr",
     "output_type": "stream",
     "text": [
      "100%|█████████████████████████████████████████████████████████████████████████████████████████████████████████████████████████████████████████████████████████████████████████| 1/1 [00:00<00:00, 18.03it/s]\n"
     ]
    },
    {
     "data": {
      "text/plain": [
       "{'mass_ratio': array([0.42962267]),\n",
       " 'chirp_mass': array([28.03758328]),\n",
       " 'luminosity_distance': array([4278.91215043]),\n",
       " 'dec': array([-0.30952457]),\n",
       " 'ra': array([5.0379718]),\n",
       " 'theta_jn': array([1.00178513]),\n",
       " 'psi': array([2.73461423]),\n",
       " 'phase': array([3.2801195]),\n",
       " 'a_1': array([0.32018444]),\n",
       " 'a_2': array([0.42783432]),\n",
       " 'tilt_1': array([1.75864584]),\n",
       " 'tilt_2': array([1.78939609]),\n",
       " 'phi_12': array([0.78528744]),\n",
       " 'phi_jl': array([5.45281429]),\n",
       " 'geocent_time': array([1.12625964e+09]),\n",
       " 'matched_filter_snr': array([[-0.28133044-2.8676481j , -0.2554906 +0.93297327j]],\n",
       "       dtype=complex64),\n",
       " 'optimal_snr': array([[30.        , 47.93426129]])}"
      ]
     },
     "execution_count": 57,
     "metadata": {},
     "output_type": "execute_result"
    }
   ],
   "source": [
    "_, meta = wfd.frequency_waveform_response_block(1, injection_parameters['geocent_time'] - 3, \n",
    "                                      [injection_parameters['geocent_time']-2, injection_parameters['geocent_time']-1],\n",
    "                                      (0, 30))\n",
    "meta"
   ]
  },
  {
   "cell_type": "code",
   "execution_count": null,
   "metadata": {},
   "outputs": [],
   "source": []
  },
  {
   "cell_type": "code",
   "execution_count": null,
   "metadata": {},
   "outputs": [],
   "source": []
  },
  {
   "cell_type": "code",
   "execution_count": 3,
   "metadata": {},
   "outputs": [],
   "source": [
    "import numpy as np\n",
    "import pandas as pd\n",
    "import urllib"
   ]
  },
  {
   "cell_type": "code",
   "execution_count": 4,
   "metadata": {},
   "outputs": [],
   "source": [
    "def CatchGPS(event):\n",
    "    \n",
    "    # 这部分代码会从网络上自动下载 JSON 数据\n",
    "\n",
    "    f = urllib.request.urlopen('https://www.gw-openscience.org/eventapi/json/allevents/')\n",
    "    allevents = json.loads(f.read())['events']\n",
    "\n",
    "    event_version = sorted([key for key, value in allevents.items() if event in key.split('-')[0]], \n",
    "                           key=lambda x: int(x.split('-')[-1][-1]), reverse=True)[0]\n",
    "    assert allevents[event_version]['commonName'] == event\n",
    "\n",
    "    # detectors\n",
    "    f = urllib.request.urlopen(allevents[event_version]['jsonurl'])\n",
    "    events_meta = json.loads(f.read())['events'][event_version]\n",
    "\n",
    "    t_event = events_meta['GPS'] # GPS time of coalescence\n",
    "    print(t_event)    \n",
    "    detectors=sorted(list(set([meta['detector'] for meta in events_meta['strain']])))\n",
    "    print(detectors)\n",
    "    return t_event, detectors, events_meta"
   ]
  },
  {
   "cell_type": "code",
   "execution_count": 20,
   "metadata": {},
   "outputs": [],
   "source": [
    "# event = 'GW150914'\n",
    "# f = urllib.request.urlopen('https://www.gw-openscience.org/eventapi/json/allevents/')\n",
    "# allevents = json.loads(f.read())['events']"
   ]
  },
  {
   "cell_type": "code",
   "execution_count": null,
   "metadata": {},
   "outputs": [],
   "source": []
  },
  {
   "cell_type": "code",
   "execution_count": 21,
   "metadata": {},
   "outputs": [],
   "source": [
    "# event = 'GW150914'\n",
    "# t_event, detectors, events_meta = CatchGPS(event) "
   ]
  },
  {
   "cell_type": "code",
   "execution_count": null,
   "metadata": {},
   "outputs": [],
   "source": []
  },
  {
   "cell_type": "code",
   "execution_count": null,
   "metadata": {},
   "outputs": [],
   "source": []
  },
  {
   "cell_type": "code",
   "execution_count": null,
   "metadata": {},
   "outputs": [],
   "source": []
  },
  {
   "cell_type": "code",
   "execution_count": null,
   "metadata": {},
   "outputs": [],
   "source": []
  }
 ],
 "metadata": {
  "interpreter": {
   "hash": "ea3ac0de0f624daa4535cd5c02082fff7e7488e28b91543de09c90b968db347d"
  },
  "kernelspec": {
   "display_name": "Python 3 (ipykernel)",
   "language": "python",
   "name": "python3"
  },
  "language_info": {
   "codemirror_mode": {
    "name": "ipython",
    "version": 3
   },
   "file_extension": ".py",
   "mimetype": "text/x-python",
   "name": "python",
   "nbconvert_exporter": "python",
   "pygments_lexer": "ipython3",
   "version": "3.8.12"
  }
 },
 "nbformat": 4,
 "nbformat_minor": 4
}
